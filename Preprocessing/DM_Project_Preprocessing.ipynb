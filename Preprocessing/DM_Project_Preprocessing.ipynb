{
  "cells": [
    {
      "cell_type": "code",
      "execution_count": null,
      "id": "351a5d65",
      "metadata": {
        "id": "351a5d65"
      },
      "outputs": [],
      "source": [
        "import pandas as pd\n",
        "import numpy as np\n",
        "from sklearn.linear_model import LinearRegression\n",
        "import matplotlib.pyplot as plt\n",
        "import seaborn as sns\n",
        "from fuzzywuzzy import fuzz"
      ]
    },
    {
      "cell_type": "code",
      "source": [
        "!pip install pyspark"
      ],
      "metadata": {
        "colab": {
          "base_uri": "https://localhost:8080/"
        },
        "id": "HTaO1fXEsB0E",
        "outputId": "045e8a08-341e-4ba7-cc43-9cd62eeffa56"
      },
      "id": "HTaO1fXEsB0E",
      "execution_count": null,
      "outputs": [
        {
          "output_type": "stream",
          "name": "stdout",
          "text": [
            "Looking in indexes: https://pypi.org/simple, https://us-python.pkg.dev/colab-wheels/public/simple/\n",
            "Requirement already satisfied: pyspark in /usr/local/lib/python3.9/dist-packages (3.4.0)\n",
            "Requirement already satisfied: py4j==0.10.9.7 in /usr/local/lib/python3.9/dist-packages (from pyspark) (0.10.9.7)\n"
          ]
        }
      ]
    },
    {
      "cell_type": "code",
      "source": [
        "import pyspark"
      ],
      "metadata": {
        "id": "eTCtam2hsHdO"
      },
      "id": "eTCtam2hsHdO",
      "execution_count": null,
      "outputs": []
    },
    {
      "cell_type": "code",
      "execution_count": null,
      "id": "2fbfd5fe",
      "metadata": {
        "id": "2fbfd5fe",
        "outputId": "7aa5e6f9-a913-4f1d-a961-a8bb16ccb92f",
        "colab": {
          "base_uri": "https://localhost:8080/"
        }
      },
      "outputs": [
        {
          "output_type": "stream",
          "name": "stderr",
          "text": [
            "<ipython-input-998-d56d82000560>:1: DtypeWarning: Columns (5,14) have mixed types. Specify dtype option on import or set low_memory=False.\n",
            "  grad_cafe_df = pd.read_csv(\"Final.csv\")\n"
          ]
        }
      ],
      "source": [
        "grad_cafe_df = pd.read_csv(\"Final.csv\")"
      ]
    },
    {
      "cell_type": "code",
      "execution_count": null,
      "id": "2cf38e33",
      "metadata": {
        "id": "2cf38e33",
        "outputId": "f4914797-e20d-4845-f0ee-aabd052262fa",
        "colab": {
          "base_uri": "https://localhost:8080/"
        }
      },
      "outputs": [
        {
          "output_type": "execute_result",
          "data": {
            "text/plain": [
              "(485250, 20)"
            ]
          },
          "metadata": {},
          "execution_count": 999
        }
      ],
      "source": [
        "grad_cafe_df.shape"
      ]
    },
    {
      "cell_type": "code",
      "execution_count": null,
      "id": "7d7fa3f8",
      "metadata": {
        "id": "7d7fa3f8"
      },
      "outputs": [],
      "source": [
        "kaggle_df = pd.read_csv(\"original_data.csv\")"
      ]
    },
    {
      "cell_type": "code",
      "execution_count": null,
      "id": "5afe4b4a",
      "metadata": {
        "id": "5afe4b4a",
        "outputId": "cce65e2b-ea6d-40c0-810d-1058624a2add",
        "colab": {
          "base_uri": "https://localhost:8080/"
        }
      },
      "outputs": [
        {
          "output_type": "execute_result",
          "data": {
            "text/plain": [
              "(53644, 26)"
            ]
          },
          "metadata": {},
          "execution_count": 1001
        }
      ],
      "source": [
        "kaggle_df.shape"
      ]
    },
    {
      "cell_type": "code",
      "execution_count": 4,
      "id": "18e1398e",
      "metadata": {
        "id": "18e1398e"
      },
      "outputs": [],
      "source": [
        "gre_score_conversion = pd.read_csv(\"score.csv\")"
      ]
    },
    {
      "cell_type": "code",
      "execution_count": 5,
      "id": "b10a5514",
      "metadata": {
        "id": "b10a5514",
        "outputId": "4cc0f602-d61f-4ec2-b1dc-03004c2a2c5a",
        "colab": {
          "base_uri": "https://localhost:8080/",
          "height": 423
        }
      },
      "outputs": [
        {
          "output_type": "execute_result",
          "data": {
            "text/plain": [
              "    old  newQ  newV\n",
              "0   800   166   170\n",
              "1   790   164   170\n",
              "2   780   163   170\n",
              "3   770   161   170\n",
              "4   760   160   170\n",
              "..  ...   ...   ...\n",
              "56  240   133   131\n",
              "57  230   132   130\n",
              "58  220   132   130\n",
              "59  210   131   130\n",
              "60  200   131   130\n",
              "\n",
              "[61 rows x 3 columns]"
            ],
            "text/html": [
              "\n",
              "  <div id=\"df-8acd6b1a-3508-415d-8f15-9f4fc00fdf79\">\n",
              "    <div class=\"colab-df-container\">\n",
              "      <div>\n",
              "<style scoped>\n",
              "    .dataframe tbody tr th:only-of-type {\n",
              "        vertical-align: middle;\n",
              "    }\n",
              "\n",
              "    .dataframe tbody tr th {\n",
              "        vertical-align: top;\n",
              "    }\n",
              "\n",
              "    .dataframe thead th {\n",
              "        text-align: right;\n",
              "    }\n",
              "</style>\n",
              "<table border=\"1\" class=\"dataframe\">\n",
              "  <thead>\n",
              "    <tr style=\"text-align: right;\">\n",
              "      <th></th>\n",
              "      <th>old</th>\n",
              "      <th>newQ</th>\n",
              "      <th>newV</th>\n",
              "    </tr>\n",
              "  </thead>\n",
              "  <tbody>\n",
              "    <tr>\n",
              "      <th>0</th>\n",
              "      <td>800</td>\n",
              "      <td>166</td>\n",
              "      <td>170</td>\n",
              "    </tr>\n",
              "    <tr>\n",
              "      <th>1</th>\n",
              "      <td>790</td>\n",
              "      <td>164</td>\n",
              "      <td>170</td>\n",
              "    </tr>\n",
              "    <tr>\n",
              "      <th>2</th>\n",
              "      <td>780</td>\n",
              "      <td>163</td>\n",
              "      <td>170</td>\n",
              "    </tr>\n",
              "    <tr>\n",
              "      <th>3</th>\n",
              "      <td>770</td>\n",
              "      <td>161</td>\n",
              "      <td>170</td>\n",
              "    </tr>\n",
              "    <tr>\n",
              "      <th>4</th>\n",
              "      <td>760</td>\n",
              "      <td>160</td>\n",
              "      <td>170</td>\n",
              "    </tr>\n",
              "    <tr>\n",
              "      <th>...</th>\n",
              "      <td>...</td>\n",
              "      <td>...</td>\n",
              "      <td>...</td>\n",
              "    </tr>\n",
              "    <tr>\n",
              "      <th>56</th>\n",
              "      <td>240</td>\n",
              "      <td>133</td>\n",
              "      <td>131</td>\n",
              "    </tr>\n",
              "    <tr>\n",
              "      <th>57</th>\n",
              "      <td>230</td>\n",
              "      <td>132</td>\n",
              "      <td>130</td>\n",
              "    </tr>\n",
              "    <tr>\n",
              "      <th>58</th>\n",
              "      <td>220</td>\n",
              "      <td>132</td>\n",
              "      <td>130</td>\n",
              "    </tr>\n",
              "    <tr>\n",
              "      <th>59</th>\n",
              "      <td>210</td>\n",
              "      <td>131</td>\n",
              "      <td>130</td>\n",
              "    </tr>\n",
              "    <tr>\n",
              "      <th>60</th>\n",
              "      <td>200</td>\n",
              "      <td>131</td>\n",
              "      <td>130</td>\n",
              "    </tr>\n",
              "  </tbody>\n",
              "</table>\n",
              "<p>61 rows × 3 columns</p>\n",
              "</div>\n",
              "      <button class=\"colab-df-convert\" onclick=\"convertToInteractive('df-8acd6b1a-3508-415d-8f15-9f4fc00fdf79')\"\n",
              "              title=\"Convert this dataframe to an interactive table.\"\n",
              "              style=\"display:none;\">\n",
              "        \n",
              "  <svg xmlns=\"http://www.w3.org/2000/svg\" height=\"24px\"viewBox=\"0 0 24 24\"\n",
              "       width=\"24px\">\n",
              "    <path d=\"M0 0h24v24H0V0z\" fill=\"none\"/>\n",
              "    <path d=\"M18.56 5.44l.94 2.06.94-2.06 2.06-.94-2.06-.94-.94-2.06-.94 2.06-2.06.94zm-11 1L8.5 8.5l.94-2.06 2.06-.94-2.06-.94L8.5 2.5l-.94 2.06-2.06.94zm10 10l.94 2.06.94-2.06 2.06-.94-2.06-.94-.94-2.06-.94 2.06-2.06.94z\"/><path d=\"M17.41 7.96l-1.37-1.37c-.4-.4-.92-.59-1.43-.59-.52 0-1.04.2-1.43.59L10.3 9.45l-7.72 7.72c-.78.78-.78 2.05 0 2.83L4 21.41c.39.39.9.59 1.41.59.51 0 1.02-.2 1.41-.59l7.78-7.78 2.81-2.81c.8-.78.8-2.07 0-2.86zM5.41 20L4 18.59l7.72-7.72 1.47 1.35L5.41 20z\"/>\n",
              "  </svg>\n",
              "      </button>\n",
              "      \n",
              "  <style>\n",
              "    .colab-df-container {\n",
              "      display:flex;\n",
              "      flex-wrap:wrap;\n",
              "      gap: 12px;\n",
              "    }\n",
              "\n",
              "    .colab-df-convert {\n",
              "      background-color: #E8F0FE;\n",
              "      border: none;\n",
              "      border-radius: 50%;\n",
              "      cursor: pointer;\n",
              "      display: none;\n",
              "      fill: #1967D2;\n",
              "      height: 32px;\n",
              "      padding: 0 0 0 0;\n",
              "      width: 32px;\n",
              "    }\n",
              "\n",
              "    .colab-df-convert:hover {\n",
              "      background-color: #E2EBFA;\n",
              "      box-shadow: 0px 1px 2px rgba(60, 64, 67, 0.3), 0px 1px 3px 1px rgba(60, 64, 67, 0.15);\n",
              "      fill: #174EA6;\n",
              "    }\n",
              "\n",
              "    [theme=dark] .colab-df-convert {\n",
              "      background-color: #3B4455;\n",
              "      fill: #D2E3FC;\n",
              "    }\n",
              "\n",
              "    [theme=dark] .colab-df-convert:hover {\n",
              "      background-color: #434B5C;\n",
              "      box-shadow: 0px 1px 3px 1px rgba(0, 0, 0, 0.15);\n",
              "      filter: drop-shadow(0px 1px 2px rgba(0, 0, 0, 0.3));\n",
              "      fill: #FFFFFF;\n",
              "    }\n",
              "  </style>\n",
              "\n",
              "      <script>\n",
              "        const buttonEl =\n",
              "          document.querySelector('#df-8acd6b1a-3508-415d-8f15-9f4fc00fdf79 button.colab-df-convert');\n",
              "        buttonEl.style.display =\n",
              "          google.colab.kernel.accessAllowed ? 'block' : 'none';\n",
              "\n",
              "        async function convertToInteractive(key) {\n",
              "          const element = document.querySelector('#df-8acd6b1a-3508-415d-8f15-9f4fc00fdf79');\n",
              "          const dataTable =\n",
              "            await google.colab.kernel.invokeFunction('convertToInteractive',\n",
              "                                                     [key], {});\n",
              "          if (!dataTable) return;\n",
              "\n",
              "          const docLinkHtml = 'Like what you see? Visit the ' +\n",
              "            '<a target=\"_blank\" href=https://colab.research.google.com/notebooks/data_table.ipynb>data table notebook</a>'\n",
              "            + ' to learn more about interactive tables.';\n",
              "          element.innerHTML = '';\n",
              "          dataTable['output_type'] = 'display_data';\n",
              "          await google.colab.output.renderOutput(dataTable, element);\n",
              "          const docLink = document.createElement('div');\n",
              "          docLink.innerHTML = docLinkHtml;\n",
              "          element.appendChild(docLink);\n",
              "        }\n",
              "      </script>\n",
              "    </div>\n",
              "  </div>\n",
              "  "
            ]
          },
          "metadata": {},
          "execution_count": 5
        }
      ],
      "source": [
        "gre_score_conversion"
      ]
    },
    {
      "cell_type": "code",
      "execution_count": null,
      "id": "5e10e529",
      "metadata": {
        "id": "5e10e529"
      },
      "outputs": [],
      "source": [
        "ym_grad_df = pd.read_csv(\"Decisions_final_ymgrad.csv\", encoding = 'ISO-8859-1')"
      ]
    },
    {
      "cell_type": "code",
      "execution_count": null,
      "id": "8255e31f",
      "metadata": {
        "id": "8255e31f",
        "outputId": "3123452d-0fda-433e-e6bb-ce660354bfcf",
        "colab": {
          "base_uri": "https://localhost:8080/"
        }
      },
      "outputs": [
        {
          "output_type": "execute_result",
          "data": {
            "text/plain": [
              "(16308, 66)"
            ]
          },
          "metadata": {},
          "execution_count": 1005
        }
      ],
      "source": [
        "ym_grad_df.shape"
      ]
    },
    {
      "cell_type": "code",
      "execution_count": null,
      "id": "68e73476",
      "metadata": {
        "id": "68e73476"
      },
      "outputs": [],
      "source": [
        "ym_grad_df = ym_grad_df.drop_duplicates()"
      ]
    },
    {
      "cell_type": "code",
      "execution_count": null,
      "id": "b8f593af",
      "metadata": {
        "id": "b8f593af",
        "outputId": "32a5f044-979d-4643-c5e4-19f819e80dcb",
        "colab": {
          "base_uri": "https://localhost:8080/"
        }
      },
      "outputs": [
        {
          "output_type": "execute_result",
          "data": {
            "text/plain": [
              "(15060, 66)"
            ]
          },
          "metadata": {},
          "execution_count": 1007
        }
      ],
      "source": [
        "ym_grad_df.shape"
      ]
    },
    {
      "cell_type": "code",
      "execution_count": null,
      "id": "1d1c2b0d",
      "metadata": {
        "id": "1d1c2b0d"
      },
      "outputs": [],
      "source": [
        "grad_cafe_df = grad_cafe_df.drop(columns=grad_cafe_df.columns[0])"
      ]
    },
    {
      "cell_type": "code",
      "execution_count": null,
      "id": "fc463424",
      "metadata": {
        "id": "fc463424"
      },
      "outputs": [],
      "source": [
        "grad_cafe_df = grad_cafe_df.drop(columns=grad_cafe_df.columns[0])"
      ]
    },
    {
      "cell_type": "code",
      "source": [
        "grad_cafe_df"
      ],
      "metadata": {
        "colab": {
          "base_uri": "https://localhost:8080/",
          "height": 658
        },
        "id": "xNKK4UOxchBH",
        "outputId": "fd08e6ed-05f4-41c6-9a67-40f8afda4395"
      },
      "id": "xNKK4UOxchBH",
      "execution_count": null,
      "outputs": [
        {
          "output_type": "execute_result",
          "data": {
            "text/plain": [
              "                                          0  \\\n",
              "0                    University Of Waterloo   \n",
              "1                   Northeastern University   \n",
              "2                The University Of Auckland   \n",
              "3                        Radford University   \n",
              "4                  University Of Chittagong   \n",
              "...                                     ...   \n",
              "485245                    Temple University   \n",
              "485246                    Temple University   \n",
              "485247            Michigan State University   \n",
              "485248          Ohio State University (OSU)   \n",
              "485249  Pennsylvania State University (PSU)   \n",
              "\n",
              "                                            1      2    3          4        5  \\\n",
              "0                  Systems Design Engineering     MS  NaN   Accepted  Website   \n",
              "1                      Electrical Engineering    PhD  F19   Rejected  Website   \n",
              "2       Electrical And Electronic Engineering     MS  NaN   Accepted  Website   \n",
              "3                 Counseling Psychology PsyD.  Other  F19   Accepted    Phone   \n",
              "4                            Computer Science     MS  NaN        NaN    Other   \n",
              "...                                       ...    ...  ...        ...      ...   \n",
              "485245                    Clinical Psychology  Other  NaN  Interview   E-mail   \n",
              "485246                    Clinical Psychology  Other  NaN  Interview   E-mail   \n",
              "485247                          Communication    PhD  NaN   Accepted   E-mail   \n",
              "485248                            Social Work     MS  NaN   Accepted    Phone   \n",
              "485249        Industrial Engineering -masters  Other  NaN   Accepted   E-mail   \n",
              "\n",
              "                     6             7    8      9     10   11    12  13  \\\n",
              "0         (1, 7, 2019)  1.561964e+09  NaN    NaN    NaN  NaN   NaN NaN   \n",
              "1         (8, 7, 2019)  1.562569e+09  NaN    NaN    NaN  NaN   NaN NaN   \n",
              "2        (19, 6, 2019)  1.560928e+09  NaN    NaN    NaN  NaN   NaN NaN   \n",
              "3         (4, 3, 2019)  1.551686e+09  NaN    NaN    NaN  NaN   NaN NaN   \n",
              "4         (9, 7, 2019)  1.562656e+09  3.2  163.0  168.0  4.0  True NaN   \n",
              "...                ...           ...  ...    ...    ...  ...   ...  ..   \n",
              "485245   (20, 1, 2006)  1.137744e+09  NaN    NaN    NaN  NaN   NaN NaN   \n",
              "485246   (19, 1, 2006)  1.137658e+09  NaN    NaN    NaN  NaN   NaN NaN   \n",
              "485247  (20, 12, 2005)  1.135066e+09  NaN    NaN    NaN  NaN   NaN NaN   \n",
              "485248  (16, 11, 2005)  1.132128e+09  NaN    NaN    NaN  NaN   NaN NaN   \n",
              "485249   (10, 2, 2006)  1.139558e+09  NaN    NaN    NaN  NaN   NaN NaN   \n",
              "\n",
              "                   14             15          16  \\\n",
              "0       International  (10, 7, 2019)  1562742000   \n",
              "1                 NaN  (10, 7, 2019)  1562742000   \n",
              "2       International   (9, 7, 2019)  1562655600   \n",
              "3            American   (9, 7, 2019)  1562655600   \n",
              "4       International   (9, 7, 2019)  1562655600   \n",
              "...               ...            ...         ...   \n",
              "485245            NaN  (10, 2, 2006)  1139558400   \n",
              "485246            NaN  (10, 2, 2006)  1139558400   \n",
              "485247            NaN  (10, 2, 2006)  1139558400   \n",
              "485248            NaN  (10, 2, 2006)  1139558400   \n",
              "485249            NaN  (10, 2, 2006)  1139558400   \n",
              "\n",
              "                                                       17  \n",
              "0                                                     NaN  \n",
              "1                                        Got email today!  \n",
              "2       Top Student\\nIELTS: 7.5\\nContacted Supervisor\\...  \n",
              "3                                                     NaN  \n",
              "4                                                     NaN  \n",
              "...                                                   ...  \n",
              "485245                                                NaN  \n",
              "485246                                                NaN  \n",
              "485247                                                NaN  \n",
              "485248                                                NaN  \n",
              "485249                                                NaN  \n",
              "\n",
              "[485250 rows x 18 columns]"
            ],
            "text/html": [
              "\n",
              "  <div id=\"df-8e3c90c7-b3c7-47db-8615-4a2bb0e47e1c\">\n",
              "    <div class=\"colab-df-container\">\n",
              "      <div>\n",
              "<style scoped>\n",
              "    .dataframe tbody tr th:only-of-type {\n",
              "        vertical-align: middle;\n",
              "    }\n",
              "\n",
              "    .dataframe tbody tr th {\n",
              "        vertical-align: top;\n",
              "    }\n",
              "\n",
              "    .dataframe thead th {\n",
              "        text-align: right;\n",
              "    }\n",
              "</style>\n",
              "<table border=\"1\" class=\"dataframe\">\n",
              "  <thead>\n",
              "    <tr style=\"text-align: right;\">\n",
              "      <th></th>\n",
              "      <th>0</th>\n",
              "      <th>1</th>\n",
              "      <th>2</th>\n",
              "      <th>3</th>\n",
              "      <th>4</th>\n",
              "      <th>5</th>\n",
              "      <th>6</th>\n",
              "      <th>7</th>\n",
              "      <th>8</th>\n",
              "      <th>9</th>\n",
              "      <th>10</th>\n",
              "      <th>11</th>\n",
              "      <th>12</th>\n",
              "      <th>13</th>\n",
              "      <th>14</th>\n",
              "      <th>15</th>\n",
              "      <th>16</th>\n",
              "      <th>17</th>\n",
              "    </tr>\n",
              "  </thead>\n",
              "  <tbody>\n",
              "    <tr>\n",
              "      <th>0</th>\n",
              "      <td>University Of Waterloo</td>\n",
              "      <td>Systems Design Engineering</td>\n",
              "      <td>MS</td>\n",
              "      <td>NaN</td>\n",
              "      <td>Accepted</td>\n",
              "      <td>Website</td>\n",
              "      <td>(1, 7, 2019)</td>\n",
              "      <td>1.561964e+09</td>\n",
              "      <td>NaN</td>\n",
              "      <td>NaN</td>\n",
              "      <td>NaN</td>\n",
              "      <td>NaN</td>\n",
              "      <td>NaN</td>\n",
              "      <td>NaN</td>\n",
              "      <td>International</td>\n",
              "      <td>(10, 7, 2019)</td>\n",
              "      <td>1562742000</td>\n",
              "      <td>NaN</td>\n",
              "    </tr>\n",
              "    <tr>\n",
              "      <th>1</th>\n",
              "      <td>Northeastern University</td>\n",
              "      <td>Electrical Engineering</td>\n",
              "      <td>PhD</td>\n",
              "      <td>F19</td>\n",
              "      <td>Rejected</td>\n",
              "      <td>Website</td>\n",
              "      <td>(8, 7, 2019)</td>\n",
              "      <td>1.562569e+09</td>\n",
              "      <td>NaN</td>\n",
              "      <td>NaN</td>\n",
              "      <td>NaN</td>\n",
              "      <td>NaN</td>\n",
              "      <td>NaN</td>\n",
              "      <td>NaN</td>\n",
              "      <td>NaN</td>\n",
              "      <td>(10, 7, 2019)</td>\n",
              "      <td>1562742000</td>\n",
              "      <td>Got email today!</td>\n",
              "    </tr>\n",
              "    <tr>\n",
              "      <th>2</th>\n",
              "      <td>The University Of Auckland</td>\n",
              "      <td>Electrical And Electronic Engineering</td>\n",
              "      <td>MS</td>\n",
              "      <td>NaN</td>\n",
              "      <td>Accepted</td>\n",
              "      <td>Website</td>\n",
              "      <td>(19, 6, 2019)</td>\n",
              "      <td>1.560928e+09</td>\n",
              "      <td>NaN</td>\n",
              "      <td>NaN</td>\n",
              "      <td>NaN</td>\n",
              "      <td>NaN</td>\n",
              "      <td>NaN</td>\n",
              "      <td>NaN</td>\n",
              "      <td>International</td>\n",
              "      <td>(9, 7, 2019)</td>\n",
              "      <td>1562655600</td>\n",
              "      <td>Top Student\\nIELTS: 7.5\\nContacted Supervisor\\...</td>\n",
              "    </tr>\n",
              "    <tr>\n",
              "      <th>3</th>\n",
              "      <td>Radford University</td>\n",
              "      <td>Counseling Psychology PsyD.</td>\n",
              "      <td>Other</td>\n",
              "      <td>F19</td>\n",
              "      <td>Accepted</td>\n",
              "      <td>Phone</td>\n",
              "      <td>(4, 3, 2019)</td>\n",
              "      <td>1.551686e+09</td>\n",
              "      <td>NaN</td>\n",
              "      <td>NaN</td>\n",
              "      <td>NaN</td>\n",
              "      <td>NaN</td>\n",
              "      <td>NaN</td>\n",
              "      <td>NaN</td>\n",
              "      <td>American</td>\n",
              "      <td>(9, 7, 2019)</td>\n",
              "      <td>1562655600</td>\n",
              "      <td>NaN</td>\n",
              "    </tr>\n",
              "    <tr>\n",
              "      <th>4</th>\n",
              "      <td>University Of Chittagong</td>\n",
              "      <td>Computer Science</td>\n",
              "      <td>MS</td>\n",
              "      <td>NaN</td>\n",
              "      <td>NaN</td>\n",
              "      <td>Other</td>\n",
              "      <td>(9, 7, 2019)</td>\n",
              "      <td>1.562656e+09</td>\n",
              "      <td>3.2</td>\n",
              "      <td>163.0</td>\n",
              "      <td>168.0</td>\n",
              "      <td>4.0</td>\n",
              "      <td>True</td>\n",
              "      <td>NaN</td>\n",
              "      <td>International</td>\n",
              "      <td>(9, 7, 2019)</td>\n",
              "      <td>1562655600</td>\n",
              "      <td>NaN</td>\n",
              "    </tr>\n",
              "    <tr>\n",
              "      <th>...</th>\n",
              "      <td>...</td>\n",
              "      <td>...</td>\n",
              "      <td>...</td>\n",
              "      <td>...</td>\n",
              "      <td>...</td>\n",
              "      <td>...</td>\n",
              "      <td>...</td>\n",
              "      <td>...</td>\n",
              "      <td>...</td>\n",
              "      <td>...</td>\n",
              "      <td>...</td>\n",
              "      <td>...</td>\n",
              "      <td>...</td>\n",
              "      <td>...</td>\n",
              "      <td>...</td>\n",
              "      <td>...</td>\n",
              "      <td>...</td>\n",
              "      <td>...</td>\n",
              "    </tr>\n",
              "    <tr>\n",
              "      <th>485245</th>\n",
              "      <td>Temple University</td>\n",
              "      <td>Clinical Psychology</td>\n",
              "      <td>Other</td>\n",
              "      <td>NaN</td>\n",
              "      <td>Interview</td>\n",
              "      <td>E-mail</td>\n",
              "      <td>(20, 1, 2006)</td>\n",
              "      <td>1.137744e+09</td>\n",
              "      <td>NaN</td>\n",
              "      <td>NaN</td>\n",
              "      <td>NaN</td>\n",
              "      <td>NaN</td>\n",
              "      <td>NaN</td>\n",
              "      <td>NaN</td>\n",
              "      <td>NaN</td>\n",
              "      <td>(10, 2, 2006)</td>\n",
              "      <td>1139558400</td>\n",
              "      <td>NaN</td>\n",
              "    </tr>\n",
              "    <tr>\n",
              "      <th>485246</th>\n",
              "      <td>Temple University</td>\n",
              "      <td>Clinical Psychology</td>\n",
              "      <td>Other</td>\n",
              "      <td>NaN</td>\n",
              "      <td>Interview</td>\n",
              "      <td>E-mail</td>\n",
              "      <td>(19, 1, 2006)</td>\n",
              "      <td>1.137658e+09</td>\n",
              "      <td>NaN</td>\n",
              "      <td>NaN</td>\n",
              "      <td>NaN</td>\n",
              "      <td>NaN</td>\n",
              "      <td>NaN</td>\n",
              "      <td>NaN</td>\n",
              "      <td>NaN</td>\n",
              "      <td>(10, 2, 2006)</td>\n",
              "      <td>1139558400</td>\n",
              "      <td>NaN</td>\n",
              "    </tr>\n",
              "    <tr>\n",
              "      <th>485247</th>\n",
              "      <td>Michigan State University</td>\n",
              "      <td>Communication</td>\n",
              "      <td>PhD</td>\n",
              "      <td>NaN</td>\n",
              "      <td>Accepted</td>\n",
              "      <td>E-mail</td>\n",
              "      <td>(20, 12, 2005)</td>\n",
              "      <td>1.135066e+09</td>\n",
              "      <td>NaN</td>\n",
              "      <td>NaN</td>\n",
              "      <td>NaN</td>\n",
              "      <td>NaN</td>\n",
              "      <td>NaN</td>\n",
              "      <td>NaN</td>\n",
              "      <td>NaN</td>\n",
              "      <td>(10, 2, 2006)</td>\n",
              "      <td>1139558400</td>\n",
              "      <td>NaN</td>\n",
              "    </tr>\n",
              "    <tr>\n",
              "      <th>485248</th>\n",
              "      <td>Ohio State University (OSU)</td>\n",
              "      <td>Social Work</td>\n",
              "      <td>MS</td>\n",
              "      <td>NaN</td>\n",
              "      <td>Accepted</td>\n",
              "      <td>Phone</td>\n",
              "      <td>(16, 11, 2005)</td>\n",
              "      <td>1.132128e+09</td>\n",
              "      <td>NaN</td>\n",
              "      <td>NaN</td>\n",
              "      <td>NaN</td>\n",
              "      <td>NaN</td>\n",
              "      <td>NaN</td>\n",
              "      <td>NaN</td>\n",
              "      <td>NaN</td>\n",
              "      <td>(10, 2, 2006)</td>\n",
              "      <td>1139558400</td>\n",
              "      <td>NaN</td>\n",
              "    </tr>\n",
              "    <tr>\n",
              "      <th>485249</th>\n",
              "      <td>Pennsylvania State University (PSU)</td>\n",
              "      <td>Industrial Engineering -masters</td>\n",
              "      <td>Other</td>\n",
              "      <td>NaN</td>\n",
              "      <td>Accepted</td>\n",
              "      <td>E-mail</td>\n",
              "      <td>(10, 2, 2006)</td>\n",
              "      <td>1.139558e+09</td>\n",
              "      <td>NaN</td>\n",
              "      <td>NaN</td>\n",
              "      <td>NaN</td>\n",
              "      <td>NaN</td>\n",
              "      <td>NaN</td>\n",
              "      <td>NaN</td>\n",
              "      <td>NaN</td>\n",
              "      <td>(10, 2, 2006)</td>\n",
              "      <td>1139558400</td>\n",
              "      <td>NaN</td>\n",
              "    </tr>\n",
              "  </tbody>\n",
              "</table>\n",
              "<p>485250 rows × 18 columns</p>\n",
              "</div>\n",
              "      <button class=\"colab-df-convert\" onclick=\"convertToInteractive('df-8e3c90c7-b3c7-47db-8615-4a2bb0e47e1c')\"\n",
              "              title=\"Convert this dataframe to an interactive table.\"\n",
              "              style=\"display:none;\">\n",
              "        \n",
              "  <svg xmlns=\"http://www.w3.org/2000/svg\" height=\"24px\"viewBox=\"0 0 24 24\"\n",
              "       width=\"24px\">\n",
              "    <path d=\"M0 0h24v24H0V0z\" fill=\"none\"/>\n",
              "    <path d=\"M18.56 5.44l.94 2.06.94-2.06 2.06-.94-2.06-.94-.94-2.06-.94 2.06-2.06.94zm-11 1L8.5 8.5l.94-2.06 2.06-.94-2.06-.94L8.5 2.5l-.94 2.06-2.06.94zm10 10l.94 2.06.94-2.06 2.06-.94-2.06-.94-.94-2.06-.94 2.06-2.06.94z\"/><path d=\"M17.41 7.96l-1.37-1.37c-.4-.4-.92-.59-1.43-.59-.52 0-1.04.2-1.43.59L10.3 9.45l-7.72 7.72c-.78.78-.78 2.05 0 2.83L4 21.41c.39.39.9.59 1.41.59.51 0 1.02-.2 1.41-.59l7.78-7.78 2.81-2.81c.8-.78.8-2.07 0-2.86zM5.41 20L4 18.59l7.72-7.72 1.47 1.35L5.41 20z\"/>\n",
              "  </svg>\n",
              "      </button>\n",
              "      \n",
              "  <style>\n",
              "    .colab-df-container {\n",
              "      display:flex;\n",
              "      flex-wrap:wrap;\n",
              "      gap: 12px;\n",
              "    }\n",
              "\n",
              "    .colab-df-convert {\n",
              "      background-color: #E8F0FE;\n",
              "      border: none;\n",
              "      border-radius: 50%;\n",
              "      cursor: pointer;\n",
              "      display: none;\n",
              "      fill: #1967D2;\n",
              "      height: 32px;\n",
              "      padding: 0 0 0 0;\n",
              "      width: 32px;\n",
              "    }\n",
              "\n",
              "    .colab-df-convert:hover {\n",
              "      background-color: #E2EBFA;\n",
              "      box-shadow: 0px 1px 2px rgba(60, 64, 67, 0.3), 0px 1px 3px 1px rgba(60, 64, 67, 0.15);\n",
              "      fill: #174EA6;\n",
              "    }\n",
              "\n",
              "    [theme=dark] .colab-df-convert {\n",
              "      background-color: #3B4455;\n",
              "      fill: #D2E3FC;\n",
              "    }\n",
              "\n",
              "    [theme=dark] .colab-df-convert:hover {\n",
              "      background-color: #434B5C;\n",
              "      box-shadow: 0px 1px 3px 1px rgba(0, 0, 0, 0.15);\n",
              "      filter: drop-shadow(0px 1px 2px rgba(0, 0, 0, 0.3));\n",
              "      fill: #FFFFFF;\n",
              "    }\n",
              "  </style>\n",
              "\n",
              "      <script>\n",
              "        const buttonEl =\n",
              "          document.querySelector('#df-8e3c90c7-b3c7-47db-8615-4a2bb0e47e1c button.colab-df-convert');\n",
              "        buttonEl.style.display =\n",
              "          google.colab.kernel.accessAllowed ? 'block' : 'none';\n",
              "\n",
              "        async function convertToInteractive(key) {\n",
              "          const element = document.querySelector('#df-8e3c90c7-b3c7-47db-8615-4a2bb0e47e1c');\n",
              "          const dataTable =\n",
              "            await google.colab.kernel.invokeFunction('convertToInteractive',\n",
              "                                                     [key], {});\n",
              "          if (!dataTable) return;\n",
              "\n",
              "          const docLinkHtml = 'Like what you see? Visit the ' +\n",
              "            '<a target=\"_blank\" href=https://colab.research.google.com/notebooks/data_table.ipynb>data table notebook</a>'\n",
              "            + ' to learn more about interactive tables.';\n",
              "          element.innerHTML = '';\n",
              "          dataTable['output_type'] = 'display_data';\n",
              "          await google.colab.output.renderOutput(dataTable, element);\n",
              "          const docLink = document.createElement('div');\n",
              "          docLink.innerHTML = docLinkHtml;\n",
              "          element.appendChild(docLink);\n",
              "        }\n",
              "      </script>\n",
              "    </div>\n",
              "  </div>\n",
              "  "
            ]
          },
          "metadata": {},
          "execution_count": 1010
        }
      ]
    },
    {
      "cell_type": "code",
      "execution_count": null,
      "id": "b9f1d495",
      "metadata": {
        "id": "b9f1d495",
        "outputId": "cce48bd6-2c4a-4bd8-be85-b7b198b72cd6",
        "colab": {
          "base_uri": "https://localhost:8080/"
        }
      },
      "outputs": [
        {
          "output_type": "execute_result",
          "data": {
            "text/plain": [
              "Index(['0', '1', '2', '3', '4', '5', '6', '7', '8', '9', '10', '11', '12',\n",
              "       '13', '14', '15', '16', '17'],\n",
              "      dtype='object')"
            ]
          },
          "metadata": {},
          "execution_count": 1011
        }
      ],
      "source": [
        "grad_cafe_df.columns"
      ]
    },
    {
      "cell_type": "code",
      "execution_count": null,
      "id": "ee06b5aa",
      "metadata": {
        "id": "ee06b5aa",
        "outputId": "877e2f69-91a9-4c53-bfb2-ef62583f6b39",
        "colab": {
          "base_uri": "https://localhost:8080/"
        }
      },
      "outputs": [
        {
          "output_type": "execute_result",
          "data": {
            "text/plain": [
              "Index(['userName', 'major', 'researchExp', 'industryExp', 'specialization',\n",
              "       'toeflScore', 'program', 'department', 'toeflEssay', 'internExp',\n",
              "       'greV', 'greQ', 'userProfileLink', 'journalPubs', 'greA', 'topperCgpa',\n",
              "       'termAndYear', 'confPubs', 'ugCollege', 'gmatA', 'cgpa', 'gmatQ',\n",
              "       'cgpaScale', 'gmatV', 'univName', 'admit'],\n",
              "      dtype='object')"
            ]
          },
          "metadata": {},
          "execution_count": 1012
        }
      ],
      "source": [
        "kaggle_df.columns"
      ]
    },
    {
      "cell_type": "code",
      "execution_count": null,
      "id": "05c59c09",
      "metadata": {
        "id": "05c59c09"
      },
      "outputs": [],
      "source": [
        "grad_cafe_df= grad_cafe_df.rename(columns={'0': 'University', '1': 'Major',\n",
        "'2': 'Program', '4': 'Status', '8': 'CGPA', '9': 'GRE_V', '10': 'GRE_Q',\n",
        "'11': 'GRE_AWA', '14': 'Country', '15': 'Date', '16': 'Tuition'})\n"
      ]
    },
    {
      "cell_type": "code",
      "source": [
        "grad_cafe_df"
      ],
      "metadata": {
        "id": "h3tgcSuMcOBP",
        "colab": {
          "base_uri": "https://localhost:8080/",
          "height": 710
        },
        "outputId": "dd6f466c-6454-49d2-fb1a-593233cc8e9e"
      },
      "id": "h3tgcSuMcOBP",
      "execution_count": null,
      "outputs": [
        {
          "output_type": "execute_result",
          "data": {
            "text/plain": [
              "                                 University  \\\n",
              "0                    University Of Waterloo   \n",
              "1                   Northeastern University   \n",
              "2                The University Of Auckland   \n",
              "3                        Radford University   \n",
              "4                  University Of Chittagong   \n",
              "...                                     ...   \n",
              "485245                    Temple University   \n",
              "485246                    Temple University   \n",
              "485247            Michigan State University   \n",
              "485248          Ohio State University (OSU)   \n",
              "485249  Pennsylvania State University (PSU)   \n",
              "\n",
              "                                        Major Program    3     Status  \\\n",
              "0                  Systems Design Engineering      MS  NaN   Accepted   \n",
              "1                      Electrical Engineering     PhD  F19   Rejected   \n",
              "2       Electrical And Electronic Engineering      MS  NaN   Accepted   \n",
              "3                 Counseling Psychology PsyD.   Other  F19   Accepted   \n",
              "4                            Computer Science      MS  NaN        NaN   \n",
              "...                                       ...     ...  ...        ...   \n",
              "485245                    Clinical Psychology   Other  NaN  Interview   \n",
              "485246                    Clinical Psychology   Other  NaN  Interview   \n",
              "485247                          Communication     PhD  NaN   Accepted   \n",
              "485248                            Social Work      MS  NaN   Accepted   \n",
              "485249        Industrial Engineering -masters   Other  NaN   Accepted   \n",
              "\n",
              "              5               6             7  CGPA  GRE_V  GRE_Q  GRE_AWA  \\\n",
              "0       Website    (1, 7, 2019)  1.561964e+09   NaN    NaN    NaN      NaN   \n",
              "1       Website    (8, 7, 2019)  1.562569e+09   NaN    NaN    NaN      NaN   \n",
              "2       Website   (19, 6, 2019)  1.560928e+09   NaN    NaN    NaN      NaN   \n",
              "3         Phone    (4, 3, 2019)  1.551686e+09   NaN    NaN    NaN      NaN   \n",
              "4         Other    (9, 7, 2019)  1.562656e+09   3.2  163.0  168.0      4.0   \n",
              "...         ...             ...           ...   ...    ...    ...      ...   \n",
              "485245   E-mail   (20, 1, 2006)  1.137744e+09   NaN    NaN    NaN      NaN   \n",
              "485246   E-mail   (19, 1, 2006)  1.137658e+09   NaN    NaN    NaN      NaN   \n",
              "485247   E-mail  (20, 12, 2005)  1.135066e+09   NaN    NaN    NaN      NaN   \n",
              "485248    Phone  (16, 11, 2005)  1.132128e+09   NaN    NaN    NaN      NaN   \n",
              "485249   E-mail   (10, 2, 2006)  1.139558e+09   NaN    NaN    NaN      NaN   \n",
              "\n",
              "          12  13        Country           Date     Tuition  \\\n",
              "0        NaN NaN  International  (10, 7, 2019)  1562742000   \n",
              "1        NaN NaN            NaN  (10, 7, 2019)  1562742000   \n",
              "2        NaN NaN  International   (9, 7, 2019)  1562655600   \n",
              "3        NaN NaN       American   (9, 7, 2019)  1562655600   \n",
              "4       True NaN  International   (9, 7, 2019)  1562655600   \n",
              "...      ...  ..            ...            ...         ...   \n",
              "485245   NaN NaN            NaN  (10, 2, 2006)  1139558400   \n",
              "485246   NaN NaN            NaN  (10, 2, 2006)  1139558400   \n",
              "485247   NaN NaN            NaN  (10, 2, 2006)  1139558400   \n",
              "485248   NaN NaN            NaN  (10, 2, 2006)  1139558400   \n",
              "485249   NaN NaN            NaN  (10, 2, 2006)  1139558400   \n",
              "\n",
              "                                                       17  \n",
              "0                                                     NaN  \n",
              "1                                        Got email today!  \n",
              "2       Top Student\\nIELTS: 7.5\\nContacted Supervisor\\...  \n",
              "3                                                     NaN  \n",
              "4                                                     NaN  \n",
              "...                                                   ...  \n",
              "485245                                                NaN  \n",
              "485246                                                NaN  \n",
              "485247                                                NaN  \n",
              "485248                                                NaN  \n",
              "485249                                                NaN  \n",
              "\n",
              "[485250 rows x 18 columns]"
            ],
            "text/html": [
              "\n",
              "  <div id=\"df-634ba14e-9ed5-40af-81fc-156362722ebe\">\n",
              "    <div class=\"colab-df-container\">\n",
              "      <div>\n",
              "<style scoped>\n",
              "    .dataframe tbody tr th:only-of-type {\n",
              "        vertical-align: middle;\n",
              "    }\n",
              "\n",
              "    .dataframe tbody tr th {\n",
              "        vertical-align: top;\n",
              "    }\n",
              "\n",
              "    .dataframe thead th {\n",
              "        text-align: right;\n",
              "    }\n",
              "</style>\n",
              "<table border=\"1\" class=\"dataframe\">\n",
              "  <thead>\n",
              "    <tr style=\"text-align: right;\">\n",
              "      <th></th>\n",
              "      <th>University</th>\n",
              "      <th>Major</th>\n",
              "      <th>Program</th>\n",
              "      <th>3</th>\n",
              "      <th>Status</th>\n",
              "      <th>5</th>\n",
              "      <th>6</th>\n",
              "      <th>7</th>\n",
              "      <th>CGPA</th>\n",
              "      <th>GRE_V</th>\n",
              "      <th>GRE_Q</th>\n",
              "      <th>GRE_AWA</th>\n",
              "      <th>12</th>\n",
              "      <th>13</th>\n",
              "      <th>Country</th>\n",
              "      <th>Date</th>\n",
              "      <th>Tuition</th>\n",
              "      <th>17</th>\n",
              "    </tr>\n",
              "  </thead>\n",
              "  <tbody>\n",
              "    <tr>\n",
              "      <th>0</th>\n",
              "      <td>University Of Waterloo</td>\n",
              "      <td>Systems Design Engineering</td>\n",
              "      <td>MS</td>\n",
              "      <td>NaN</td>\n",
              "      <td>Accepted</td>\n",
              "      <td>Website</td>\n",
              "      <td>(1, 7, 2019)</td>\n",
              "      <td>1.561964e+09</td>\n",
              "      <td>NaN</td>\n",
              "      <td>NaN</td>\n",
              "      <td>NaN</td>\n",
              "      <td>NaN</td>\n",
              "      <td>NaN</td>\n",
              "      <td>NaN</td>\n",
              "      <td>International</td>\n",
              "      <td>(10, 7, 2019)</td>\n",
              "      <td>1562742000</td>\n",
              "      <td>NaN</td>\n",
              "    </tr>\n",
              "    <tr>\n",
              "      <th>1</th>\n",
              "      <td>Northeastern University</td>\n",
              "      <td>Electrical Engineering</td>\n",
              "      <td>PhD</td>\n",
              "      <td>F19</td>\n",
              "      <td>Rejected</td>\n",
              "      <td>Website</td>\n",
              "      <td>(8, 7, 2019)</td>\n",
              "      <td>1.562569e+09</td>\n",
              "      <td>NaN</td>\n",
              "      <td>NaN</td>\n",
              "      <td>NaN</td>\n",
              "      <td>NaN</td>\n",
              "      <td>NaN</td>\n",
              "      <td>NaN</td>\n",
              "      <td>NaN</td>\n",
              "      <td>(10, 7, 2019)</td>\n",
              "      <td>1562742000</td>\n",
              "      <td>Got email today!</td>\n",
              "    </tr>\n",
              "    <tr>\n",
              "      <th>2</th>\n",
              "      <td>The University Of Auckland</td>\n",
              "      <td>Electrical And Electronic Engineering</td>\n",
              "      <td>MS</td>\n",
              "      <td>NaN</td>\n",
              "      <td>Accepted</td>\n",
              "      <td>Website</td>\n",
              "      <td>(19, 6, 2019)</td>\n",
              "      <td>1.560928e+09</td>\n",
              "      <td>NaN</td>\n",
              "      <td>NaN</td>\n",
              "      <td>NaN</td>\n",
              "      <td>NaN</td>\n",
              "      <td>NaN</td>\n",
              "      <td>NaN</td>\n",
              "      <td>International</td>\n",
              "      <td>(9, 7, 2019)</td>\n",
              "      <td>1562655600</td>\n",
              "      <td>Top Student\\nIELTS: 7.5\\nContacted Supervisor\\...</td>\n",
              "    </tr>\n",
              "    <tr>\n",
              "      <th>3</th>\n",
              "      <td>Radford University</td>\n",
              "      <td>Counseling Psychology PsyD.</td>\n",
              "      <td>Other</td>\n",
              "      <td>F19</td>\n",
              "      <td>Accepted</td>\n",
              "      <td>Phone</td>\n",
              "      <td>(4, 3, 2019)</td>\n",
              "      <td>1.551686e+09</td>\n",
              "      <td>NaN</td>\n",
              "      <td>NaN</td>\n",
              "      <td>NaN</td>\n",
              "      <td>NaN</td>\n",
              "      <td>NaN</td>\n",
              "      <td>NaN</td>\n",
              "      <td>American</td>\n",
              "      <td>(9, 7, 2019)</td>\n",
              "      <td>1562655600</td>\n",
              "      <td>NaN</td>\n",
              "    </tr>\n",
              "    <tr>\n",
              "      <th>4</th>\n",
              "      <td>University Of Chittagong</td>\n",
              "      <td>Computer Science</td>\n",
              "      <td>MS</td>\n",
              "      <td>NaN</td>\n",
              "      <td>NaN</td>\n",
              "      <td>Other</td>\n",
              "      <td>(9, 7, 2019)</td>\n",
              "      <td>1.562656e+09</td>\n",
              "      <td>3.2</td>\n",
              "      <td>163.0</td>\n",
              "      <td>168.0</td>\n",
              "      <td>4.0</td>\n",
              "      <td>True</td>\n",
              "      <td>NaN</td>\n",
              "      <td>International</td>\n",
              "      <td>(9, 7, 2019)</td>\n",
              "      <td>1562655600</td>\n",
              "      <td>NaN</td>\n",
              "    </tr>\n",
              "    <tr>\n",
              "      <th>...</th>\n",
              "      <td>...</td>\n",
              "      <td>...</td>\n",
              "      <td>...</td>\n",
              "      <td>...</td>\n",
              "      <td>...</td>\n",
              "      <td>...</td>\n",
              "      <td>...</td>\n",
              "      <td>...</td>\n",
              "      <td>...</td>\n",
              "      <td>...</td>\n",
              "      <td>...</td>\n",
              "      <td>...</td>\n",
              "      <td>...</td>\n",
              "      <td>...</td>\n",
              "      <td>...</td>\n",
              "      <td>...</td>\n",
              "      <td>...</td>\n",
              "      <td>...</td>\n",
              "    </tr>\n",
              "    <tr>\n",
              "      <th>485245</th>\n",
              "      <td>Temple University</td>\n",
              "      <td>Clinical Psychology</td>\n",
              "      <td>Other</td>\n",
              "      <td>NaN</td>\n",
              "      <td>Interview</td>\n",
              "      <td>E-mail</td>\n",
              "      <td>(20, 1, 2006)</td>\n",
              "      <td>1.137744e+09</td>\n",
              "      <td>NaN</td>\n",
              "      <td>NaN</td>\n",
              "      <td>NaN</td>\n",
              "      <td>NaN</td>\n",
              "      <td>NaN</td>\n",
              "      <td>NaN</td>\n",
              "      <td>NaN</td>\n",
              "      <td>(10, 2, 2006)</td>\n",
              "      <td>1139558400</td>\n",
              "      <td>NaN</td>\n",
              "    </tr>\n",
              "    <tr>\n",
              "      <th>485246</th>\n",
              "      <td>Temple University</td>\n",
              "      <td>Clinical Psychology</td>\n",
              "      <td>Other</td>\n",
              "      <td>NaN</td>\n",
              "      <td>Interview</td>\n",
              "      <td>E-mail</td>\n",
              "      <td>(19, 1, 2006)</td>\n",
              "      <td>1.137658e+09</td>\n",
              "      <td>NaN</td>\n",
              "      <td>NaN</td>\n",
              "      <td>NaN</td>\n",
              "      <td>NaN</td>\n",
              "      <td>NaN</td>\n",
              "      <td>NaN</td>\n",
              "      <td>NaN</td>\n",
              "      <td>(10, 2, 2006)</td>\n",
              "      <td>1139558400</td>\n",
              "      <td>NaN</td>\n",
              "    </tr>\n",
              "    <tr>\n",
              "      <th>485247</th>\n",
              "      <td>Michigan State University</td>\n",
              "      <td>Communication</td>\n",
              "      <td>PhD</td>\n",
              "      <td>NaN</td>\n",
              "      <td>Accepted</td>\n",
              "      <td>E-mail</td>\n",
              "      <td>(20, 12, 2005)</td>\n",
              "      <td>1.135066e+09</td>\n",
              "      <td>NaN</td>\n",
              "      <td>NaN</td>\n",
              "      <td>NaN</td>\n",
              "      <td>NaN</td>\n",
              "      <td>NaN</td>\n",
              "      <td>NaN</td>\n",
              "      <td>NaN</td>\n",
              "      <td>(10, 2, 2006)</td>\n",
              "      <td>1139558400</td>\n",
              "      <td>NaN</td>\n",
              "    </tr>\n",
              "    <tr>\n",
              "      <th>485248</th>\n",
              "      <td>Ohio State University (OSU)</td>\n",
              "      <td>Social Work</td>\n",
              "      <td>MS</td>\n",
              "      <td>NaN</td>\n",
              "      <td>Accepted</td>\n",
              "      <td>Phone</td>\n",
              "      <td>(16, 11, 2005)</td>\n",
              "      <td>1.132128e+09</td>\n",
              "      <td>NaN</td>\n",
              "      <td>NaN</td>\n",
              "      <td>NaN</td>\n",
              "      <td>NaN</td>\n",
              "      <td>NaN</td>\n",
              "      <td>NaN</td>\n",
              "      <td>NaN</td>\n",
              "      <td>(10, 2, 2006)</td>\n",
              "      <td>1139558400</td>\n",
              "      <td>NaN</td>\n",
              "    </tr>\n",
              "    <tr>\n",
              "      <th>485249</th>\n",
              "      <td>Pennsylvania State University (PSU)</td>\n",
              "      <td>Industrial Engineering -masters</td>\n",
              "      <td>Other</td>\n",
              "      <td>NaN</td>\n",
              "      <td>Accepted</td>\n",
              "      <td>E-mail</td>\n",
              "      <td>(10, 2, 2006)</td>\n",
              "      <td>1.139558e+09</td>\n",
              "      <td>NaN</td>\n",
              "      <td>NaN</td>\n",
              "      <td>NaN</td>\n",
              "      <td>NaN</td>\n",
              "      <td>NaN</td>\n",
              "      <td>NaN</td>\n",
              "      <td>NaN</td>\n",
              "      <td>(10, 2, 2006)</td>\n",
              "      <td>1139558400</td>\n",
              "      <td>NaN</td>\n",
              "    </tr>\n",
              "  </tbody>\n",
              "</table>\n",
              "<p>485250 rows × 18 columns</p>\n",
              "</div>\n",
              "      <button class=\"colab-df-convert\" onclick=\"convertToInteractive('df-634ba14e-9ed5-40af-81fc-156362722ebe')\"\n",
              "              title=\"Convert this dataframe to an interactive table.\"\n",
              "              style=\"display:none;\">\n",
              "        \n",
              "  <svg xmlns=\"http://www.w3.org/2000/svg\" height=\"24px\"viewBox=\"0 0 24 24\"\n",
              "       width=\"24px\">\n",
              "    <path d=\"M0 0h24v24H0V0z\" fill=\"none\"/>\n",
              "    <path d=\"M18.56 5.44l.94 2.06.94-2.06 2.06-.94-2.06-.94-.94-2.06-.94 2.06-2.06.94zm-11 1L8.5 8.5l.94-2.06 2.06-.94-2.06-.94L8.5 2.5l-.94 2.06-2.06.94zm10 10l.94 2.06.94-2.06 2.06-.94-2.06-.94-.94-2.06-.94 2.06-2.06.94z\"/><path d=\"M17.41 7.96l-1.37-1.37c-.4-.4-.92-.59-1.43-.59-.52 0-1.04.2-1.43.59L10.3 9.45l-7.72 7.72c-.78.78-.78 2.05 0 2.83L4 21.41c.39.39.9.59 1.41.59.51 0 1.02-.2 1.41-.59l7.78-7.78 2.81-2.81c.8-.78.8-2.07 0-2.86zM5.41 20L4 18.59l7.72-7.72 1.47 1.35L5.41 20z\"/>\n",
              "  </svg>\n",
              "      </button>\n",
              "      \n",
              "  <style>\n",
              "    .colab-df-container {\n",
              "      display:flex;\n",
              "      flex-wrap:wrap;\n",
              "      gap: 12px;\n",
              "    }\n",
              "\n",
              "    .colab-df-convert {\n",
              "      background-color: #E8F0FE;\n",
              "      border: none;\n",
              "      border-radius: 50%;\n",
              "      cursor: pointer;\n",
              "      display: none;\n",
              "      fill: #1967D2;\n",
              "      height: 32px;\n",
              "      padding: 0 0 0 0;\n",
              "      width: 32px;\n",
              "    }\n",
              "\n",
              "    .colab-df-convert:hover {\n",
              "      background-color: #E2EBFA;\n",
              "      box-shadow: 0px 1px 2px rgba(60, 64, 67, 0.3), 0px 1px 3px 1px rgba(60, 64, 67, 0.15);\n",
              "      fill: #174EA6;\n",
              "    }\n",
              "\n",
              "    [theme=dark] .colab-df-convert {\n",
              "      background-color: #3B4455;\n",
              "      fill: #D2E3FC;\n",
              "    }\n",
              "\n",
              "    [theme=dark] .colab-df-convert:hover {\n",
              "      background-color: #434B5C;\n",
              "      box-shadow: 0px 1px 3px 1px rgba(0, 0, 0, 0.15);\n",
              "      filter: drop-shadow(0px 1px 2px rgba(0, 0, 0, 0.3));\n",
              "      fill: #FFFFFF;\n",
              "    }\n",
              "  </style>\n",
              "\n",
              "      <script>\n",
              "        const buttonEl =\n",
              "          document.querySelector('#df-634ba14e-9ed5-40af-81fc-156362722ebe button.colab-df-convert');\n",
              "        buttonEl.style.display =\n",
              "          google.colab.kernel.accessAllowed ? 'block' : 'none';\n",
              "\n",
              "        async function convertToInteractive(key) {\n",
              "          const element = document.querySelector('#df-634ba14e-9ed5-40af-81fc-156362722ebe');\n",
              "          const dataTable =\n",
              "            await google.colab.kernel.invokeFunction('convertToInteractive',\n",
              "                                                     [key], {});\n",
              "          if (!dataTable) return;\n",
              "\n",
              "          const docLinkHtml = 'Like what you see? Visit the ' +\n",
              "            '<a target=\"_blank\" href=https://colab.research.google.com/notebooks/data_table.ipynb>data table notebook</a>'\n",
              "            + ' to learn more about interactive tables.';\n",
              "          element.innerHTML = '';\n",
              "          dataTable['output_type'] = 'display_data';\n",
              "          await google.colab.output.renderOutput(dataTable, element);\n",
              "          const docLink = document.createElement('div');\n",
              "          docLink.innerHTML = docLinkHtml;\n",
              "          element.appendChild(docLink);\n",
              "        }\n",
              "      </script>\n",
              "    </div>\n",
              "  </div>\n",
              "  "
            ]
          },
          "metadata": {},
          "execution_count": 1014
        }
      ]
    },
    {
      "cell_type": "code",
      "execution_count": null,
      "id": "de61abe8",
      "metadata": {
        "id": "de61abe8",
        "outputId": "0d29998f-ccec-4814-af4f-c2f80a90796c",
        "colab": {
          "base_uri": "https://localhost:8080/"
        }
      },
      "outputs": [
        {
          "output_type": "execute_result",
          "data": {
            "text/plain": [
              "Index(['University', 'Major', 'Program', '3', 'Status', '5', '6', '7', 'CGPA',\n",
              "       'GRE_V', 'GRE_Q', 'GRE_AWA', '12', '13', 'Country', 'Date', 'Tuition',\n",
              "       '17'],\n",
              "      dtype='object')"
            ]
          },
          "metadata": {},
          "execution_count": 1015
        }
      ],
      "source": [
        "grad_cafe_df.columns"
      ]
    },
    {
      "cell_type": "code",
      "execution_count": null,
      "id": "e75e50b3",
      "metadata": {
        "id": "e75e50b3",
        "outputId": "2c3db634-d7e9-445a-eb08-72429a1442a9",
        "colab": {
          "base_uri": "https://localhost:8080/"
        }
      },
      "outputs": [
        {
          "output_type": "execute_result",
          "data": {
            "text/plain": [
              "Index(['University', 'Major', 'Program', 'Status', 'CGPA', 'GRE_V', 'GRE_Q',\n",
              "       'GRE_AWA', 'Country', 'Date', 'Tuition'],\n",
              "      dtype='object')"
            ]
          },
          "metadata": {},
          "execution_count": 1016
        }
      ],
      "source": [
        "grad_cafe_df = grad_cafe_df.drop(columns=['3', '5', '6', '7', '12', '13', '17'])\n",
        "grad_cafe_df.columns"
      ]
    },
    {
      "cell_type": "code",
      "execution_count": null,
      "id": "e081a0a7",
      "metadata": {
        "id": "e081a0a7",
        "outputId": "cd4d1860-2032-4b12-a1d1-529aa13aa544",
        "colab": {
          "base_uri": "https://localhost:8080/",
          "height": 394
        }
      },
      "outputs": [
        {
          "output_type": "execute_result",
          "data": {
            "text/plain": [
              "                 University             Major Program    Status  \\\n",
              "count                485250            485243  485250    429029   \n",
              "unique                14117             29067       7         4   \n",
              "top     Stanford University  Computer Science     PhD  Accepted   \n",
              "freq                   8836             24240  301658    197058   \n",
              "mean                    NaN               NaN     NaN       NaN   \n",
              "std                     NaN               NaN     NaN       NaN   \n",
              "min                     NaN               NaN     NaN       NaN   \n",
              "25%                     NaN               NaN     NaN       NaN   \n",
              "50%                     NaN               NaN     NaN       NaN   \n",
              "75%                     NaN               NaN     NaN       NaN   \n",
              "max                     NaN               NaN     NaN       NaN   \n",
              "\n",
              "                 CGPA          GRE_V          GRE_Q        GRE_AWA   Country  \\\n",
              "count   114197.000000  123272.000000  123272.000000  119051.000000    440499   \n",
              "unique            NaN            NaN            NaN            NaN         4   \n",
              "top               NaN            NaN            NaN            NaN  American   \n",
              "freq              NaN            NaN            NaN            NaN    239524   \n",
              "mean         3.707664     232.827544     250.205829       4.284211       NaN   \n",
              "std          0.515373     176.167467     209.725188       0.791555       NaN   \n",
              "min          0.400000     130.000000     130.000000       0.300000       NaN   \n",
              "25%          3.500000     155.000000     157.000000       4.000000       NaN   \n",
              "50%          3.730000     161.000000     164.000000       4.500000       NaN   \n",
              "75%          3.900000     167.000000     170.000000       5.000000       NaN   \n",
              "max          9.990000     800.000000     800.000000       6.000000       NaN   \n",
              "\n",
              "                 Date       Tuition  \n",
              "count          485250  4.852500e+05  \n",
              "unique           3915           NaN  \n",
              "top     (15, 2, 2019)           NaN  \n",
              "freq             1127           NaN  \n",
              "mean              NaN  1.403532e+09  \n",
              "std               NaN  1.080451e+08  \n",
              "min               NaN  1.139386e+09  \n",
              "25%               NaN  1.329206e+09  \n",
              "50%               NaN  1.423210e+09  \n",
              "75%               NaN  1.489993e+09  \n",
              "max               NaN  1.562742e+09  "
            ],
            "text/html": [
              "\n",
              "  <div id=\"df-6ad16664-12c4-4a9a-80c4-6a25392a23b6\">\n",
              "    <div class=\"colab-df-container\">\n",
              "      <div>\n",
              "<style scoped>\n",
              "    .dataframe tbody tr th:only-of-type {\n",
              "        vertical-align: middle;\n",
              "    }\n",
              "\n",
              "    .dataframe tbody tr th {\n",
              "        vertical-align: top;\n",
              "    }\n",
              "\n",
              "    .dataframe thead th {\n",
              "        text-align: right;\n",
              "    }\n",
              "</style>\n",
              "<table border=\"1\" class=\"dataframe\">\n",
              "  <thead>\n",
              "    <tr style=\"text-align: right;\">\n",
              "      <th></th>\n",
              "      <th>University</th>\n",
              "      <th>Major</th>\n",
              "      <th>Program</th>\n",
              "      <th>Status</th>\n",
              "      <th>CGPA</th>\n",
              "      <th>GRE_V</th>\n",
              "      <th>GRE_Q</th>\n",
              "      <th>GRE_AWA</th>\n",
              "      <th>Country</th>\n",
              "      <th>Date</th>\n",
              "      <th>Tuition</th>\n",
              "    </tr>\n",
              "  </thead>\n",
              "  <tbody>\n",
              "    <tr>\n",
              "      <th>count</th>\n",
              "      <td>485250</td>\n",
              "      <td>485243</td>\n",
              "      <td>485250</td>\n",
              "      <td>429029</td>\n",
              "      <td>114197.000000</td>\n",
              "      <td>123272.000000</td>\n",
              "      <td>123272.000000</td>\n",
              "      <td>119051.000000</td>\n",
              "      <td>440499</td>\n",
              "      <td>485250</td>\n",
              "      <td>4.852500e+05</td>\n",
              "    </tr>\n",
              "    <tr>\n",
              "      <th>unique</th>\n",
              "      <td>14117</td>\n",
              "      <td>29067</td>\n",
              "      <td>7</td>\n",
              "      <td>4</td>\n",
              "      <td>NaN</td>\n",
              "      <td>NaN</td>\n",
              "      <td>NaN</td>\n",
              "      <td>NaN</td>\n",
              "      <td>4</td>\n",
              "      <td>3915</td>\n",
              "      <td>NaN</td>\n",
              "    </tr>\n",
              "    <tr>\n",
              "      <th>top</th>\n",
              "      <td>Stanford University</td>\n",
              "      <td>Computer Science</td>\n",
              "      <td>PhD</td>\n",
              "      <td>Accepted</td>\n",
              "      <td>NaN</td>\n",
              "      <td>NaN</td>\n",
              "      <td>NaN</td>\n",
              "      <td>NaN</td>\n",
              "      <td>American</td>\n",
              "      <td>(15, 2, 2019)</td>\n",
              "      <td>NaN</td>\n",
              "    </tr>\n",
              "    <tr>\n",
              "      <th>freq</th>\n",
              "      <td>8836</td>\n",
              "      <td>24240</td>\n",
              "      <td>301658</td>\n",
              "      <td>197058</td>\n",
              "      <td>NaN</td>\n",
              "      <td>NaN</td>\n",
              "      <td>NaN</td>\n",
              "      <td>NaN</td>\n",
              "      <td>239524</td>\n",
              "      <td>1127</td>\n",
              "      <td>NaN</td>\n",
              "    </tr>\n",
              "    <tr>\n",
              "      <th>mean</th>\n",
              "      <td>NaN</td>\n",
              "      <td>NaN</td>\n",
              "      <td>NaN</td>\n",
              "      <td>NaN</td>\n",
              "      <td>3.707664</td>\n",
              "      <td>232.827544</td>\n",
              "      <td>250.205829</td>\n",
              "      <td>4.284211</td>\n",
              "      <td>NaN</td>\n",
              "      <td>NaN</td>\n",
              "      <td>1.403532e+09</td>\n",
              "    </tr>\n",
              "    <tr>\n",
              "      <th>std</th>\n",
              "      <td>NaN</td>\n",
              "      <td>NaN</td>\n",
              "      <td>NaN</td>\n",
              "      <td>NaN</td>\n",
              "      <td>0.515373</td>\n",
              "      <td>176.167467</td>\n",
              "      <td>209.725188</td>\n",
              "      <td>0.791555</td>\n",
              "      <td>NaN</td>\n",
              "      <td>NaN</td>\n",
              "      <td>1.080451e+08</td>\n",
              "    </tr>\n",
              "    <tr>\n",
              "      <th>min</th>\n",
              "      <td>NaN</td>\n",
              "      <td>NaN</td>\n",
              "      <td>NaN</td>\n",
              "      <td>NaN</td>\n",
              "      <td>0.400000</td>\n",
              "      <td>130.000000</td>\n",
              "      <td>130.000000</td>\n",
              "      <td>0.300000</td>\n",
              "      <td>NaN</td>\n",
              "      <td>NaN</td>\n",
              "      <td>1.139386e+09</td>\n",
              "    </tr>\n",
              "    <tr>\n",
              "      <th>25%</th>\n",
              "      <td>NaN</td>\n",
              "      <td>NaN</td>\n",
              "      <td>NaN</td>\n",
              "      <td>NaN</td>\n",
              "      <td>3.500000</td>\n",
              "      <td>155.000000</td>\n",
              "      <td>157.000000</td>\n",
              "      <td>4.000000</td>\n",
              "      <td>NaN</td>\n",
              "      <td>NaN</td>\n",
              "      <td>1.329206e+09</td>\n",
              "    </tr>\n",
              "    <tr>\n",
              "      <th>50%</th>\n",
              "      <td>NaN</td>\n",
              "      <td>NaN</td>\n",
              "      <td>NaN</td>\n",
              "      <td>NaN</td>\n",
              "      <td>3.730000</td>\n",
              "      <td>161.000000</td>\n",
              "      <td>164.000000</td>\n",
              "      <td>4.500000</td>\n",
              "      <td>NaN</td>\n",
              "      <td>NaN</td>\n",
              "      <td>1.423210e+09</td>\n",
              "    </tr>\n",
              "    <tr>\n",
              "      <th>75%</th>\n",
              "      <td>NaN</td>\n",
              "      <td>NaN</td>\n",
              "      <td>NaN</td>\n",
              "      <td>NaN</td>\n",
              "      <td>3.900000</td>\n",
              "      <td>167.000000</td>\n",
              "      <td>170.000000</td>\n",
              "      <td>5.000000</td>\n",
              "      <td>NaN</td>\n",
              "      <td>NaN</td>\n",
              "      <td>1.489993e+09</td>\n",
              "    </tr>\n",
              "    <tr>\n",
              "      <th>max</th>\n",
              "      <td>NaN</td>\n",
              "      <td>NaN</td>\n",
              "      <td>NaN</td>\n",
              "      <td>NaN</td>\n",
              "      <td>9.990000</td>\n",
              "      <td>800.000000</td>\n",
              "      <td>800.000000</td>\n",
              "      <td>6.000000</td>\n",
              "      <td>NaN</td>\n",
              "      <td>NaN</td>\n",
              "      <td>1.562742e+09</td>\n",
              "    </tr>\n",
              "  </tbody>\n",
              "</table>\n",
              "</div>\n",
              "      <button class=\"colab-df-convert\" onclick=\"convertToInteractive('df-6ad16664-12c4-4a9a-80c4-6a25392a23b6')\"\n",
              "              title=\"Convert this dataframe to an interactive table.\"\n",
              "              style=\"display:none;\">\n",
              "        \n",
              "  <svg xmlns=\"http://www.w3.org/2000/svg\" height=\"24px\"viewBox=\"0 0 24 24\"\n",
              "       width=\"24px\">\n",
              "    <path d=\"M0 0h24v24H0V0z\" fill=\"none\"/>\n",
              "    <path d=\"M18.56 5.44l.94 2.06.94-2.06 2.06-.94-2.06-.94-.94-2.06-.94 2.06-2.06.94zm-11 1L8.5 8.5l.94-2.06 2.06-.94-2.06-.94L8.5 2.5l-.94 2.06-2.06.94zm10 10l.94 2.06.94-2.06 2.06-.94-2.06-.94-.94-2.06-.94 2.06-2.06.94z\"/><path d=\"M17.41 7.96l-1.37-1.37c-.4-.4-.92-.59-1.43-.59-.52 0-1.04.2-1.43.59L10.3 9.45l-7.72 7.72c-.78.78-.78 2.05 0 2.83L4 21.41c.39.39.9.59 1.41.59.51 0 1.02-.2 1.41-.59l7.78-7.78 2.81-2.81c.8-.78.8-2.07 0-2.86zM5.41 20L4 18.59l7.72-7.72 1.47 1.35L5.41 20z\"/>\n",
              "  </svg>\n",
              "      </button>\n",
              "      \n",
              "  <style>\n",
              "    .colab-df-container {\n",
              "      display:flex;\n",
              "      flex-wrap:wrap;\n",
              "      gap: 12px;\n",
              "    }\n",
              "\n",
              "    .colab-df-convert {\n",
              "      background-color: #E8F0FE;\n",
              "      border: none;\n",
              "      border-radius: 50%;\n",
              "      cursor: pointer;\n",
              "      display: none;\n",
              "      fill: #1967D2;\n",
              "      height: 32px;\n",
              "      padding: 0 0 0 0;\n",
              "      width: 32px;\n",
              "    }\n",
              "\n",
              "    .colab-df-convert:hover {\n",
              "      background-color: #E2EBFA;\n",
              "      box-shadow: 0px 1px 2px rgba(60, 64, 67, 0.3), 0px 1px 3px 1px rgba(60, 64, 67, 0.15);\n",
              "      fill: #174EA6;\n",
              "    }\n",
              "\n",
              "    [theme=dark] .colab-df-convert {\n",
              "      background-color: #3B4455;\n",
              "      fill: #D2E3FC;\n",
              "    }\n",
              "\n",
              "    [theme=dark] .colab-df-convert:hover {\n",
              "      background-color: #434B5C;\n",
              "      box-shadow: 0px 1px 3px 1px rgba(0, 0, 0, 0.15);\n",
              "      filter: drop-shadow(0px 1px 2px rgba(0, 0, 0, 0.3));\n",
              "      fill: #FFFFFF;\n",
              "    }\n",
              "  </style>\n",
              "\n",
              "      <script>\n",
              "        const buttonEl =\n",
              "          document.querySelector('#df-6ad16664-12c4-4a9a-80c4-6a25392a23b6 button.colab-df-convert');\n",
              "        buttonEl.style.display =\n",
              "          google.colab.kernel.accessAllowed ? 'block' : 'none';\n",
              "\n",
              "        async function convertToInteractive(key) {\n",
              "          const element = document.querySelector('#df-6ad16664-12c4-4a9a-80c4-6a25392a23b6');\n",
              "          const dataTable =\n",
              "            await google.colab.kernel.invokeFunction('convertToInteractive',\n",
              "                                                     [key], {});\n",
              "          if (!dataTable) return;\n",
              "\n",
              "          const docLinkHtml = 'Like what you see? Visit the ' +\n",
              "            '<a target=\"_blank\" href=https://colab.research.google.com/notebooks/data_table.ipynb>data table notebook</a>'\n",
              "            + ' to learn more about interactive tables.';\n",
              "          element.innerHTML = '';\n",
              "          dataTable['output_type'] = 'display_data';\n",
              "          await google.colab.output.renderOutput(dataTable, element);\n",
              "          const docLink = document.createElement('div');\n",
              "          docLink.innerHTML = docLinkHtml;\n",
              "          element.appendChild(docLink);\n",
              "        }\n",
              "      </script>\n",
              "    </div>\n",
              "  </div>\n",
              "  "
            ]
          },
          "metadata": {},
          "execution_count": 1017
        }
      ],
      "source": [
        "grad_cafe_summary = grad_cafe_df.describe(include='all')\n",
        "grad_cafe_summary"
      ]
    },
    {
      "cell_type": "code",
      "execution_count": null,
      "id": "6d953332",
      "metadata": {
        "id": "6d953332",
        "outputId": "8af9ed12-3a88-4f08-ed85-2b12b78eec70",
        "colab": {
          "base_uri": "https://localhost:8080/"
        }
      },
      "outputs": [
        {
          "output_type": "stream",
          "name": "stdout",
          "text": [
            "University   0\n",
            "Major   7\n",
            "Program   0\n",
            "Status   56221\n",
            "CGPA   371053\n",
            "GRE_V   361978\n",
            "GRE_Q   361978\n",
            "GRE_AWA   366199\n",
            "Country   44751\n",
            "Date   0\n",
            "Tuition   0\n"
          ]
        }
      ],
      "source": [
        "for col in grad_cafe_df.columns:\n",
        "    print(col, \" \", grad_cafe_df[col].isna().sum())"
      ]
    },
    {
      "cell_type": "code",
      "execution_count": null,
      "id": "2ddf8717",
      "metadata": {
        "id": "2ddf8717"
      },
      "outputs": [],
      "source": [
        "grad_cafe_df = grad_cafe_df.dropna(subset=['Status'])\n",
        "grad_cafe_df = grad_cafe_df.dropna(subset=['Major'])"
      ]
    },
    {
      "cell_type": "code",
      "execution_count": null,
      "id": "9972d16a",
      "metadata": {
        "id": "9972d16a",
        "outputId": "f8d1d0f4-b030-447a-91ab-ca4619b0db88",
        "colab": {
          "base_uri": "https://localhost:8080/",
          "height": 473
        }
      },
      "outputs": [
        {
          "output_type": "execute_result",
          "data": {
            "text/plain": [
              "      userName                       major  researchExp  industryExp  \\\n",
              "0       143saf         Systems and Control            0           18   \n",
              "1   7790ashish   Manufacturing Engineering            0            0   \n",
              "2         AB25  (MIS / MSIM / MSIS / MSIT)            0           66   \n",
              "3     abhijitg                         NaN            0            0   \n",
              "4  abhijitgang                         MIS            0            0   \n",
              "\n",
              "  specialization  toeflScore program                 department toeflEssay  \\\n",
              "0       Robotics       112.0      MS  Instrumentation & Control         26   \n",
              "1            NaN         NaN      MS                          0        NaN   \n",
              "2            NaN        94.0      MS       Computer Engineering         21   \n",
              "3            NaN         NaN     NaN                          0        NaN   \n",
              "4            NaN        81.0      MS                   computer        NaN   \n",
              "\n",
              "   internExp  ...  termAndYear  confPubs                    ugCollege gmatA  \\\n",
              "0        5.0  ...  Fall - 2015         0  Dharamsinh Desai University   NaN   \n",
              "1        0.0  ...  Fall - 2013         0                          NaN   NaN   \n",
              "2        0.0  ...  Fall - 2015         0                     IET DAVV   NaN   \n",
              "3        0.0  ...          NaN       NaN                          NaN   NaN   \n",
              "4        0.0  ...  Fall - 2011         0              Pune University   NaN   \n",
              "\n",
              "    cgpa  gmatQ cgpaScale gmatV                         univName  admit  \n",
              "0   8.50    NaN        10   NaN  Worcester Polytechnic Institute      1  \n",
              "1   0.00    NaN         0   NaN  Worcester Polytechnic Institute      1  \n",
              "2  78.28    NaN       100   NaN  Worcester Polytechnic Institute      1  \n",
              "3   0.00    NaN         0   NaN  Worcester Polytechnic Institute      1  \n",
              "4  57.00    NaN       100   NaN  Worcester Polytechnic Institute      1  \n",
              "\n",
              "[5 rows x 26 columns]"
            ],
            "text/html": [
              "\n",
              "  <div id=\"df-1fe31001-0c4b-4e20-954c-75379f26bd87\">\n",
              "    <div class=\"colab-df-container\">\n",
              "      <div>\n",
              "<style scoped>\n",
              "    .dataframe tbody tr th:only-of-type {\n",
              "        vertical-align: middle;\n",
              "    }\n",
              "\n",
              "    .dataframe tbody tr th {\n",
              "        vertical-align: top;\n",
              "    }\n",
              "\n",
              "    .dataframe thead th {\n",
              "        text-align: right;\n",
              "    }\n",
              "</style>\n",
              "<table border=\"1\" class=\"dataframe\">\n",
              "  <thead>\n",
              "    <tr style=\"text-align: right;\">\n",
              "      <th></th>\n",
              "      <th>userName</th>\n",
              "      <th>major</th>\n",
              "      <th>researchExp</th>\n",
              "      <th>industryExp</th>\n",
              "      <th>specialization</th>\n",
              "      <th>toeflScore</th>\n",
              "      <th>program</th>\n",
              "      <th>department</th>\n",
              "      <th>toeflEssay</th>\n",
              "      <th>internExp</th>\n",
              "      <th>...</th>\n",
              "      <th>termAndYear</th>\n",
              "      <th>confPubs</th>\n",
              "      <th>ugCollege</th>\n",
              "      <th>gmatA</th>\n",
              "      <th>cgpa</th>\n",
              "      <th>gmatQ</th>\n",
              "      <th>cgpaScale</th>\n",
              "      <th>gmatV</th>\n",
              "      <th>univName</th>\n",
              "      <th>admit</th>\n",
              "    </tr>\n",
              "  </thead>\n",
              "  <tbody>\n",
              "    <tr>\n",
              "      <th>0</th>\n",
              "      <td>143saf</td>\n",
              "      <td>Systems and Control</td>\n",
              "      <td>0</td>\n",
              "      <td>18</td>\n",
              "      <td>Robotics</td>\n",
              "      <td>112.0</td>\n",
              "      <td>MS</td>\n",
              "      <td>Instrumentation &amp; Control</td>\n",
              "      <td>26</td>\n",
              "      <td>5.0</td>\n",
              "      <td>...</td>\n",
              "      <td>Fall - 2015</td>\n",
              "      <td>0</td>\n",
              "      <td>Dharamsinh Desai University</td>\n",
              "      <td>NaN</td>\n",
              "      <td>8.50</td>\n",
              "      <td>NaN</td>\n",
              "      <td>10</td>\n",
              "      <td>NaN</td>\n",
              "      <td>Worcester Polytechnic Institute</td>\n",
              "      <td>1</td>\n",
              "    </tr>\n",
              "    <tr>\n",
              "      <th>1</th>\n",
              "      <td>7790ashish</td>\n",
              "      <td>Manufacturing Engineering</td>\n",
              "      <td>0</td>\n",
              "      <td>0</td>\n",
              "      <td>NaN</td>\n",
              "      <td>NaN</td>\n",
              "      <td>MS</td>\n",
              "      <td>0</td>\n",
              "      <td>NaN</td>\n",
              "      <td>0.0</td>\n",
              "      <td>...</td>\n",
              "      <td>Fall - 2013</td>\n",
              "      <td>0</td>\n",
              "      <td>NaN</td>\n",
              "      <td>NaN</td>\n",
              "      <td>0.00</td>\n",
              "      <td>NaN</td>\n",
              "      <td>0</td>\n",
              "      <td>NaN</td>\n",
              "      <td>Worcester Polytechnic Institute</td>\n",
              "      <td>1</td>\n",
              "    </tr>\n",
              "    <tr>\n",
              "      <th>2</th>\n",
              "      <td>AB25</td>\n",
              "      <td>(MIS / MSIM / MSIS / MSIT)</td>\n",
              "      <td>0</td>\n",
              "      <td>66</td>\n",
              "      <td>NaN</td>\n",
              "      <td>94.0</td>\n",
              "      <td>MS</td>\n",
              "      <td>Computer Engineering</td>\n",
              "      <td>21</td>\n",
              "      <td>0.0</td>\n",
              "      <td>...</td>\n",
              "      <td>Fall - 2015</td>\n",
              "      <td>0</td>\n",
              "      <td>IET DAVV</td>\n",
              "      <td>NaN</td>\n",
              "      <td>78.28</td>\n",
              "      <td>NaN</td>\n",
              "      <td>100</td>\n",
              "      <td>NaN</td>\n",
              "      <td>Worcester Polytechnic Institute</td>\n",
              "      <td>1</td>\n",
              "    </tr>\n",
              "    <tr>\n",
              "      <th>3</th>\n",
              "      <td>abhijitg</td>\n",
              "      <td>NaN</td>\n",
              "      <td>0</td>\n",
              "      <td>0</td>\n",
              "      <td>NaN</td>\n",
              "      <td>NaN</td>\n",
              "      <td>NaN</td>\n",
              "      <td>0</td>\n",
              "      <td>NaN</td>\n",
              "      <td>0.0</td>\n",
              "      <td>...</td>\n",
              "      <td>NaN</td>\n",
              "      <td>NaN</td>\n",
              "      <td>NaN</td>\n",
              "      <td>NaN</td>\n",
              "      <td>0.00</td>\n",
              "      <td>NaN</td>\n",
              "      <td>0</td>\n",
              "      <td>NaN</td>\n",
              "      <td>Worcester Polytechnic Institute</td>\n",
              "      <td>1</td>\n",
              "    </tr>\n",
              "    <tr>\n",
              "      <th>4</th>\n",
              "      <td>abhijitgang</td>\n",
              "      <td>MIS</td>\n",
              "      <td>0</td>\n",
              "      <td>0</td>\n",
              "      <td>NaN</td>\n",
              "      <td>81.0</td>\n",
              "      <td>MS</td>\n",
              "      <td>computer</td>\n",
              "      <td>NaN</td>\n",
              "      <td>0.0</td>\n",
              "      <td>...</td>\n",
              "      <td>Fall - 2011</td>\n",
              "      <td>0</td>\n",
              "      <td>Pune University</td>\n",
              "      <td>NaN</td>\n",
              "      <td>57.00</td>\n",
              "      <td>NaN</td>\n",
              "      <td>100</td>\n",
              "      <td>NaN</td>\n",
              "      <td>Worcester Polytechnic Institute</td>\n",
              "      <td>1</td>\n",
              "    </tr>\n",
              "  </tbody>\n",
              "</table>\n",
              "<p>5 rows × 26 columns</p>\n",
              "</div>\n",
              "      <button class=\"colab-df-convert\" onclick=\"convertToInteractive('df-1fe31001-0c4b-4e20-954c-75379f26bd87')\"\n",
              "              title=\"Convert this dataframe to an interactive table.\"\n",
              "              style=\"display:none;\">\n",
              "        \n",
              "  <svg xmlns=\"http://www.w3.org/2000/svg\" height=\"24px\"viewBox=\"0 0 24 24\"\n",
              "       width=\"24px\">\n",
              "    <path d=\"M0 0h24v24H0V0z\" fill=\"none\"/>\n",
              "    <path d=\"M18.56 5.44l.94 2.06.94-2.06 2.06-.94-2.06-.94-.94-2.06-.94 2.06-2.06.94zm-11 1L8.5 8.5l.94-2.06 2.06-.94-2.06-.94L8.5 2.5l-.94 2.06-2.06.94zm10 10l.94 2.06.94-2.06 2.06-.94-2.06-.94-.94-2.06-.94 2.06-2.06.94z\"/><path d=\"M17.41 7.96l-1.37-1.37c-.4-.4-.92-.59-1.43-.59-.52 0-1.04.2-1.43.59L10.3 9.45l-7.72 7.72c-.78.78-.78 2.05 0 2.83L4 21.41c.39.39.9.59 1.41.59.51 0 1.02-.2 1.41-.59l7.78-7.78 2.81-2.81c.8-.78.8-2.07 0-2.86zM5.41 20L4 18.59l7.72-7.72 1.47 1.35L5.41 20z\"/>\n",
              "  </svg>\n",
              "      </button>\n",
              "      \n",
              "  <style>\n",
              "    .colab-df-container {\n",
              "      display:flex;\n",
              "      flex-wrap:wrap;\n",
              "      gap: 12px;\n",
              "    }\n",
              "\n",
              "    .colab-df-convert {\n",
              "      background-color: #E8F0FE;\n",
              "      border: none;\n",
              "      border-radius: 50%;\n",
              "      cursor: pointer;\n",
              "      display: none;\n",
              "      fill: #1967D2;\n",
              "      height: 32px;\n",
              "      padding: 0 0 0 0;\n",
              "      width: 32px;\n",
              "    }\n",
              "\n",
              "    .colab-df-convert:hover {\n",
              "      background-color: #E2EBFA;\n",
              "      box-shadow: 0px 1px 2px rgba(60, 64, 67, 0.3), 0px 1px 3px 1px rgba(60, 64, 67, 0.15);\n",
              "      fill: #174EA6;\n",
              "    }\n",
              "\n",
              "    [theme=dark] .colab-df-convert {\n",
              "      background-color: #3B4455;\n",
              "      fill: #D2E3FC;\n",
              "    }\n",
              "\n",
              "    [theme=dark] .colab-df-convert:hover {\n",
              "      background-color: #434B5C;\n",
              "      box-shadow: 0px 1px 3px 1px rgba(0, 0, 0, 0.15);\n",
              "      filter: drop-shadow(0px 1px 2px rgba(0, 0, 0, 0.3));\n",
              "      fill: #FFFFFF;\n",
              "    }\n",
              "  </style>\n",
              "\n",
              "      <script>\n",
              "        const buttonEl =\n",
              "          document.querySelector('#df-1fe31001-0c4b-4e20-954c-75379f26bd87 button.colab-df-convert');\n",
              "        buttonEl.style.display =\n",
              "          google.colab.kernel.accessAllowed ? 'block' : 'none';\n",
              "\n",
              "        async function convertToInteractive(key) {\n",
              "          const element = document.querySelector('#df-1fe31001-0c4b-4e20-954c-75379f26bd87');\n",
              "          const dataTable =\n",
              "            await google.colab.kernel.invokeFunction('convertToInteractive',\n",
              "                                                     [key], {});\n",
              "          if (!dataTable) return;\n",
              "\n",
              "          const docLinkHtml = 'Like what you see? Visit the ' +\n",
              "            '<a target=\"_blank\" href=https://colab.research.google.com/notebooks/data_table.ipynb>data table notebook</a>'\n",
              "            + ' to learn more about interactive tables.';\n",
              "          element.innerHTML = '';\n",
              "          dataTable['output_type'] = 'display_data';\n",
              "          await google.colab.output.renderOutput(dataTable, element);\n",
              "          const docLink = document.createElement('div');\n",
              "          docLink.innerHTML = docLinkHtml;\n",
              "          element.appendChild(docLink);\n",
              "        }\n",
              "      </script>\n",
              "    </div>\n",
              "  </div>\n",
              "  "
            ]
          },
          "metadata": {},
          "execution_count": 1020
        }
      ],
      "source": [
        "kaggle_df.head()"
      ]
    },
    {
      "cell_type": "code",
      "execution_count": null,
      "id": "83641ed7",
      "metadata": {
        "id": "83641ed7",
        "outputId": "4256c2cc-3d33-4083-b904-537bf9337f59",
        "colab": {
          "base_uri": "https://localhost:8080/"
        }
      },
      "outputs": [
        {
          "output_type": "stream",
          "name": "stdout",
          "text": [
            "userName   0\n",
            "major   387\n",
            "researchExp   0\n",
            "industryExp   0\n",
            "specialization   21695\n",
            "toeflScore   4414\n",
            "program   322\n",
            "department   1\n",
            "toeflEssay   41770\n",
            "internExp   14\n",
            "greV   1256\n",
            "greQ   1220\n",
            "userProfileLink   0\n",
            "journalPubs   322\n",
            "greA   2858\n",
            "topperCgpa   3\n",
            "termAndYear   322\n",
            "confPubs   322\n",
            "ugCollege   2278\n",
            "gmatA   53525\n",
            "cgpa   0\n",
            "gmatQ   53521\n",
            "cgpaScale   0\n",
            "gmatV   53530\n",
            "univName   0\n",
            "admit   0\n"
          ]
        }
      ],
      "source": [
        "for col in kaggle_df.columns:\n",
        "    print(col, \" \", kaggle_df[col].isna().sum())"
      ]
    },
    {
      "cell_type": "code",
      "execution_count": null,
      "id": "38d6d842",
      "metadata": {
        "id": "38d6d842"
      },
      "outputs": [],
      "source": [
        "kaggle_df = kaggle_df.dropna(subset=['major'])\n",
        "kaggle_df = kaggle_df.dropna(subset=['program'])"
      ]
    },
    {
      "cell_type": "code",
      "execution_count": null,
      "id": "bb952682",
      "metadata": {
        "scrolled": true,
        "id": "bb952682",
        "outputId": "ecaae7ad-e131-4845-80be-19ae5732c776",
        "colab": {
          "base_uri": "https://localhost:8080/"
        }
      },
      "outputs": [
        {
          "output_type": "stream",
          "name": "stdout",
          "text": [
            "Index(['userName', 'major', 'researchExp', 'industryExp', 'specialization',\n",
            "       'toeflScore', 'program', 'department', 'toeflEssay', 'internExp',\n",
            "       'greV', 'greQ', 'userProfileLink', 'journalPubs', 'greA', 'topperCgpa',\n",
            "       'termAndYear', 'confPubs', 'ugCollege', 'gmatA', 'cgpa', 'gmatQ',\n",
            "       'cgpaScale', 'gmatV', 'univName', 'admit'],\n",
            "      dtype='object')\n",
            "Index(['University', 'Major', 'Program', 'Status', 'CGPA', 'GRE_V', 'GRE_Q',\n",
            "       'GRE_AWA', 'Country', 'Date', 'Tuition'],\n",
            "      dtype='object')\n"
          ]
        }
      ],
      "source": [
        "print(kaggle_df.columns)\n",
        "print(grad_cafe_df.columns)"
      ]
    },
    {
      "cell_type": "code",
      "execution_count": null,
      "id": "2084f4d4",
      "metadata": {
        "id": "2084f4d4",
        "outputId": "f72e90b8-2686-43e1-d353-e307da64bcdb",
        "colab": {
          "base_uri": "https://localhost:8080/"
        }
      },
      "outputs": [
        {
          "output_type": "execute_result",
          "data": {
            "text/plain": [
              "Index(['userName', 'Major', 'researchExp', 'industryExp', 'specialization',\n",
              "       'toeflScore', 'Program', 'department', 'toeflEssay', 'internExp',\n",
              "       'GRE_V', 'GRE_Q', 'userProfileLink', 'journalPubs', 'GRE_AWA',\n",
              "       'topperCgpa', 'termAndYear', 'confPubs', 'ugCollege', 'gmatA', 'CGPA',\n",
              "       'gmatQ', 'cgpaScale', 'gmatV', 'University', 'Status'],\n",
              "      dtype='object')"
            ]
          },
          "metadata": {},
          "execution_count": 1024
        }
      ],
      "source": [
        "kaggle_df= kaggle_df.rename(columns={'univName': 'University', 'major': 'Major',\n",
        "'program': 'Program', 'admit': 'Status', 'cgpa': 'CGPA', 'greV': 'GRE_V', 'greQ': 'GRE_Q',\n",
        "'greA': 'GRE_AWA'})\n",
        "\n",
        "kaggle_df.columns"
      ]
    },
    {
      "cell_type": "code",
      "execution_count": null,
      "id": "a7dc0ee1",
      "metadata": {
        "id": "a7dc0ee1"
      },
      "outputs": [],
      "source": [
        "concatenated_df = pd.concat([kaggle_df, grad_cafe_df], axis=0)"
      ]
    },
    {
      "cell_type": "code",
      "execution_count": null,
      "id": "a4a35a42",
      "metadata": {
        "id": "a4a35a42",
        "outputId": "3f8be330-7284-49bd-95ad-52aa23b9fcfd",
        "colab": {
          "base_uri": "https://localhost:8080/"
        }
      },
      "outputs": [
        {
          "output_type": "execute_result",
          "data": {
            "text/plain": [
              "Index(['userName', 'Major', 'researchExp', 'industryExp', 'specialization',\n",
              "       'toeflScore', 'Program', 'department', 'toeflEssay', 'internExp',\n",
              "       'GRE_V', 'GRE_Q', 'userProfileLink', 'journalPubs', 'GRE_AWA',\n",
              "       'topperCgpa', 'termAndYear', 'confPubs', 'ugCollege', 'gmatA', 'CGPA',\n",
              "       'gmatQ', 'cgpaScale', 'gmatV', 'University', 'Status', 'Country',\n",
              "       'Date', 'Tuition'],\n",
              "      dtype='object')"
            ]
          },
          "metadata": {},
          "execution_count": 1026
        }
      ],
      "source": [
        "concatenated_df.columns"
      ]
    },
    {
      "cell_type": "code",
      "execution_count": null,
      "id": "a51339a6",
      "metadata": {
        "id": "a51339a6"
      },
      "outputs": [],
      "source": [
        "concatenated_df = concatenated_df.reset_index(drop=True)\n"
      ]
    },
    {
      "cell_type": "code",
      "execution_count": null,
      "id": "a58116e3",
      "metadata": {
        "id": "a58116e3",
        "outputId": "ec4dfc91-9e51-45ec-c322-fb8d02e92479",
        "colab": {
          "base_uri": "https://localhost:8080/"
        }
      },
      "outputs": [
        {
          "output_type": "stream",
          "name": "stdout",
          "text": [
            "userName   88.95731344459581\n",
            "Major   0.0\n",
            "researchExp   88.95731344459581\n",
            "industryExp   88.95731344459581\n",
            "specialization   93.3816866860329\n",
            "toeflScore   89.802667728284\n",
            "Program   0.0\n",
            "department   88.95752079173431\n",
            "toeflEssay   97.5398262016285\n",
            "internExp   88.9602163045349\n",
            "GRE_V   64.33898768980039\n",
            "GRE_Q   64.33152319281417\n",
            "userProfileLink   88.95731344459581\n",
            "journalPubs   88.95731344459581\n",
            "GRE_AWA   65.52107372642205\n",
            "topperCgpa   88.95793548601134\n",
            "termAndYear   88.95731344459581\n",
            "confPubs   88.95731344459581\n",
            "ugCollege   89.36143301754365\n",
            "gmatA   99.97532569051782\n",
            "CGPA   65.9720537526722\n",
            "gmatQ   99.97449630196378\n",
            "cgpaScale   88.95731344459581\n",
            "gmatV   99.97636242621034\n",
            "University   0.0\n",
            "Status   0.0\n",
            "Country   18.57975504009057\n",
            "Date   11.042686555404192\n",
            "Tuition   11.042686555404192\n"
          ]
        }
      ],
      "source": [
        "for col in concatenated_df.columns:\n",
        "    print(col, \" \", (concatenated_df[col].isna().sum())/len(concatenated_df[col])*100)"
      ]
    },
    {
      "cell_type": "code",
      "execution_count": null,
      "id": "40f5ac2a",
      "metadata": {
        "id": "40f5ac2a",
        "outputId": "a990e178-a1bb-45ab-fca3-ec8783e7d5f6",
        "colab": {
          "base_uri": "https://localhost:8080/",
          "height": 461
        }
      },
      "outputs": [
        {
          "output_type": "execute_result",
          "data": {
            "text/plain": [
              "                        Major  researchExp  industryExp  toeflScore Program  \\\n",
              "0         Systems and Control          0.0         18.0       112.0      MS   \n",
              "1   Manufacturing Engineering          0.0          0.0         NaN      MS   \n",
              "2  (MIS / MSIM / MSIS / MSIT)          0.0         66.0        94.0      MS   \n",
              "3                         MIS          0.0          0.0        81.0      MS   \n",
              "4                         MIS          0.0          0.0       273.0      MS   \n",
              "\n",
              "  toeflEssay  internExp  GRE_V   GRE_Q journalPubs  GRE_AWA  termAndYear  \\\n",
              "0         26        5.0  160.0   167.0           0      4.5  Fall - 2015   \n",
              "1        NaN        0.0    NaN     NaN           0      NaN  Fall - 2013   \n",
              "2         21        0.0  146.0   157.0           0      3.0  Fall - 2015   \n",
              "3        NaN        0.0  420.0   770.0           0      2.5  Fall - 2011   \n",
              "4          6        0.0  410.0  1010.0           0    600.0  Fall - 2006   \n",
              "\n",
              "                              ugCollege   CGPA  cgpaScale  \\\n",
              "0           Dharamsinh Desai University   8.50       10.0   \n",
              "1                                   NaN   0.00        0.0   \n",
              "2                              IET DAVV  78.28      100.0   \n",
              "3                       Pune University  57.00      100.0   \n",
              "4  Thadomal Shahani Engineering College  52.00      100.0   \n",
              "\n",
              "                        University Status Country Date  Tuition  \n",
              "0  Worcester Polytechnic Institute      1     NaN  NaN      NaN  \n",
              "1  Worcester Polytechnic Institute      1     NaN  NaN      NaN  \n",
              "2  Worcester Polytechnic Institute      1     NaN  NaN      NaN  \n",
              "3  Worcester Polytechnic Institute      1     NaN  NaN      NaN  \n",
              "4  Worcester Polytechnic Institute      1     NaN  NaN      NaN  "
            ],
            "text/html": [
              "\n",
              "  <div id=\"df-0ae85933-3cd5-4fb1-afe0-625b6eb30c93\">\n",
              "    <div class=\"colab-df-container\">\n",
              "      <div>\n",
              "<style scoped>\n",
              "    .dataframe tbody tr th:only-of-type {\n",
              "        vertical-align: middle;\n",
              "    }\n",
              "\n",
              "    .dataframe tbody tr th {\n",
              "        vertical-align: top;\n",
              "    }\n",
              "\n",
              "    .dataframe thead th {\n",
              "        text-align: right;\n",
              "    }\n",
              "</style>\n",
              "<table border=\"1\" class=\"dataframe\">\n",
              "  <thead>\n",
              "    <tr style=\"text-align: right;\">\n",
              "      <th></th>\n",
              "      <th>Major</th>\n",
              "      <th>researchExp</th>\n",
              "      <th>industryExp</th>\n",
              "      <th>toeflScore</th>\n",
              "      <th>Program</th>\n",
              "      <th>toeflEssay</th>\n",
              "      <th>internExp</th>\n",
              "      <th>GRE_V</th>\n",
              "      <th>GRE_Q</th>\n",
              "      <th>journalPubs</th>\n",
              "      <th>GRE_AWA</th>\n",
              "      <th>termAndYear</th>\n",
              "      <th>ugCollege</th>\n",
              "      <th>CGPA</th>\n",
              "      <th>cgpaScale</th>\n",
              "      <th>University</th>\n",
              "      <th>Status</th>\n",
              "      <th>Country</th>\n",
              "      <th>Date</th>\n",
              "      <th>Tuition</th>\n",
              "    </tr>\n",
              "  </thead>\n",
              "  <tbody>\n",
              "    <tr>\n",
              "      <th>0</th>\n",
              "      <td>Systems and Control</td>\n",
              "      <td>0.0</td>\n",
              "      <td>18.0</td>\n",
              "      <td>112.0</td>\n",
              "      <td>MS</td>\n",
              "      <td>26</td>\n",
              "      <td>5.0</td>\n",
              "      <td>160.0</td>\n",
              "      <td>167.0</td>\n",
              "      <td>0</td>\n",
              "      <td>4.5</td>\n",
              "      <td>Fall - 2015</td>\n",
              "      <td>Dharamsinh Desai University</td>\n",
              "      <td>8.50</td>\n",
              "      <td>10.0</td>\n",
              "      <td>Worcester Polytechnic Institute</td>\n",
              "      <td>1</td>\n",
              "      <td>NaN</td>\n",
              "      <td>NaN</td>\n",
              "      <td>NaN</td>\n",
              "    </tr>\n",
              "    <tr>\n",
              "      <th>1</th>\n",
              "      <td>Manufacturing Engineering</td>\n",
              "      <td>0.0</td>\n",
              "      <td>0.0</td>\n",
              "      <td>NaN</td>\n",
              "      <td>MS</td>\n",
              "      <td>NaN</td>\n",
              "      <td>0.0</td>\n",
              "      <td>NaN</td>\n",
              "      <td>NaN</td>\n",
              "      <td>0</td>\n",
              "      <td>NaN</td>\n",
              "      <td>Fall - 2013</td>\n",
              "      <td>NaN</td>\n",
              "      <td>0.00</td>\n",
              "      <td>0.0</td>\n",
              "      <td>Worcester Polytechnic Institute</td>\n",
              "      <td>1</td>\n",
              "      <td>NaN</td>\n",
              "      <td>NaN</td>\n",
              "      <td>NaN</td>\n",
              "    </tr>\n",
              "    <tr>\n",
              "      <th>2</th>\n",
              "      <td>(MIS / MSIM / MSIS / MSIT)</td>\n",
              "      <td>0.0</td>\n",
              "      <td>66.0</td>\n",
              "      <td>94.0</td>\n",
              "      <td>MS</td>\n",
              "      <td>21</td>\n",
              "      <td>0.0</td>\n",
              "      <td>146.0</td>\n",
              "      <td>157.0</td>\n",
              "      <td>0</td>\n",
              "      <td>3.0</td>\n",
              "      <td>Fall - 2015</td>\n",
              "      <td>IET DAVV</td>\n",
              "      <td>78.28</td>\n",
              "      <td>100.0</td>\n",
              "      <td>Worcester Polytechnic Institute</td>\n",
              "      <td>1</td>\n",
              "      <td>NaN</td>\n",
              "      <td>NaN</td>\n",
              "      <td>NaN</td>\n",
              "    </tr>\n",
              "    <tr>\n",
              "      <th>3</th>\n",
              "      <td>MIS</td>\n",
              "      <td>0.0</td>\n",
              "      <td>0.0</td>\n",
              "      <td>81.0</td>\n",
              "      <td>MS</td>\n",
              "      <td>NaN</td>\n",
              "      <td>0.0</td>\n",
              "      <td>420.0</td>\n",
              "      <td>770.0</td>\n",
              "      <td>0</td>\n",
              "      <td>2.5</td>\n",
              "      <td>Fall - 2011</td>\n",
              "      <td>Pune University</td>\n",
              "      <td>57.00</td>\n",
              "      <td>100.0</td>\n",
              "      <td>Worcester Polytechnic Institute</td>\n",
              "      <td>1</td>\n",
              "      <td>NaN</td>\n",
              "      <td>NaN</td>\n",
              "      <td>NaN</td>\n",
              "    </tr>\n",
              "    <tr>\n",
              "      <th>4</th>\n",
              "      <td>MIS</td>\n",
              "      <td>0.0</td>\n",
              "      <td>0.0</td>\n",
              "      <td>273.0</td>\n",
              "      <td>MS</td>\n",
              "      <td>6</td>\n",
              "      <td>0.0</td>\n",
              "      <td>410.0</td>\n",
              "      <td>1010.0</td>\n",
              "      <td>0</td>\n",
              "      <td>600.0</td>\n",
              "      <td>Fall - 2006</td>\n",
              "      <td>Thadomal Shahani Engineering College</td>\n",
              "      <td>52.00</td>\n",
              "      <td>100.0</td>\n",
              "      <td>Worcester Polytechnic Institute</td>\n",
              "      <td>1</td>\n",
              "      <td>NaN</td>\n",
              "      <td>NaN</td>\n",
              "      <td>NaN</td>\n",
              "    </tr>\n",
              "  </tbody>\n",
              "</table>\n",
              "</div>\n",
              "      <button class=\"colab-df-convert\" onclick=\"convertToInteractive('df-0ae85933-3cd5-4fb1-afe0-625b6eb30c93')\"\n",
              "              title=\"Convert this dataframe to an interactive table.\"\n",
              "              style=\"display:none;\">\n",
              "        \n",
              "  <svg xmlns=\"http://www.w3.org/2000/svg\" height=\"24px\"viewBox=\"0 0 24 24\"\n",
              "       width=\"24px\">\n",
              "    <path d=\"M0 0h24v24H0V0z\" fill=\"none\"/>\n",
              "    <path d=\"M18.56 5.44l.94 2.06.94-2.06 2.06-.94-2.06-.94-.94-2.06-.94 2.06-2.06.94zm-11 1L8.5 8.5l.94-2.06 2.06-.94-2.06-.94L8.5 2.5l-.94 2.06-2.06.94zm10 10l.94 2.06.94-2.06 2.06-.94-2.06-.94-.94-2.06-.94 2.06-2.06.94z\"/><path d=\"M17.41 7.96l-1.37-1.37c-.4-.4-.92-.59-1.43-.59-.52 0-1.04.2-1.43.59L10.3 9.45l-7.72 7.72c-.78.78-.78 2.05 0 2.83L4 21.41c.39.39.9.59 1.41.59.51 0 1.02-.2 1.41-.59l7.78-7.78 2.81-2.81c.8-.78.8-2.07 0-2.86zM5.41 20L4 18.59l7.72-7.72 1.47 1.35L5.41 20z\"/>\n",
              "  </svg>\n",
              "      </button>\n",
              "      \n",
              "  <style>\n",
              "    .colab-df-container {\n",
              "      display:flex;\n",
              "      flex-wrap:wrap;\n",
              "      gap: 12px;\n",
              "    }\n",
              "\n",
              "    .colab-df-convert {\n",
              "      background-color: #E8F0FE;\n",
              "      border: none;\n",
              "      border-radius: 50%;\n",
              "      cursor: pointer;\n",
              "      display: none;\n",
              "      fill: #1967D2;\n",
              "      height: 32px;\n",
              "      padding: 0 0 0 0;\n",
              "      width: 32px;\n",
              "    }\n",
              "\n",
              "    .colab-df-convert:hover {\n",
              "      background-color: #E2EBFA;\n",
              "      box-shadow: 0px 1px 2px rgba(60, 64, 67, 0.3), 0px 1px 3px 1px rgba(60, 64, 67, 0.15);\n",
              "      fill: #174EA6;\n",
              "    }\n",
              "\n",
              "    [theme=dark] .colab-df-convert {\n",
              "      background-color: #3B4455;\n",
              "      fill: #D2E3FC;\n",
              "    }\n",
              "\n",
              "    [theme=dark] .colab-df-convert:hover {\n",
              "      background-color: #434B5C;\n",
              "      box-shadow: 0px 1px 3px 1px rgba(0, 0, 0, 0.15);\n",
              "      filter: drop-shadow(0px 1px 2px rgba(0, 0, 0, 0.3));\n",
              "      fill: #FFFFFF;\n",
              "    }\n",
              "  </style>\n",
              "\n",
              "      <script>\n",
              "        const buttonEl =\n",
              "          document.querySelector('#df-0ae85933-3cd5-4fb1-afe0-625b6eb30c93 button.colab-df-convert');\n",
              "        buttonEl.style.display =\n",
              "          google.colab.kernel.accessAllowed ? 'block' : 'none';\n",
              "\n",
              "        async function convertToInteractive(key) {\n",
              "          const element = document.querySelector('#df-0ae85933-3cd5-4fb1-afe0-625b6eb30c93');\n",
              "          const dataTable =\n",
              "            await google.colab.kernel.invokeFunction('convertToInteractive',\n",
              "                                                     [key], {});\n",
              "          if (!dataTable) return;\n",
              "\n",
              "          const docLinkHtml = 'Like what you see? Visit the ' +\n",
              "            '<a target=\"_blank\" href=https://colab.research.google.com/notebooks/data_table.ipynb>data table notebook</a>'\n",
              "            + ' to learn more about interactive tables.';\n",
              "          element.innerHTML = '';\n",
              "          dataTable['output_type'] = 'display_data';\n",
              "          await google.colab.output.renderOutput(dataTable, element);\n",
              "          const docLink = document.createElement('div');\n",
              "          docLink.innerHTML = docLinkHtml;\n",
              "          element.appendChild(docLink);\n",
              "        }\n",
              "      </script>\n",
              "    </div>\n",
              "  </div>\n",
              "  "
            ]
          },
          "metadata": {},
          "execution_count": 1029
        }
      ],
      "source": [
        "concatenated_df = concatenated_df.drop(columns=['userName', 'specialization', 'department', 'userProfileLink', 'topperCgpa', 'confPubs', 'gmatA', 'gmatQ', 'gmatV'])\n",
        "concatenated_df.head()"
      ]
    },
    {
      "cell_type": "code",
      "execution_count": null,
      "id": "71d80ec4",
      "metadata": {
        "id": "71d80ec4",
        "outputId": "0ac9697f-0b67-4cca-e4f5-31c02a73a4b1",
        "colab": {
          "base_uri": "https://localhost:8080/"
        }
      },
      "outputs": [
        {
          "output_type": "execute_result",
          "data": {
            "text/plain": [
              "PhD                272881\n",
              "MS                 188151\n",
              "Other                9995\n",
              "MFA                  9423\n",
              "MS/PhD                960\n",
              "Both MS and PhD       437\n",
              "MBA                   230\n",
              "MA                    181\n",
              "MEng                   25\n",
              "Name: Program, dtype: int64"
            ]
          },
          "metadata": {},
          "execution_count": 1030
        }
      ],
      "source": [
        "concatenated_df['Program'].value_counts()"
      ]
    },
    {
      "cell_type": "code",
      "execution_count": null,
      "id": "d6a82af4",
      "metadata": {
        "id": "d6a82af4"
      },
      "outputs": [],
      "source": [
        "concatenated_df['Program'] = concatenated_df['Program'].replace('MS/PhD', 'MS')\n",
        "concatenated_df['Program'] = concatenated_df['Program'].replace('Both MS and PhD', 'MS')"
      ]
    },
    {
      "cell_type": "code",
      "execution_count": null,
      "id": "abf935ed",
      "metadata": {
        "id": "abf935ed",
        "outputId": "64f3a9a8-03d7-42b3-b528-e4f397ab86fc",
        "colab": {
          "base_uri": "https://localhost:8080/"
        }
      },
      "outputs": [
        {
          "output_type": "execute_result",
          "data": {
            "text/plain": [
              "PhD      272881\n",
              "MS       189548\n",
              "Other      9995\n",
              "MFA        9423\n",
              "MBA         230\n",
              "MA          181\n",
              "MEng         25\n",
              "Name: Program, dtype: int64"
            ]
          },
          "metadata": {},
          "execution_count": 1032
        }
      ],
      "source": [
        "concatenated_df['Program'].value_counts()"
      ]
    },
    {
      "cell_type": "code",
      "execution_count": null,
      "id": "c9c2ab15",
      "metadata": {
        "id": "c9c2ab15"
      },
      "outputs": [],
      "source": [
        "concatenated_df = concatenated_df[concatenated_df['Program'] == 'MS']\n"
      ]
    },
    {
      "cell_type": "code",
      "execution_count": null,
      "id": "06f2d283",
      "metadata": {
        "id": "06f2d283",
        "outputId": "de4995d2-17f9-4b2a-aaba-9f019161ddac",
        "colab": {
          "base_uri": "https://localhost:8080/"
        }
      },
      "outputs": [
        {
          "output_type": "execute_result",
          "data": {
            "text/plain": [
              "MS    189548\n",
              "Name: Program, dtype: int64"
            ]
          },
          "metadata": {},
          "execution_count": 1034
        }
      ],
      "source": [
        "concatenated_df['Program'].value_counts()"
      ]
    },
    {
      "cell_type": "code",
      "execution_count": null,
      "id": "1b64fc65",
      "metadata": {
        "id": "1b64fc65",
        "outputId": "b062ce2e-fd77-4c29-fdf3-dca57ef94ebe",
        "colab": {
          "base_uri": "https://localhost:8080/"
        }
      },
      "outputs": [
        {
          "output_type": "execute_result",
          "data": {
            "text/plain": [
              "(189548, 20)"
            ]
          },
          "metadata": {},
          "execution_count": 1035
        }
      ],
      "source": [
        "concatenated_df.shape"
      ]
    },
    {
      "cell_type": "code",
      "execution_count": null,
      "id": "d7833694",
      "metadata": {
        "id": "d7833694",
        "outputId": "20cec13a-e4f9-4dba-ed36-50f7af69f285",
        "colab": {
          "base_uri": "https://localhost:8080/"
        }
      },
      "outputs": [
        {
          "output_type": "stream",
          "name": "stdout",
          "text": [
            "Major   0\n",
            "researchExp   137259\n",
            "industryExp   137259\n",
            "toeflScore   141212\n",
            "Program   0\n",
            "toeflEssay   177876\n",
            "internExp   137273\n",
            "GRE_V   93331\n",
            "GRE_Q   93297\n",
            "journalPubs   137259\n",
            "GRE_AWA   96562\n",
            "termAndYear   137259\n",
            "ugCollege   139155\n",
            "CGPA   95628\n",
            "cgpaScale   137259\n",
            "University   0\n",
            "Status   0\n",
            "Country   66315\n",
            "Date   52289\n",
            "Tuition   52289\n"
          ]
        }
      ],
      "source": [
        "for col in concatenated_df.columns:\n",
        "    print(col, \" \", (concatenated_df[col].isna().sum()))"
      ]
    },
    {
      "cell_type": "code",
      "execution_count": null,
      "id": "53868925",
      "metadata": {
        "id": "53868925",
        "outputId": "6b71e20c-fc8d-46ae-8cec-eec74ce47f0a",
        "colab": {
          "base_uri": "https://localhost:8080/"
        }
      },
      "outputs": [
        {
          "output_type": "execute_result",
          "data": {
            "text/plain": [
              "97382"
            ]
          },
          "metadata": {},
          "execution_count": 1037
        }
      ],
      "source": [
        "num_null_rows = len(concatenated_df[concatenated_df['GRE_V'].isna() | concatenated_df['GRE_Q'].isna() | concatenated_df['CGPA'].isna()])\n",
        "\n",
        "num_null_rows"
      ]
    },
    {
      "cell_type": "code",
      "execution_count": null,
      "id": "cc0d5063",
      "metadata": {
        "id": "cc0d5063",
        "outputId": "9480445e-1853-4a2a-8dfd-9bbe60687bc7",
        "colab": {
          "base_uri": "https://localhost:8080/"
        }
      },
      "outputs": [
        {
          "output_type": "execute_result",
          "data": {
            "text/plain": [
              "(92166, 20)"
            ]
          },
          "metadata": {},
          "execution_count": 1038
        }
      ],
      "source": [
        "concatenated_df = concatenated_df.dropna(subset=['GRE_V', 'GRE_Q', 'CGPA'])\n",
        "concatenated_df.shape"
      ]
    },
    {
      "cell_type": "code",
      "execution_count": null,
      "id": "4fb11f11",
      "metadata": {
        "id": "4fb11f11",
        "outputId": "a4b2bb37-f064-4538-a004-488005748e32",
        "colab": {
          "base_uri": "https://localhost:8080/"
        }
      },
      "outputs": [
        {
          "output_type": "stream",
          "name": "stdout",
          "text": [
            "Major   0\n",
            "researchExp   40765\n",
            "industryExp   40765\n",
            "toeflScore   44079\n",
            "Program   0\n",
            "toeflEssay   80573\n",
            "internExp   40779\n",
            "GRE_V   0\n",
            "GRE_Q   0\n",
            "journalPubs   40765\n",
            "GRE_AWA   3077\n",
            "termAndYear   40765\n",
            "ugCollege   42330\n",
            "CGPA   0\n",
            "cgpaScale   40765\n",
            "University   0\n",
            "Status   0\n",
            "Country   53670\n",
            "Date   51401\n",
            "Tuition   51401\n"
          ]
        }
      ],
      "source": [
        "for col in concatenated_df.columns:\n",
        "    print(col, \" \", (concatenated_df[col].isna().sum()))"
      ]
    },
    {
      "cell_type": "code",
      "execution_count": null,
      "id": "5559bc7f",
      "metadata": {
        "id": "5559bc7f",
        "outputId": "c811ecfe-bfed-4267-a627-9c0bbc9c2ba6",
        "colab": {
          "base_uri": "https://localhost:8080/"
        }
      },
      "outputs": [
        {
          "output_type": "execute_result",
          "data": {
            "text/plain": [
              "0.0      44457\n",
              "24.0       939\n",
              "36.0       498\n",
              "12.0       401\n",
              "30.0       304\n",
              "         ...  \n",
              "94.0         1\n",
              "86.0         1\n",
              "67.0         1\n",
              "80.0         1\n",
              "138.0        1\n",
              "Name: industryExp, Length: 96, dtype: int64"
            ]
          },
          "metadata": {},
          "execution_count": 1040
        }
      ],
      "source": [
        "concatenated_df['industryExp'].value_counts()"
      ]
    },
    {
      "cell_type": "code",
      "execution_count": null,
      "id": "b291ec5f",
      "metadata": {
        "id": "b291ec5f",
        "outputId": "d848ebab-9fc9-41b5-8088-c0daf67638bb",
        "colab": {
          "base_uri": "https://localhost:8080/"
        }
      },
      "outputs": [
        {
          "output_type": "execute_result",
          "data": {
            "text/plain": [
              "0.0     46918\n",
              "6.0       977\n",
              "2.0       960\n",
              "3.0       649\n",
              "1.0       411\n",
              "4.0       396\n",
              "12.0      258\n",
              "8.0       236\n",
              "5.0       226\n",
              "7.0       105\n",
              "9.0        63\n",
              "10.0       42\n",
              "24.0       33\n",
              "14.0       20\n",
              "11.0       18\n",
              "96.0       15\n",
              "18.0        9\n",
              "15.0        9\n",
              "21.0        8\n",
              "36.0        8\n",
              "28.0        7\n",
              "13.0        7\n",
              "16.0        4\n",
              "72.0        4\n",
              "29.0        3\n",
              "20.0        1\n",
              "Name: internExp, dtype: int64"
            ]
          },
          "metadata": {},
          "execution_count": 1041
        }
      ],
      "source": [
        "concatenated_df['internExp'].value_counts()"
      ]
    },
    {
      "cell_type": "code",
      "execution_count": null,
      "id": "19d17428",
      "metadata": {
        "id": "19d17428",
        "outputId": "513dfcc8-64d1-4158-e896-74a3a3772edd",
        "colab": {
          "base_uri": "https://localhost:8080/"
        }
      },
      "outputs": [
        {
          "output_type": "execute_result",
          "data": {
            "text/plain": [
              "1395"
            ]
          },
          "metadata": {},
          "execution_count": 1042
        }
      ],
      "source": [
        "num_notnull_rows = len(concatenated_df[(concatenated_df['internExp']>0.0) & (concatenated_df['industryExp']==0.0)])\n",
        "num_notnull_rows"
      ]
    },
    {
      "cell_type": "code",
      "execution_count": null,
      "id": "ec0aa603",
      "metadata": {
        "id": "ec0aa603"
      },
      "outputs": [],
      "source": [
        "concatenated_df.loc[(concatenated_df['industryExp'] == 0.0) & (concatenated_df['internExp'] > 0.0), 'industryExp'] = concatenated_df['internExp']\n"
      ]
    },
    {
      "cell_type": "code",
      "execution_count": null,
      "id": "50a74bb9",
      "metadata": {
        "id": "50a74bb9"
      },
      "outputs": [],
      "source": [
        "concatenated_df = concatenated_df.drop(columns=['internExp'])\n"
      ]
    },
    {
      "cell_type": "code",
      "execution_count": null,
      "id": "d2a4663f",
      "metadata": {
        "id": "d2a4663f",
        "outputId": "eee2b6c9-4071-4cb4-8867-64472708bc41",
        "colab": {
          "base_uri": "https://localhost:8080/"
        }
      },
      "outputs": [
        {
          "output_type": "execute_result",
          "data": {
            "text/plain": [
              "92166"
            ]
          },
          "metadata": {},
          "execution_count": 1045
        }
      ],
      "source": [
        "diff_count = (concatenated_df['researchExp'] != concatenated_df['journalPubs']).sum()\n",
        "diff_count"
      ]
    },
    {
      "cell_type": "code",
      "execution_count": null,
      "id": "59aca913",
      "metadata": {
        "id": "59aca913",
        "outputId": "83f79ced-8796-4d3f-ac69-133f31de5678",
        "colab": {
          "base_uri": "https://localhost:8080/"
        }
      },
      "outputs": [
        {
          "output_type": "execute_result",
          "data": {
            "text/plain": [
              "(92166, 19)"
            ]
          },
          "metadata": {},
          "execution_count": 1046
        }
      ],
      "source": [
        "concatenated_df.shape"
      ]
    },
    {
      "cell_type": "code",
      "execution_count": null,
      "id": "6f11effb",
      "metadata": {
        "id": "6f11effb"
      },
      "outputs": [],
      "source": [
        "concatenated_df = concatenated_df.drop(columns=['journalPubs'])"
      ]
    },
    {
      "cell_type": "code",
      "execution_count": null,
      "id": "bb252ede",
      "metadata": {
        "id": "bb252ede"
      },
      "outputs": [],
      "source": [
        "#Add GRE old score to new score conversion here"
      ]
    },
    {
      "cell_type": "code",
      "execution_count": null,
      "id": "db921892",
      "metadata": {
        "id": "db921892"
      },
      "outputs": [],
      "source": [
        "# plt.scatter(concatenated_df['GRE_V'], concatenated_df['GRE_Q'], c=concatenated_df['GRE_AWA'])\n",
        "# plt.colorbar()\n",
        "# plt.xlabel('GRE Verbal')\n",
        "# plt.ylabel('GRE Quantitative')\n",
        "# plt.show()"
      ]
    },
    {
      "cell_type": "code",
      "execution_count": null,
      "id": "678bdcfe",
      "metadata": {
        "id": "678bdcfe"
      },
      "outputs": [],
      "source": [
        "missing_awa = concatenated_df['GRE_AWA'].isnull()"
      ]
    },
    {
      "cell_type": "code",
      "execution_count": null,
      "id": "a82464fc",
      "metadata": {
        "id": "a82464fc"
      },
      "outputs": [],
      "source": [
        "complete_data = concatenated_df[~missing_awa]"
      ]
    },
    {
      "cell_type": "code",
      "execution_count": null,
      "id": "c3d9c37e",
      "metadata": {
        "id": "c3d9c37e"
      },
      "outputs": [],
      "source": [
        "reg = LinearRegression().fit(complete_data[['GRE_V', 'GRE_Q']], complete_data['GRE_AWA'])\n"
      ]
    },
    {
      "cell_type": "code",
      "execution_count": null,
      "id": "8931981d",
      "metadata": {
        "id": "8931981d"
      },
      "outputs": [],
      "source": [
        "imputed_awa = reg.predict(concatenated_df.loc[missing_awa, ['GRE_V', 'GRE_Q']])\n"
      ]
    },
    {
      "cell_type": "code",
      "execution_count": null,
      "id": "58e1f0ba",
      "metadata": {
        "id": "58e1f0ba"
      },
      "outputs": [],
      "source": [
        "concatenated_df.loc[missing_awa, 'GRE_AWA'] = imputed_awa"
      ]
    },
    {
      "cell_type": "code",
      "execution_count": null,
      "id": "33db6890",
      "metadata": {
        "id": "33db6890",
        "outputId": "5cff0bf7-eee0-4ae0-fafa-8d7681453d93",
        "colab": {
          "base_uri": "https://localhost:8080/"
        }
      },
      "outputs": [
        {
          "output_type": "stream",
          "name": "stdout",
          "text": [
            "Major   0\n",
            "researchExp   40765\n",
            "industryExp   40765\n",
            "toeflScore   44079\n",
            "Program   0\n",
            "toeflEssay   80573\n",
            "GRE_V   0\n",
            "GRE_Q   0\n",
            "GRE_AWA   0\n",
            "termAndYear   40765\n",
            "ugCollege   42330\n",
            "CGPA   0\n",
            "cgpaScale   40765\n",
            "University   0\n",
            "Status   0\n",
            "Country   53670\n",
            "Date   51401\n",
            "Tuition   51401\n"
          ]
        }
      ],
      "source": [
        "for col in concatenated_df.columns:\n",
        "    print(col, \" \", (concatenated_df[col].isna().sum()))"
      ]
    },
    {
      "cell_type": "markdown",
      "id": "c165136b",
      "metadata": {
        "id": "c165136b"
      },
      "source": [
        "# Work on termAndYear and Date here"
      ]
    },
    {
      "cell_type": "markdown",
      "id": "5a887057",
      "metadata": {
        "id": "5a887057"
      },
      "source": [
        "# YM Grad"
      ]
    },
    {
      "cell_type": "code",
      "execution_count": null,
      "id": "c98b686b",
      "metadata": {
        "id": "c98b686b",
        "outputId": "effbd1a0-55c5-4755-aada-468e5ea7f9e1",
        "colab": {
          "base_uri": "https://localhost:8080/"
        }
      },
      "outputs": [
        {
          "output_type": "execute_result",
          "data": {
            "text/plain": [
              "Index(['id', 'student/path', 'student/ios_path', 'student/state',\n",
              "       'student/country', 'student/user_username', 'student/user_full_name',\n",
              "       'student/profile_banner_pic', 'gradprofile/gre/id',\n",
              "       'gradprofile/gre/verbal', 'gradprofile/gre/quant',\n",
              "       'gradprofile/gre/awa', 'gradprofile/mcat', 'gradprofile/gmat',\n",
              "       'gradprofile/lsat', 'gradprofile/toefl', 'gradprofile/ielts/id',\n",
              "       'gradprofile/ielts/speaking', 'gradprofile/ielts/listening',\n",
              "       'gradprofile/ielts/writing', 'gradprofile/ielts/reading',\n",
              "       'gradprofile/cgpa', 'gradprofile/cgpa_out_of',\n",
              "       'gradprofile/work_ex_months', 'gradprofile/research_papers',\n",
              "       'gradprofile/sat', 'gradprofile/act', 'gradprofile/is_undergrad',\n",
              "       'gradprofile/high_school_cgpa', 'gradprofile/high_school_cgpa_out_of',\n",
              "       'uni_name', 'uni_logo', 'uni_rank', 'uni_slug', 'uni_country',\n",
              "       'uni_state', 'major/id', 'major/name', 'decision_type',\n",
              "       'application_date', 'decision_date', 'funding_amount', 'uni_id',\n",
              "       'bookmark_count', 'funding_type', 'is_saved', 'do_i_follow_this_user',\n",
              "       'my_follow_request_pending', 'blocked_users', 'uni_rate_my_chance',\n",
              "       'gradprofile/gre', 'gradprofile/toefl/id', 'gradprofile/toefl/total',\n",
              "       'gradprofile/toefl/speaking', 'gradprofile/toefl/listening',\n",
              "       'gradprofile/toefl/writing', 'gradprofile/toefl/reading',\n",
              "       'gradprofile/ielts', 'gradprofile/sat/total',\n",
              "       'gradprofile/act/composite', 'gradprofile/mcat/id',\n",
              "       'gradprofile/mcat/total', 'gradprofile/mcat/chemical_physical',\n",
              "       'gradprofile/mcat/critical_analysis',\n",
              "       'gradprofile/mcat/biologic_biochemical',\n",
              "       'gradprofile/mcat/psycho_social_biological'],\n",
              "      dtype='object')"
            ]
          },
          "metadata": {},
          "execution_count": 1056
        }
      ],
      "source": [
        "ym_grad_df.columns"
      ]
    },
    {
      "cell_type": "code",
      "execution_count": null,
      "id": "ed47d597",
      "metadata": {
        "id": "ed47d597"
      },
      "outputs": [],
      "source": [
        "columns_to_drop = ['id', 'student/path', 'student/ios_path', 'student/state', 'student/user_username', 'student/user_full_name',\n",
        "                  'student/profile_banner_pic', 'gradprofile/gre/id', 'gradprofile/mcat', 'gradprofile/gmat', 'gradprofile/lsat',\n",
        "                  'gradprofile/toefl', 'gradprofile/ielts/id', 'gradprofile/sat', 'gradprofile/act', 'gradprofile/is_undergrad',\n",
        "                  'gradprofile/high_school_cgpa', 'gradprofile/high_school_cgpa_out_of', 'uni_logo', 'uni_rank', 'uni_slug', \n",
        "                   'application_date', 'uni_id', 'bookmark_count', 'funding_type', 'is_saved', 'do_i_follow_this_user',\n",
        "                   'my_follow_request_pending', 'blocked_users', 'uni_rate_my_chance', 'gradprofile/toefl/id', \n",
        "                  'gradprofile/ielts', 'gradprofile/sat/total', 'gradprofile/act/composite', 'gradprofile/mcat/id',\n",
        "                    'gradprofile/mcat/total', 'gradprofile/mcat/chemical_physical', 'gradprofile/mcat/critical_analysis',\n",
        "                   'gradprofile/mcat/biologic_biochemical', 'gradprofile/mcat/psycho_social_biological']\n",
        "\n"
      ]
    },
    {
      "cell_type": "code",
      "execution_count": null,
      "id": "0a4b5e2b",
      "metadata": {
        "id": "0a4b5e2b",
        "outputId": "b683314e-552e-4622-ba88-1a20d5a1e8fe",
        "colab": {
          "base_uri": "https://localhost:8080/"
        }
      },
      "outputs": [
        {
          "output_type": "execute_result",
          "data": {
            "text/plain": [
              "(15060, 26)"
            ]
          },
          "metadata": {},
          "execution_count": 1058
        }
      ],
      "source": [
        "ym_grad_df = ym_grad_df.drop(columns=columns_to_drop)\n",
        "ym_grad_df.shape"
      ]
    },
    {
      "cell_type": "code",
      "execution_count": null,
      "id": "aaddb2de",
      "metadata": {
        "id": "aaddb2de",
        "outputId": "6fb3285d-ac13-44c5-8990-5b70c883fd55",
        "colab": {
          "base_uri": "https://localhost:8080/"
        }
      },
      "outputs": [
        {
          "output_type": "execute_result",
          "data": {
            "text/plain": [
              "Index(['student/country', 'gradprofile/gre/verbal', 'gradprofile/gre/quant',\n",
              "       'gradprofile/gre/awa', 'gradprofile/ielts/speaking',\n",
              "       'gradprofile/ielts/listening', 'gradprofile/ielts/writing',\n",
              "       'gradprofile/ielts/reading', 'gradprofile/cgpa',\n",
              "       'gradprofile/cgpa_out_of', 'gradprofile/work_ex_months',\n",
              "       'gradprofile/research_papers', 'uni_name', 'uni_country', 'uni_state',\n",
              "       'major/id', 'major/name', 'decision_type', 'decision_date',\n",
              "       'funding_amount', 'gradprofile/gre', 'gradprofile/toefl/total',\n",
              "       'gradprofile/toefl/speaking', 'gradprofile/toefl/listening',\n",
              "       'gradprofile/toefl/writing', 'gradprofile/toefl/reading'],\n",
              "      dtype='object')"
            ]
          },
          "metadata": {},
          "execution_count": 1059
        }
      ],
      "source": [
        "ym_grad_df.columns"
      ]
    },
    {
      "cell_type": "code",
      "execution_count": null,
      "id": "f801a9bf",
      "metadata": {
        "id": "f801a9bf",
        "outputId": "3aa1014f-d05b-44c0-9a34-b6f41c4f29aa",
        "colab": {
          "base_uri": "https://localhost:8080/"
        }
      },
      "outputs": [
        {
          "output_type": "execute_result",
          "data": {
            "text/plain": [
              "United States     13200\n",
              "Canada              996\n",
              "United Kingdom      547\n",
              "Australia           106\n",
              "Germany             101\n",
              "Netherlands          30\n",
              "Ireland              25\n",
              "Singapore            22\n",
              "France                6\n",
              "Denmark               4\n",
              "Poland                3\n",
              "Switzerland           3\n",
              "Sweden                3\n",
              "Italy                 3\n",
              "Turkey                2\n",
              "Norway                2\n",
              "Japan                 1\n",
              "Belgium               1\n",
              "Saudi Arabia          1\n",
              "China                 1\n",
              "Czech Republic        1\n",
              "Taiwan                1\n",
              "India                 1\n",
              "Name: uni_country, dtype: int64"
            ]
          },
          "metadata": {},
          "execution_count": 1060
        }
      ],
      "source": [
        "ym_grad_df['uni_country'].value_counts()"
      ]
    },
    {
      "cell_type": "code",
      "execution_count": null,
      "id": "15d23997",
      "metadata": {
        "id": "15d23997",
        "outputId": "c787b553-e193-4f0e-f1c0-4ba95a8e06a3",
        "colab": {
          "base_uri": "https://localhost:8080/",
          "height": 421
        }
      },
      "outputs": [
        {
          "output_type": "execute_result",
          "data": {
            "text/plain": [
              "  student/country  gradprofile/gre/verbal  gradprofile/gre/quant  \\\n",
              "0           India                   164.0                  168.0   \n",
              "2           India                   148.0                  159.0   \n",
              "3           India                   151.0                  164.0   \n",
              "4           India                   151.0                  164.0   \n",
              "5           India                   151.0                  164.0   \n",
              "\n",
              "   gradprofile/gre/awa  gradprofile/ielts/speaking  \\\n",
              "0                  3.5                         6.0   \n",
              "2                  4.0                         NaN   \n",
              "3                  3.0                         6.0   \n",
              "4                  3.0                         6.0   \n",
              "5                  3.0                         6.0   \n",
              "\n",
              "   gradprofile/ielts/listening  gradprofile/ielts/writing  \\\n",
              "0                          8.5                        6.0   \n",
              "2                          NaN                        NaN   \n",
              "3                          6.0                        6.0   \n",
              "4                          6.0                        6.0   \n",
              "5                          6.0                        6.0   \n",
              "\n",
              "   gradprofile/ielts/reading gradprofile/cgpa gradprofile/cgpa_out_of  ...  \\\n",
              "0                        7.0              8.5                      10  ...   \n",
              "2                        NaN              9.1                      10  ...   \n",
              "3                        6.5             6.32                      10  ...   \n",
              "4                        6.5             6.32                      10  ...   \n",
              "5                        6.5             6.32                      10  ...   \n",
              "\n",
              "                                   major/name  decision_type decision_date  \\\n",
              "0                     Artificial Intelligence          admit  Apr 11, 2023   \n",
              "2  Computer Science - Artificial Intelligence          admit  Mar 28, 2023   \n",
              "3                      Mechanical Engineering         reject  Feb 28, 2023   \n",
              "4                      Mechanical Engineering         reject  Feb 20, 2023   \n",
              "5                      Mechanical Engineering         reject  Apr 01, 2023   \n",
              "\n",
              "  funding_amount gradprofile/gre  gradprofile/toefl/total  \\\n",
              "0        15800.0             NaN                      NaN   \n",
              "2            0.0             NaN                    106.0   \n",
              "3            NaN             NaN                      NaN   \n",
              "4            NaN             NaN                      NaN   \n",
              "5            NaN             NaN                      NaN   \n",
              "\n",
              "  gradprofile/toefl/speaking gradprofile/toefl/listening  \\\n",
              "0                        NaN                         NaN   \n",
              "2                       27.0                        28.0   \n",
              "3                        NaN                         NaN   \n",
              "4                        NaN                         NaN   \n",
              "5                        NaN                         NaN   \n",
              "\n",
              "  gradprofile/toefl/writing  gradprofile/toefl/reading  \n",
              "0                       NaN                        NaN  \n",
              "2                      26.0                       25.0  \n",
              "3                       NaN                        NaN  \n",
              "4                       NaN                        NaN  \n",
              "5                       NaN                        NaN  \n",
              "\n",
              "[5 rows x 26 columns]"
            ],
            "text/html": [
              "\n",
              "  <div id=\"df-ccd58471-4656-41d9-9ef1-f21dc667a9e5\">\n",
              "    <div class=\"colab-df-container\">\n",
              "      <div>\n",
              "<style scoped>\n",
              "    .dataframe tbody tr th:only-of-type {\n",
              "        vertical-align: middle;\n",
              "    }\n",
              "\n",
              "    .dataframe tbody tr th {\n",
              "        vertical-align: top;\n",
              "    }\n",
              "\n",
              "    .dataframe thead th {\n",
              "        text-align: right;\n",
              "    }\n",
              "</style>\n",
              "<table border=\"1\" class=\"dataframe\">\n",
              "  <thead>\n",
              "    <tr style=\"text-align: right;\">\n",
              "      <th></th>\n",
              "      <th>student/country</th>\n",
              "      <th>gradprofile/gre/verbal</th>\n",
              "      <th>gradprofile/gre/quant</th>\n",
              "      <th>gradprofile/gre/awa</th>\n",
              "      <th>gradprofile/ielts/speaking</th>\n",
              "      <th>gradprofile/ielts/listening</th>\n",
              "      <th>gradprofile/ielts/writing</th>\n",
              "      <th>gradprofile/ielts/reading</th>\n",
              "      <th>gradprofile/cgpa</th>\n",
              "      <th>gradprofile/cgpa_out_of</th>\n",
              "      <th>...</th>\n",
              "      <th>major/name</th>\n",
              "      <th>decision_type</th>\n",
              "      <th>decision_date</th>\n",
              "      <th>funding_amount</th>\n",
              "      <th>gradprofile/gre</th>\n",
              "      <th>gradprofile/toefl/total</th>\n",
              "      <th>gradprofile/toefl/speaking</th>\n",
              "      <th>gradprofile/toefl/listening</th>\n",
              "      <th>gradprofile/toefl/writing</th>\n",
              "      <th>gradprofile/toefl/reading</th>\n",
              "    </tr>\n",
              "  </thead>\n",
              "  <tbody>\n",
              "    <tr>\n",
              "      <th>0</th>\n",
              "      <td>India</td>\n",
              "      <td>164.0</td>\n",
              "      <td>168.0</td>\n",
              "      <td>3.5</td>\n",
              "      <td>6.0</td>\n",
              "      <td>8.5</td>\n",
              "      <td>6.0</td>\n",
              "      <td>7.0</td>\n",
              "      <td>8.5</td>\n",
              "      <td>10</td>\n",
              "      <td>...</td>\n",
              "      <td>Artificial Intelligence</td>\n",
              "      <td>admit</td>\n",
              "      <td>Apr 11, 2023</td>\n",
              "      <td>15800.0</td>\n",
              "      <td>NaN</td>\n",
              "      <td>NaN</td>\n",
              "      <td>NaN</td>\n",
              "      <td>NaN</td>\n",
              "      <td>NaN</td>\n",
              "      <td>NaN</td>\n",
              "    </tr>\n",
              "    <tr>\n",
              "      <th>2</th>\n",
              "      <td>India</td>\n",
              "      <td>148.0</td>\n",
              "      <td>159.0</td>\n",
              "      <td>4.0</td>\n",
              "      <td>NaN</td>\n",
              "      <td>NaN</td>\n",
              "      <td>NaN</td>\n",
              "      <td>NaN</td>\n",
              "      <td>9.1</td>\n",
              "      <td>10</td>\n",
              "      <td>...</td>\n",
              "      <td>Computer Science - Artificial Intelligence</td>\n",
              "      <td>admit</td>\n",
              "      <td>Mar 28, 2023</td>\n",
              "      <td>0.0</td>\n",
              "      <td>NaN</td>\n",
              "      <td>106.0</td>\n",
              "      <td>27.0</td>\n",
              "      <td>28.0</td>\n",
              "      <td>26.0</td>\n",
              "      <td>25.0</td>\n",
              "    </tr>\n",
              "    <tr>\n",
              "      <th>3</th>\n",
              "      <td>India</td>\n",
              "      <td>151.0</td>\n",
              "      <td>164.0</td>\n",
              "      <td>3.0</td>\n",
              "      <td>6.0</td>\n",
              "      <td>6.0</td>\n",
              "      <td>6.0</td>\n",
              "      <td>6.5</td>\n",
              "      <td>6.32</td>\n",
              "      <td>10</td>\n",
              "      <td>...</td>\n",
              "      <td>Mechanical Engineering</td>\n",
              "      <td>reject</td>\n",
              "      <td>Feb 28, 2023</td>\n",
              "      <td>NaN</td>\n",
              "      <td>NaN</td>\n",
              "      <td>NaN</td>\n",
              "      <td>NaN</td>\n",
              "      <td>NaN</td>\n",
              "      <td>NaN</td>\n",
              "      <td>NaN</td>\n",
              "    </tr>\n",
              "    <tr>\n",
              "      <th>4</th>\n",
              "      <td>India</td>\n",
              "      <td>151.0</td>\n",
              "      <td>164.0</td>\n",
              "      <td>3.0</td>\n",
              "      <td>6.0</td>\n",
              "      <td>6.0</td>\n",
              "      <td>6.0</td>\n",
              "      <td>6.5</td>\n",
              "      <td>6.32</td>\n",
              "      <td>10</td>\n",
              "      <td>...</td>\n",
              "      <td>Mechanical Engineering</td>\n",
              "      <td>reject</td>\n",
              "      <td>Feb 20, 2023</td>\n",
              "      <td>NaN</td>\n",
              "      <td>NaN</td>\n",
              "      <td>NaN</td>\n",
              "      <td>NaN</td>\n",
              "      <td>NaN</td>\n",
              "      <td>NaN</td>\n",
              "      <td>NaN</td>\n",
              "    </tr>\n",
              "    <tr>\n",
              "      <th>5</th>\n",
              "      <td>India</td>\n",
              "      <td>151.0</td>\n",
              "      <td>164.0</td>\n",
              "      <td>3.0</td>\n",
              "      <td>6.0</td>\n",
              "      <td>6.0</td>\n",
              "      <td>6.0</td>\n",
              "      <td>6.5</td>\n",
              "      <td>6.32</td>\n",
              "      <td>10</td>\n",
              "      <td>...</td>\n",
              "      <td>Mechanical Engineering</td>\n",
              "      <td>reject</td>\n",
              "      <td>Apr 01, 2023</td>\n",
              "      <td>NaN</td>\n",
              "      <td>NaN</td>\n",
              "      <td>NaN</td>\n",
              "      <td>NaN</td>\n",
              "      <td>NaN</td>\n",
              "      <td>NaN</td>\n",
              "      <td>NaN</td>\n",
              "    </tr>\n",
              "  </tbody>\n",
              "</table>\n",
              "<p>5 rows × 26 columns</p>\n",
              "</div>\n",
              "      <button class=\"colab-df-convert\" onclick=\"convertToInteractive('df-ccd58471-4656-41d9-9ef1-f21dc667a9e5')\"\n",
              "              title=\"Convert this dataframe to an interactive table.\"\n",
              "              style=\"display:none;\">\n",
              "        \n",
              "  <svg xmlns=\"http://www.w3.org/2000/svg\" height=\"24px\"viewBox=\"0 0 24 24\"\n",
              "       width=\"24px\">\n",
              "    <path d=\"M0 0h24v24H0V0z\" fill=\"none\"/>\n",
              "    <path d=\"M18.56 5.44l.94 2.06.94-2.06 2.06-.94-2.06-.94-.94-2.06-.94 2.06-2.06.94zm-11 1L8.5 8.5l.94-2.06 2.06-.94-2.06-.94L8.5 2.5l-.94 2.06-2.06.94zm10 10l.94 2.06.94-2.06 2.06-.94-2.06-.94-.94-2.06-.94 2.06-2.06.94z\"/><path d=\"M17.41 7.96l-1.37-1.37c-.4-.4-.92-.59-1.43-.59-.52 0-1.04.2-1.43.59L10.3 9.45l-7.72 7.72c-.78.78-.78 2.05 0 2.83L4 21.41c.39.39.9.59 1.41.59.51 0 1.02-.2 1.41-.59l7.78-7.78 2.81-2.81c.8-.78.8-2.07 0-2.86zM5.41 20L4 18.59l7.72-7.72 1.47 1.35L5.41 20z\"/>\n",
              "  </svg>\n",
              "      </button>\n",
              "      \n",
              "  <style>\n",
              "    .colab-df-container {\n",
              "      display:flex;\n",
              "      flex-wrap:wrap;\n",
              "      gap: 12px;\n",
              "    }\n",
              "\n",
              "    .colab-df-convert {\n",
              "      background-color: #E8F0FE;\n",
              "      border: none;\n",
              "      border-radius: 50%;\n",
              "      cursor: pointer;\n",
              "      display: none;\n",
              "      fill: #1967D2;\n",
              "      height: 32px;\n",
              "      padding: 0 0 0 0;\n",
              "      width: 32px;\n",
              "    }\n",
              "\n",
              "    .colab-df-convert:hover {\n",
              "      background-color: #E2EBFA;\n",
              "      box-shadow: 0px 1px 2px rgba(60, 64, 67, 0.3), 0px 1px 3px 1px rgba(60, 64, 67, 0.15);\n",
              "      fill: #174EA6;\n",
              "    }\n",
              "\n",
              "    [theme=dark] .colab-df-convert {\n",
              "      background-color: #3B4455;\n",
              "      fill: #D2E3FC;\n",
              "    }\n",
              "\n",
              "    [theme=dark] .colab-df-convert:hover {\n",
              "      background-color: #434B5C;\n",
              "      box-shadow: 0px 1px 3px 1px rgba(0, 0, 0, 0.15);\n",
              "      filter: drop-shadow(0px 1px 2px rgba(0, 0, 0, 0.3));\n",
              "      fill: #FFFFFF;\n",
              "    }\n",
              "  </style>\n",
              "\n",
              "      <script>\n",
              "        const buttonEl =\n",
              "          document.querySelector('#df-ccd58471-4656-41d9-9ef1-f21dc667a9e5 button.colab-df-convert');\n",
              "        buttonEl.style.display =\n",
              "          google.colab.kernel.accessAllowed ? 'block' : 'none';\n",
              "\n",
              "        async function convertToInteractive(key) {\n",
              "          const element = document.querySelector('#df-ccd58471-4656-41d9-9ef1-f21dc667a9e5');\n",
              "          const dataTable =\n",
              "            await google.colab.kernel.invokeFunction('convertToInteractive',\n",
              "                                                     [key], {});\n",
              "          if (!dataTable) return;\n",
              "\n",
              "          const docLinkHtml = 'Like what you see? Visit the ' +\n",
              "            '<a target=\"_blank\" href=https://colab.research.google.com/notebooks/data_table.ipynb>data table notebook</a>'\n",
              "            + ' to learn more about interactive tables.';\n",
              "          element.innerHTML = '';\n",
              "          dataTable['output_type'] = 'display_data';\n",
              "          await google.colab.output.renderOutput(dataTable, element);\n",
              "          const docLink = document.createElement('div');\n",
              "          docLink.innerHTML = docLinkHtml;\n",
              "          element.appendChild(docLink);\n",
              "        }\n",
              "      </script>\n",
              "    </div>\n",
              "  </div>\n",
              "  "
            ]
          },
          "metadata": {},
          "execution_count": 1061
        }
      ],
      "source": [
        "ym_grad_df = ym_grad_df[ym_grad_df['uni_country'] == 'United States']\n",
        "ym_grad_df.head()"
      ]
    },
    {
      "cell_type": "code",
      "execution_count": null,
      "id": "eedffab5",
      "metadata": {
        "id": "eedffab5",
        "outputId": "bda34efe-68bc-4f7f-93a6-1938091c5272",
        "colab": {
          "base_uri": "https://localhost:8080/"
        }
      },
      "outputs": [
        {
          "output_type": "execute_result",
          "data": {
            "text/plain": [
              "Index(['student/country', 'gradprofile/gre/verbal', 'gradprofile/gre/quant',\n",
              "       'gradprofile/gre/awa', 'gradprofile/ielts/speaking',\n",
              "       'gradprofile/ielts/listening', 'gradprofile/ielts/writing',\n",
              "       'gradprofile/ielts/reading', 'gradprofile/cgpa',\n",
              "       'gradprofile/cgpa_out_of', 'gradprofile/work_ex_months',\n",
              "       'gradprofile/research_papers', 'uni_name', 'uni_country', 'uni_state',\n",
              "       'major/id', 'major/name', 'decision_type', 'decision_date',\n",
              "       'funding_amount', 'gradprofile/gre', 'gradprofile/toefl/total',\n",
              "       'gradprofile/toefl/speaking', 'gradprofile/toefl/listening',\n",
              "       'gradprofile/toefl/writing', 'gradprofile/toefl/reading'],\n",
              "      dtype='object')"
            ]
          },
          "metadata": {},
          "execution_count": 1062
        }
      ],
      "source": [
        "ym_grad_df.columns"
      ]
    },
    {
      "cell_type": "code",
      "execution_count": null,
      "id": "36126fd9",
      "metadata": {
        "id": "36126fd9",
        "outputId": "6d070f75-1f2b-4436-a7de-e6a64e939b13",
        "colab": {
          "base_uri": "https://localhost:8080/"
        }
      },
      "outputs": [
        {
          "output_type": "execute_result",
          "data": {
            "text/plain": [
              "Index(['Major', 'researchExp', 'industryExp', 'toeflScore', 'Program',\n",
              "       'toeflEssay', 'GRE_V', 'GRE_Q', 'GRE_AWA', 'termAndYear', 'ugCollege',\n",
              "       'CGPA', 'cgpaScale', 'University', 'Status', 'Country', 'Date',\n",
              "       'Tuition'],\n",
              "      dtype='object')"
            ]
          },
          "metadata": {},
          "execution_count": 1063
        }
      ],
      "source": [
        "concatenated_df.columns"
      ]
    },
    {
      "cell_type": "code",
      "execution_count": null,
      "id": "08ae31ee",
      "metadata": {
        "id": "08ae31ee",
        "outputId": "57c4853d-2ce1-4ac3-b5d6-3dd922a83222",
        "colab": {
          "base_uri": "https://localhost:8080/"
        }
      },
      "outputs": [
        {
          "output_type": "execute_result",
          "data": {
            "text/plain": [
              "American                        23374\n",
              "International                   12154\n",
              "International with US Degree     2580\n",
              "Other                             388\n",
              "Name: Country, dtype: int64"
            ]
          },
          "metadata": {},
          "execution_count": 1064
        }
      ],
      "source": [
        "concatenated_df['Country'].value_counts()"
      ]
    },
    {
      "cell_type": "code",
      "execution_count": null,
      "id": "0c79a4fb",
      "metadata": {
        "id": "0c79a4fb"
      },
      "outputs": [],
      "source": [
        "new_col_names = {'gradprofile/gre/verbal': 'GRE_V', \n",
        "                 'gradprofile/gre/quant': 'GRE_Q', \n",
        "                 'gradprofile/gre/awa': 'GRE_AWA',\n",
        "                'gradprofile/ielts/speaking': 'ielts_s', \n",
        "                 'gradprofile/ielts/listening': 'ielts_l', \n",
        "                 'gradprofile/ielts/writing': 'ielts_w',\n",
        "                 'gradprofile/ielts/reading': 'ielts_r',\n",
        "                'gradprofile/cgpa' : 'CGPA',\n",
        "                 'gradprofile/cgpa_out_of': 'cgpaScale',\n",
        "                 'gradprofile/work_ex_months': 'industryExp',\n",
        "                 'gradprofile/research_papers': 'researchExp',\n",
        "                'uni_name': 'University',\n",
        "                 'major/name': 'Major',\n",
        "                 'decision_type': 'Status',\n",
        "                 'gradprofile/toefl/total': 'toeflScore',\n",
        "                 'decision_date': 'Date', \n",
        "                 'student/country' : 'Country'\n",
        "                }\n"
      ]
    },
    {
      "cell_type": "code",
      "execution_count": null,
      "id": "6cf18814",
      "metadata": {
        "id": "6cf18814",
        "outputId": "5b49cc09-ac03-4918-b6e9-ec148ef9401d",
        "colab": {
          "base_uri": "https://localhost:8080/"
        }
      },
      "outputs": [
        {
          "output_type": "execute_result",
          "data": {
            "text/plain": [
              "Index(['Country', 'GRE_V', 'GRE_Q', 'GRE_AWA', 'ielts_s', 'ielts_l', 'ielts_w',\n",
              "       'ielts_r', 'CGPA', 'cgpaScale', 'industryExp', 'researchExp',\n",
              "       'University', 'uni_country', 'uni_state', 'major/id', 'Major', 'Status',\n",
              "       'Date', 'funding_amount', 'gradprofile/gre', 'toeflScore',\n",
              "       'gradprofile/toefl/speaking', 'gradprofile/toefl/listening',\n",
              "       'gradprofile/toefl/writing', 'gradprofile/toefl/reading'],\n",
              "      dtype='object')"
            ]
          },
          "metadata": {},
          "execution_count": 1066
        }
      ],
      "source": [
        "ym_grad_df = ym_grad_df.rename(columns=new_col_names)\n",
        "ym_grad_df.columns"
      ]
    },
    {
      "cell_type": "code",
      "execution_count": null,
      "id": "126f3715",
      "metadata": {
        "id": "126f3715"
      },
      "outputs": [],
      "source": [
        "ym_grad_df = ym_grad_df.drop('uni_country', axis=1)\n",
        "ym_grad_df = ym_grad_df.drop('uni_state', axis=1)\n",
        "ym_grad_df = ym_grad_df.drop('major/id', axis=1)\n",
        "ym_grad_df = ym_grad_df.drop('gradprofile/gre', axis=1)\n",
        "\n",
        "\n",
        "new_col_names = {'gradprofile/toefl/speaking': 'toefl_s', \n",
        "                 'gradprofile/toefl/listening': 'toefl_l', \n",
        "                 'gradprofile/toefl/writing': 'toefl_w',\n",
        "                'gradprofile/toefl/reading': 'toefl_r', \n",
        "                }\n"
      ]
    },
    {
      "cell_type": "code",
      "execution_count": null,
      "id": "d857ec9d",
      "metadata": {
        "id": "d857ec9d",
        "outputId": "af2a8c2f-6efd-4d1a-8793-31d472d4d59c",
        "colab": {
          "base_uri": "https://localhost:8080/"
        }
      },
      "outputs": [
        {
          "output_type": "execute_result",
          "data": {
            "text/plain": [
              "Index(['Country', 'GRE_V', 'GRE_Q', 'GRE_AWA', 'ielts_s', 'ielts_l', 'ielts_w',\n",
              "       'ielts_r', 'CGPA', 'cgpaScale', 'industryExp', 'researchExp',\n",
              "       'University', 'Major', 'Status', 'Date', 'funding_amount', 'toeflScore',\n",
              "       'toefl_s', 'toefl_l', 'toefl_w', 'toefl_r'],\n",
              "      dtype='object')"
            ]
          },
          "metadata": {},
          "execution_count": 1068
        }
      ],
      "source": [
        "ym_grad_df = ym_grad_df.rename(columns=new_col_names)\n",
        "\n",
        "ym_grad_df.columns"
      ]
    },
    {
      "cell_type": "code",
      "execution_count": null,
      "id": "ec592dcc",
      "metadata": {
        "id": "ec592dcc",
        "outputId": "f8b40747-904a-496b-dc3e-527acb364c2e",
        "colab": {
          "base_uri": "https://localhost:8080/"
        }
      },
      "outputs": [
        {
          "output_type": "stream",
          "name": "stdout",
          "text": [
            "Country   0\n",
            "GRE_V   4696\n",
            "GRE_Q   4696\n",
            "GRE_AWA   4696\n",
            "ielts_s   7827\n",
            "ielts_l   7827\n",
            "ielts_w   7827\n",
            "ielts_r   7827\n",
            "CGPA   0\n",
            "cgpaScale   0\n",
            "industryExp   374\n",
            "researchExp   645\n",
            "University   0\n",
            "Major   0\n",
            "Status   0\n",
            "Date   3936\n",
            "funding_amount   8737\n",
            "toeflScore   7813\n",
            "toefl_s   7813\n",
            "toefl_l   7813\n",
            "toefl_w   7813\n",
            "toefl_r   7813\n"
          ]
        }
      ],
      "source": [
        "for col in ym_grad_df.columns:\n",
        "    print(col, \" \", ym_grad_df[col].isna().sum())"
      ]
    },
    {
      "cell_type": "code",
      "execution_count": null,
      "id": "dbf29943",
      "metadata": {
        "id": "dbf29943",
        "outputId": "1e1a5d53-674e-4fef-994c-47742b3af5e4",
        "colab": {
          "base_uri": "https://localhost:8080/"
        }
      },
      "outputs": [
        {
          "output_type": "execute_result",
          "data": {
            "text/plain": [
              "(13200, 22)"
            ]
          },
          "metadata": {},
          "execution_count": 1070
        }
      ],
      "source": [
        "ym_grad_df.shape"
      ]
    },
    {
      "cell_type": "code",
      "execution_count": null,
      "id": "1cb86ce4",
      "metadata": {
        "id": "1cb86ce4",
        "outputId": "1fadc893-b150-46eb-a01a-9bda4227699a",
        "colab": {
          "base_uri": "https://localhost:8080/"
        }
      },
      "outputs": [
        {
          "output_type": "execute_result",
          "data": {
            "text/plain": [
              "(92166, 18)"
            ]
          },
          "metadata": {},
          "execution_count": 1071
        }
      ],
      "source": [
        "concatenated_df.shape"
      ]
    },
    {
      "cell_type": "code",
      "execution_count": null,
      "id": "75a5ece6",
      "metadata": {
        "id": "75a5ece6",
        "outputId": "91d78513-3898-4f79-e358-452031c835b1",
        "colab": {
          "base_uri": "https://localhost:8080/"
        }
      },
      "outputs": [
        {
          "output_type": "execute_result",
          "data": {
            "text/plain": [
              "(105366, 27)"
            ]
          },
          "metadata": {},
          "execution_count": 1072
        }
      ],
      "source": [
        "concatenated_df = pd.concat([concatenated_df, ym_grad_df])\n",
        "concatenated_df.shape"
      ]
    },
    {
      "cell_type": "code",
      "execution_count": null,
      "id": "59737072",
      "metadata": {
        "id": "59737072",
        "outputId": "868622bd-9eab-48c4-9593-4b0161cf85bb",
        "colab": {
          "base_uri": "https://localhost:8080/"
        }
      },
      "outputs": [
        {
          "output_type": "execute_result",
          "data": {
            "text/plain": [
              "Index(['Major', 'researchExp', 'industryExp', 'toeflScore', 'Program',\n",
              "       'toeflEssay', 'GRE_V', 'GRE_Q', 'GRE_AWA', 'termAndYear', 'ugCollege',\n",
              "       'CGPA', 'cgpaScale', 'University', 'Status', 'Country', 'Date',\n",
              "       'Tuition', 'ielts_s', 'ielts_l', 'ielts_w', 'ielts_r', 'funding_amount',\n",
              "       'toefl_s', 'toefl_l', 'toefl_w', 'toefl_r'],\n",
              "      dtype='object')"
            ]
          },
          "metadata": {},
          "execution_count": 1073
        }
      ],
      "source": [
        "concatenated_df.columns"
      ]
    },
    {
      "cell_type": "markdown",
      "id": "80713e67",
      "metadata": {
        "id": "80713e67"
      },
      "source": [
        "# University Processing"
      ]
    },
    {
      "cell_type": "code",
      "execution_count": null,
      "id": "7f709d22",
      "metadata": {
        "id": "7f709d22",
        "outputId": "6d26858f-8a90-42c4-d122-0faabfcaea54",
        "colab": {
          "base_uri": "https://localhost:8080/"
        }
      },
      "outputs": [
        {
          "output_type": "execute_result",
          "data": {
            "text/plain": [
              "North Carolina State University                   3467\n",
              "University of Texas Dallas                        3300\n",
              "Arizona State University                          3231\n",
              "Northeastern University                           2994\n",
              "University of Florida                             2391\n",
              "                                                  ... \n",
              "University Of California Berkeley - Goldman          1\n",
              "UC Irvine UCI                                        1\n",
              "Governors State University (GSU)                     1\n",
              "California State University San Marcos (CSUSM)       1\n",
              "Paul Merage - UC Irvine                              1\n",
              "Name: University, Length: 4815, dtype: int64"
            ]
          },
          "metadata": {},
          "execution_count": 1074
        }
      ],
      "source": [
        "concatenated_df['University'].value_counts()"
      ]
    },
    {
      "cell_type": "code",
      "execution_count": null,
      "id": "f4d6e6bc",
      "metadata": {
        "id": "f4d6e6bc"
      },
      "outputs": [],
      "source": [
        "university_counts = concatenated_df['University'].value_counts()"
      ]
    },
    {
      "cell_type": "code",
      "execution_count": null,
      "id": "56546a5e",
      "metadata": {
        "id": "56546a5e",
        "colab": {
          "base_uri": "https://localhost:8080/"
        },
        "outputId": "0bdfeab6-639f-4b47-b7b1-e4cbdebaa01b"
      },
      "outputs": [
        {
          "output_type": "execute_result",
          "data": {
            "text/plain": [
              "4815"
            ]
          },
          "metadata": {},
          "execution_count": 1076
        }
      ],
      "source": [
        "len(university_counts)"
      ]
    },
    {
      "cell_type": "code",
      "execution_count": null,
      "id": "d1b3b5c2",
      "metadata": {
        "id": "d1b3b5c2"
      },
      "outputs": [],
      "source": [
        "# fig, ax = plt.subplots(figsize=(10, 0.05*len(university_counts)))\n",
        "\n",
        "# top_universities = university_counts[:1000]\n",
        "\n",
        "# # Create a horizontal bar chart of the top universities\n",
        "# sns.barplot(x=top_universities.values, y=top_universities.index)\n",
        "\n",
        "# # Set the title and axis labels\n",
        "# plt.title('Top 100 Most Frequent Universities')\n",
        "# plt.xlabel('Number of Occurrences')\n",
        "# plt.ylabel('University')\n",
        "\n",
        "# # Show the plot\n",
        "# plt.show()"
      ]
    },
    {
      "cell_type": "code",
      "execution_count": 3,
      "id": "a6f1d228",
      "metadata": {
        "id": "a6f1d228"
      },
      "outputs": [],
      "source": [
        "import pandas as pd\n",
        "us_universities = pd.read_csv(\"us_universities.csv\")"
      ]
    },
    {
      "cell_type": "code",
      "source": [],
      "metadata": {
        "id": "sr1MD6wBt4f6"
      },
      "id": "sr1MD6wBt4f6",
      "execution_count": null,
      "outputs": []
    },
    {
      "cell_type": "code",
      "execution_count": null,
      "id": "3cb61d52",
      "metadata": {
        "id": "3cb61d52"
      },
      "outputs": [],
      "source": [
        "correct_names = list(us_universities['name'])"
      ]
    },
    {
      "cell_type": "code",
      "execution_count": null,
      "id": "42b7aeec",
      "metadata": {
        "id": "42b7aeec"
      },
      "outputs": [],
      "source": [
        "# Define a function to correct misspelled university names\n",
        "def correct_university_name(name):\n",
        "    # Iterate over the correct university names and find the one with the highest similarity score\n",
        "    max_score = 0\n",
        "    corrected_name = ''\n",
        "    for correct_name in correct_names:\n",
        "        score = fuzz.ratio(name.lower(), correct_name.lower())\n",
        "        if score > max_score:\n",
        "            max_score = score\n",
        "            corrected_name = correct_name\n",
        "    return corrected_name"
      ]
    },
    {
      "cell_type": "code",
      "execution_count": null,
      "id": "236a531b",
      "metadata": {
        "id": "236a531b"
      },
      "outputs": [],
      "source": [
        "# concatenated_df['University'] = concatenated_df['University'].apply(correct_university_name)"
      ]
    },
    {
      "cell_type": "code",
      "source": [],
      "metadata": {
        "id": "KoZ923qT8uwV"
      },
      "id": "KoZ923qT8uwV",
      "execution_count": null,
      "outputs": []
    },
    {
      "cell_type": "code",
      "execution_count": null,
      "id": "fa480e64",
      "metadata": {
        "id": "fa480e64"
      },
      "outputs": [],
      "source": [
        "university_counts = concatenated_df['University'].value_counts()"
      ]
    },
    {
      "cell_type": "code",
      "execution_count": null,
      "id": "5efbaa75",
      "metadata": {
        "id": "5efbaa75",
        "outputId": "4ac863a8-56b3-4670-aab7-3395565541db",
        "colab": {
          "base_uri": "https://localhost:8080/"
        }
      },
      "outputs": [
        {
          "output_type": "execute_result",
          "data": {
            "text/plain": [
              "4815"
            ]
          },
          "metadata": {},
          "execution_count": 1083
        }
      ],
      "source": [
        "len(university_counts)"
      ]
    },
    {
      "cell_type": "code",
      "execution_count": null,
      "id": "58a01fee",
      "metadata": {
        "id": "58a01fee"
      },
      "outputs": [],
      "source": [
        "# fig, ax = plt.subplots(figsize=(10, 0.5*len(university_counts)))\n",
        "\n",
        "# top_universities = university_counts[:300]\n",
        "\n",
        "# # Create a horizontal bar chart of the top universities\n",
        "# sns.barplot(x=top_universities.values, y=top_universities.index)\n",
        "\n",
        "# # Set the title and axis labels\n",
        "# plt.title('Top 100 Most Frequent Universities')\n",
        "# plt.xlabel('Number of Occurrences')\n",
        "# plt.ylabel('University')\n",
        "\n",
        "# # Show the plot\n",
        "# plt.show()"
      ]
    },
    {
      "cell_type": "code",
      "source": [
        "concatenated_df.head()"
      ],
      "metadata": {
        "id": "rKZHbgii8v_O",
        "outputId": "6f454973-16b2-46c3-dd63-eb3bf16c2704",
        "colab": {
          "base_uri": "https://localhost:8080/",
          "height": 386
        }
      },
      "id": "rKZHbgii8v_O",
      "execution_count": null,
      "outputs": [
        {
          "output_type": "execute_result",
          "data": {
            "text/plain": [
              "                        Major  researchExp  industryExp  toeflScore Program  \\\n",
              "0         Systems and Control          0.0         18.0       112.0      MS   \n",
              "2  (MIS / MSIM / MSIS / MSIT)          0.0         66.0        94.0      MS   \n",
              "3                         MIS          0.0          0.0        81.0      MS   \n",
              "4                         MIS          0.0          0.0       273.0      MS   \n",
              "5                         MIS          0.0          0.0       104.0      MS   \n",
              "\n",
              "  toeflEssay  GRE_V   GRE_Q  GRE_AWA  termAndYear  ... Tuition ielts_s  \\\n",
              "0         26  160.0   167.0      4.5  Fall - 2015  ...     NaN     NaN   \n",
              "2         21  146.0   157.0      3.0  Fall - 2015  ...     NaN     NaN   \n",
              "3        NaN  420.0   770.0      2.5  Fall - 2011  ...     NaN     NaN   \n",
              "4          6  410.0  1010.0    600.0  Fall - 2006  ...     NaN     NaN   \n",
              "5         27  150.0   161.0      4.5  Fall - 2015  ...     NaN     NaN   \n",
              "\n",
              "  ielts_l ielts_w ielts_r funding_amount toefl_s  toefl_l  toefl_w  toefl_r  \n",
              "0     NaN     NaN     NaN            NaN     NaN      NaN      NaN      NaN  \n",
              "2     NaN     NaN     NaN            NaN     NaN      NaN      NaN      NaN  \n",
              "3     NaN     NaN     NaN            NaN     NaN      NaN      NaN      NaN  \n",
              "4     NaN     NaN     NaN            NaN     NaN      NaN      NaN      NaN  \n",
              "5     NaN     NaN     NaN            NaN     NaN      NaN      NaN      NaN  \n",
              "\n",
              "[5 rows x 27 columns]"
            ],
            "text/html": [
              "\n",
              "  <div id=\"df-22401150-1152-40c7-a52c-1eee6bb7331e\">\n",
              "    <div class=\"colab-df-container\">\n",
              "      <div>\n",
              "<style scoped>\n",
              "    .dataframe tbody tr th:only-of-type {\n",
              "        vertical-align: middle;\n",
              "    }\n",
              "\n",
              "    .dataframe tbody tr th {\n",
              "        vertical-align: top;\n",
              "    }\n",
              "\n",
              "    .dataframe thead th {\n",
              "        text-align: right;\n",
              "    }\n",
              "</style>\n",
              "<table border=\"1\" class=\"dataframe\">\n",
              "  <thead>\n",
              "    <tr style=\"text-align: right;\">\n",
              "      <th></th>\n",
              "      <th>Major</th>\n",
              "      <th>researchExp</th>\n",
              "      <th>industryExp</th>\n",
              "      <th>toeflScore</th>\n",
              "      <th>Program</th>\n",
              "      <th>toeflEssay</th>\n",
              "      <th>GRE_V</th>\n",
              "      <th>GRE_Q</th>\n",
              "      <th>GRE_AWA</th>\n",
              "      <th>termAndYear</th>\n",
              "      <th>...</th>\n",
              "      <th>Tuition</th>\n",
              "      <th>ielts_s</th>\n",
              "      <th>ielts_l</th>\n",
              "      <th>ielts_w</th>\n",
              "      <th>ielts_r</th>\n",
              "      <th>funding_amount</th>\n",
              "      <th>toefl_s</th>\n",
              "      <th>toefl_l</th>\n",
              "      <th>toefl_w</th>\n",
              "      <th>toefl_r</th>\n",
              "    </tr>\n",
              "  </thead>\n",
              "  <tbody>\n",
              "    <tr>\n",
              "      <th>0</th>\n",
              "      <td>Systems and Control</td>\n",
              "      <td>0.0</td>\n",
              "      <td>18.0</td>\n",
              "      <td>112.0</td>\n",
              "      <td>MS</td>\n",
              "      <td>26</td>\n",
              "      <td>160.0</td>\n",
              "      <td>167.0</td>\n",
              "      <td>4.5</td>\n",
              "      <td>Fall - 2015</td>\n",
              "      <td>...</td>\n",
              "      <td>NaN</td>\n",
              "      <td>NaN</td>\n",
              "      <td>NaN</td>\n",
              "      <td>NaN</td>\n",
              "      <td>NaN</td>\n",
              "      <td>NaN</td>\n",
              "      <td>NaN</td>\n",
              "      <td>NaN</td>\n",
              "      <td>NaN</td>\n",
              "      <td>NaN</td>\n",
              "    </tr>\n",
              "    <tr>\n",
              "      <th>2</th>\n",
              "      <td>(MIS / MSIM / MSIS / MSIT)</td>\n",
              "      <td>0.0</td>\n",
              "      <td>66.0</td>\n",
              "      <td>94.0</td>\n",
              "      <td>MS</td>\n",
              "      <td>21</td>\n",
              "      <td>146.0</td>\n",
              "      <td>157.0</td>\n",
              "      <td>3.0</td>\n",
              "      <td>Fall - 2015</td>\n",
              "      <td>...</td>\n",
              "      <td>NaN</td>\n",
              "      <td>NaN</td>\n",
              "      <td>NaN</td>\n",
              "      <td>NaN</td>\n",
              "      <td>NaN</td>\n",
              "      <td>NaN</td>\n",
              "      <td>NaN</td>\n",
              "      <td>NaN</td>\n",
              "      <td>NaN</td>\n",
              "      <td>NaN</td>\n",
              "    </tr>\n",
              "    <tr>\n",
              "      <th>3</th>\n",
              "      <td>MIS</td>\n",
              "      <td>0.0</td>\n",
              "      <td>0.0</td>\n",
              "      <td>81.0</td>\n",
              "      <td>MS</td>\n",
              "      <td>NaN</td>\n",
              "      <td>420.0</td>\n",
              "      <td>770.0</td>\n",
              "      <td>2.5</td>\n",
              "      <td>Fall - 2011</td>\n",
              "      <td>...</td>\n",
              "      <td>NaN</td>\n",
              "      <td>NaN</td>\n",
              "      <td>NaN</td>\n",
              "      <td>NaN</td>\n",
              "      <td>NaN</td>\n",
              "      <td>NaN</td>\n",
              "      <td>NaN</td>\n",
              "      <td>NaN</td>\n",
              "      <td>NaN</td>\n",
              "      <td>NaN</td>\n",
              "    </tr>\n",
              "    <tr>\n",
              "      <th>4</th>\n",
              "      <td>MIS</td>\n",
              "      <td>0.0</td>\n",
              "      <td>0.0</td>\n",
              "      <td>273.0</td>\n",
              "      <td>MS</td>\n",
              "      <td>6</td>\n",
              "      <td>410.0</td>\n",
              "      <td>1010.0</td>\n",
              "      <td>600.0</td>\n",
              "      <td>Fall - 2006</td>\n",
              "      <td>...</td>\n",
              "      <td>NaN</td>\n",
              "      <td>NaN</td>\n",
              "      <td>NaN</td>\n",
              "      <td>NaN</td>\n",
              "      <td>NaN</td>\n",
              "      <td>NaN</td>\n",
              "      <td>NaN</td>\n",
              "      <td>NaN</td>\n",
              "      <td>NaN</td>\n",
              "      <td>NaN</td>\n",
              "    </tr>\n",
              "    <tr>\n",
              "      <th>5</th>\n",
              "      <td>MIS</td>\n",
              "      <td>0.0</td>\n",
              "      <td>0.0</td>\n",
              "      <td>104.0</td>\n",
              "      <td>MS</td>\n",
              "      <td>27</td>\n",
              "      <td>150.0</td>\n",
              "      <td>161.0</td>\n",
              "      <td>4.5</td>\n",
              "      <td>Fall - 2015</td>\n",
              "      <td>...</td>\n",
              "      <td>NaN</td>\n",
              "      <td>NaN</td>\n",
              "      <td>NaN</td>\n",
              "      <td>NaN</td>\n",
              "      <td>NaN</td>\n",
              "      <td>NaN</td>\n",
              "      <td>NaN</td>\n",
              "      <td>NaN</td>\n",
              "      <td>NaN</td>\n",
              "      <td>NaN</td>\n",
              "    </tr>\n",
              "  </tbody>\n",
              "</table>\n",
              "<p>5 rows × 27 columns</p>\n",
              "</div>\n",
              "      <button class=\"colab-df-convert\" onclick=\"convertToInteractive('df-22401150-1152-40c7-a52c-1eee6bb7331e')\"\n",
              "              title=\"Convert this dataframe to an interactive table.\"\n",
              "              style=\"display:none;\">\n",
              "        \n",
              "  <svg xmlns=\"http://www.w3.org/2000/svg\" height=\"24px\"viewBox=\"0 0 24 24\"\n",
              "       width=\"24px\">\n",
              "    <path d=\"M0 0h24v24H0V0z\" fill=\"none\"/>\n",
              "    <path d=\"M18.56 5.44l.94 2.06.94-2.06 2.06-.94-2.06-.94-.94-2.06-.94 2.06-2.06.94zm-11 1L8.5 8.5l.94-2.06 2.06-.94-2.06-.94L8.5 2.5l-.94 2.06-2.06.94zm10 10l.94 2.06.94-2.06 2.06-.94-2.06-.94-.94-2.06-.94 2.06-2.06.94z\"/><path d=\"M17.41 7.96l-1.37-1.37c-.4-.4-.92-.59-1.43-.59-.52 0-1.04.2-1.43.59L10.3 9.45l-7.72 7.72c-.78.78-.78 2.05 0 2.83L4 21.41c.39.39.9.59 1.41.59.51 0 1.02-.2 1.41-.59l7.78-7.78 2.81-2.81c.8-.78.8-2.07 0-2.86zM5.41 20L4 18.59l7.72-7.72 1.47 1.35L5.41 20z\"/>\n",
              "  </svg>\n",
              "      </button>\n",
              "      \n",
              "  <style>\n",
              "    .colab-df-container {\n",
              "      display:flex;\n",
              "      flex-wrap:wrap;\n",
              "      gap: 12px;\n",
              "    }\n",
              "\n",
              "    .colab-df-convert {\n",
              "      background-color: #E8F0FE;\n",
              "      border: none;\n",
              "      border-radius: 50%;\n",
              "      cursor: pointer;\n",
              "      display: none;\n",
              "      fill: #1967D2;\n",
              "      height: 32px;\n",
              "      padding: 0 0 0 0;\n",
              "      width: 32px;\n",
              "    }\n",
              "\n",
              "    .colab-df-convert:hover {\n",
              "      background-color: #E2EBFA;\n",
              "      box-shadow: 0px 1px 2px rgba(60, 64, 67, 0.3), 0px 1px 3px 1px rgba(60, 64, 67, 0.15);\n",
              "      fill: #174EA6;\n",
              "    }\n",
              "\n",
              "    [theme=dark] .colab-df-convert {\n",
              "      background-color: #3B4455;\n",
              "      fill: #D2E3FC;\n",
              "    }\n",
              "\n",
              "    [theme=dark] .colab-df-convert:hover {\n",
              "      background-color: #434B5C;\n",
              "      box-shadow: 0px 1px 3px 1px rgba(0, 0, 0, 0.15);\n",
              "      filter: drop-shadow(0px 1px 2px rgba(0, 0, 0, 0.3));\n",
              "      fill: #FFFFFF;\n",
              "    }\n",
              "  </style>\n",
              "\n",
              "      <script>\n",
              "        const buttonEl =\n",
              "          document.querySelector('#df-22401150-1152-40c7-a52c-1eee6bb7331e button.colab-df-convert');\n",
              "        buttonEl.style.display =\n",
              "          google.colab.kernel.accessAllowed ? 'block' : 'none';\n",
              "\n",
              "        async function convertToInteractive(key) {\n",
              "          const element = document.querySelector('#df-22401150-1152-40c7-a52c-1eee6bb7331e');\n",
              "          const dataTable =\n",
              "            await google.colab.kernel.invokeFunction('convertToInteractive',\n",
              "                                                     [key], {});\n",
              "          if (!dataTable) return;\n",
              "\n",
              "          const docLinkHtml = 'Like what you see? Visit the ' +\n",
              "            '<a target=\"_blank\" href=https://colab.research.google.com/notebooks/data_table.ipynb>data table notebook</a>'\n",
              "            + ' to learn more about interactive tables.';\n",
              "          element.innerHTML = '';\n",
              "          dataTable['output_type'] = 'display_data';\n",
              "          await google.colab.output.renderOutput(dataTable, element);\n",
              "          const docLink = document.createElement('div');\n",
              "          docLink.innerHTML = docLinkHtml;\n",
              "          element.appendChild(docLink);\n",
              "        }\n",
              "      </script>\n",
              "    </div>\n",
              "  </div>\n",
              "  "
            ]
          },
          "metadata": {},
          "execution_count": 1085
        }
      ]
    },
    {
      "cell_type": "code",
      "source": [
        "# Pass VorQ as 1 for verbal, 2 for Quant\n",
        "# Run cell only once. Not more, else you gonna fuq up :D \n",
        "import math\n",
        "def adjustGREmarks(greMarks, VorQ):\n",
        "  if not isinstance(greMarks, int) or np.isnan(greMarks):\n",
        "    return 151 if VorQ == 1 else 157 # NaN values are imputed with averages \n",
        "  if greMarks%10 != 0 and greMarks>199:\n",
        "    greMarks = int(math.ceil(greMarks / 10.0)) * 10\n",
        "  if greMarks>=200 and greMarks<=800:\n",
        "    return gre_score_conversion[gre_score_conversion[\"old\"] == greMarks].values[0][VorQ]\n",
        "  #At this point all processing is done, scrap values will be imputed with average gre marks.\n",
        "  if greMarks < 130 or greMarks> 170:\n",
        "    return 151 if VorQ == 1 else 157\n",
        "  else: return greMarks"
      ],
      "metadata": {
        "id": "ErUUlJQf8w8H"
      },
      "id": "ErUUlJQf8w8H",
      "execution_count": null,
      "outputs": []
    },
    {
      "cell_type": "code",
      "source": [
        "concatenated_df['GRE_V'] = concatenated_df['GRE_V'].astype('Int32').apply(lambda x: adjustGREmarks(x, 1))\n",
        "concatenated_df['GRE_Q'] = concatenated_df['GRE_Q'].astype('Int32').apply(lambda x: adjustGREmarks(x, 2))"
      ],
      "metadata": {
        "id": "1Efcr-4t8xAu"
      },
      "id": "1Efcr-4t8xAu",
      "execution_count": null,
      "outputs": []
    },
    {
      "cell_type": "code",
      "source": [
        "def getUwU(x):\n",
        "  if not isinstance(x, float) or math.isnan(x): \n",
        "    return 3.0 #Average \n",
        "  if 0.0 <= x <= 6.0:\n",
        "    return round(round(x, 1)*2)/2.0\n",
        "  else:\n",
        "    return 3.0\n",
        "\n",
        "concatenated_df['GRE_AWA'] = concatenated_df['GRE_AWA'].astype(float).apply(lambda x: getUwU(x))\n",
        "list(zip(concatenated_df['GRE_AWA'].value_counts().index.tolist(), concatenated_df['GRE_AWA'].value_counts().tolist()))"
      ],
      "metadata": {
        "colab": {
          "base_uri": "https://localhost:8080/"
        },
        "id": "unpo9NYRI37C",
        "outputId": "c2423d41-c420-4341-b4ec-a459b397a81f"
      },
      "id": "unpo9NYRI37C",
      "execution_count": null,
      "outputs": [
        {
          "output_type": "execute_result",
          "data": {
            "text/plain": [
              "[(4.0, 30019),\n",
              " (3.0, 25298),\n",
              " (3.5, 21995),\n",
              " (4.5, 14326),\n",
              " (5.0, 7700),\n",
              " (5.5, 2881),\n",
              " (2.5, 1853),\n",
              " (6.0, 824),\n",
              " (2.0, 330),\n",
              " (0.0, 63),\n",
              " (1.5, 49),\n",
              " (1.0, 24),\n",
              " (0.5, 4)]"
            ]
          },
          "metadata": {},
          "execution_count": 1088
        }
      ]
    },
    {
      "cell_type": "code",
      "source": [
        "# concatenated_df.industryExp.value_counts().tolist()\n",
        "# sorted(list(zip(concatenated_df['University'].value_counts().index.tolist(), concatenated_df['University'].value_counts().tolist())))\n",
        "# concatenated_df['University'].value_counts().index.tolist()\n",
        "concatenated_df[concatenated_df[\"University\"].str.contains(\"Buffalo\", case=False)].University.value_counts()"
      ],
      "metadata": {
        "colab": {
          "base_uri": "https://localhost:8080/"
        },
        "id": "ltoDs1sElu1d",
        "outputId": "e216f4b0-c53a-4728-c0e7-652b43aeeb6b"
      },
      "id": "ltoDs1sElu1d",
      "execution_count": null,
      "outputs": [
        {
          "output_type": "execute_result",
          "data": {
            "text/plain": [
              "SUNY Buffalo                                                              2254\n",
              "SUNY - University at Buffalo                                               353\n",
              "(SUNY) University At Buffalo                                                53\n",
              "University At Buffalo                                                       30\n",
              "SUNY University At Buffalo                                                  15\n",
              "SUNY Buffalo State                                                           6\n",
              "State University Of New York At Buffalo                                      5\n",
              "University At Buffalo, SUNY                                                  4\n",
              "SUNY Buffalo (UB)                                                            3\n",
              "The State University Of New York At Buffalo                                  3\n",
              "University At Buffalo, The State University Of New York                      3\n",
              "State University Of New York At Buffalo (SUNY Buffalo)                       2\n",
              "SUNY Buffalo- University At Buffalo                                          2\n",
              "State University Of New York, Buffalo                                        1\n",
              "State University Of New York-Buffalo                                         1\n",
              "SUNY(State University Of New York) At Buffalo                                1\n",
              "SUNY - Buffalo                                                               1\n",
              "SUNY, Buffalo                                                                1\n",
              "State University Of New York, Buffalo (SUNY)                                 1\n",
              "University At Buffalo SUNY                                                   1\n",
              "University At Buffalo–​SUNY                                                  1\n",
              "University Of Buffalo, SUNY                                                  1\n",
              "State University Of New York - Buffalo                                       1\n",
              "State University Of New York (SUNY) Buffalo                                  1\n",
              "University At Buffalo, The State University Of New York (SUNY Buffalo)       1\n",
              "State University Of Buffalo                                                  1\n",
              "State University Of New York (SUNY)-Buffalo                                  1\n",
              "University Of Buffalo                                                        1\n",
              "Name: University, dtype: int64"
            ]
          },
          "metadata": {},
          "execution_count": 1089
        }
      ]
    },
    {
      "cell_type": "code",
      "source": [
        "concatenated_df.isna().sum()"
      ],
      "metadata": {
        "id": "xIlVxccl8w5b",
        "outputId": "3039c707-03c8-47d3-f5f4-a40aa37ea358",
        "colab": {
          "base_uri": "https://localhost:8080/"
        }
      },
      "id": "xIlVxccl8w5b",
      "execution_count": null,
      "outputs": [
        {
          "output_type": "execute_result",
          "data": {
            "text/plain": [
              "Major                  0\n",
              "researchExp        41410\n",
              "industryExp        41139\n",
              "toeflScore         51892\n",
              "Program            13200\n",
              "toeflEssay         93773\n",
              "GRE_V                  0\n",
              "GRE_Q                  0\n",
              "GRE_AWA                0\n",
              "termAndYear        53965\n",
              "ugCollege          55530\n",
              "CGPA                   0\n",
              "cgpaScale          40765\n",
              "University             0\n",
              "Status                 0\n",
              "Country            53670\n",
              "Date               55337\n",
              "Tuition            64601\n",
              "ielts_s            99993\n",
              "ielts_l            99993\n",
              "ielts_w            99993\n",
              "ielts_r            99993\n",
              "funding_amount    100903\n",
              "toefl_s            99979\n",
              "toefl_l            99979\n",
              "toefl_w            99979\n",
              "toefl_r            99979\n",
              "dtype: int64"
            ]
          },
          "metadata": {},
          "execution_count": 1090
        }
      ]
    },
    {
      "cell_type": "markdown",
      "source": [
        "# Filtering rows for CS and related majors"
      ],
      "metadata": {
        "id": "0icY-eMwarvj"
      },
      "id": "0icY-eMwarvj"
    },
    {
      "cell_type": "code",
      "source": [
        "# concatenated_df[concatenated_df[\"Major\"].str.contains(\"Computer\", case=False)]"
      ],
      "metadata": {
        "id": "4xM3A2gxbkR6"
      },
      "id": "4xM3A2gxbkR6",
      "execution_count": null,
      "outputs": []
    },
    {
      "cell_type": "code",
      "source": [
        "# concatenated_df[concatenated_df[\"Major\"].str.contains(\"Computer|C\\.S|CSE\", case=False)].Major.value_counts()"
      ],
      "metadata": {
        "id": "YiwbOCrybL12"
      },
      "id": "YiwbOCrybL12",
      "execution_count": null,
      "outputs": []
    },
    {
      "cell_type": "markdown",
      "source": [
        "# Status cleaning"
      ],
      "metadata": {
        "id": "gYo8fF7wbUF8"
      },
      "id": "gYo8fF7wbUF8"
    },
    {
      "cell_type": "code",
      "source": [
        "concatenated_df['Status'] = concatenated_df['Status'].replace({'admit': 'Accepted', 'reject': 'Rejected', 1:'Accepted', 0:'Rejected','applied':'Applied', 'Wait listed': 'Applied', 'Interview':'Applied'})"
      ],
      "metadata": {
        "id": "N6FxpAmEazMe"
      },
      "id": "N6FxpAmEazMe",
      "execution_count": null,
      "outputs": []
    },
    {
      "cell_type": "code",
      "source": [
        "concatenated_df['Status'].value_counts()"
      ],
      "metadata": {
        "colab": {
          "base_uri": "https://localhost:8080/"
        },
        "id": "r_DFga6lgBgY",
        "outputId": "9f344f80-06aa-40ae-d3ce-793081aea0d6"
      },
      "id": "r_DFga6lgBgY",
      "execution_count": null,
      "outputs": [
        {
          "output_type": "execute_result",
          "data": {
            "text/plain": [
              "Accepted    60471\n",
              "Rejected    36487\n",
              "Applied      8408\n",
              "Name: Status, dtype: int64"
            ]
          },
          "metadata": {},
          "execution_count": 1094
        }
      ]
    },
    {
      "cell_type": "markdown",
      "source": [
        "# CGPA Processed"
      ],
      "metadata": {
        "id": "af026WW4K-87"
      },
      "id": "af026WW4K-87"
    },
    {
      "cell_type": "code",
      "source": [
        "concatenated_df.drop_duplicates(inplace=True)"
      ],
      "metadata": {
        "id": "qybJDRYolu3j"
      },
      "id": "qybJDRYolu3j",
      "execution_count": null,
      "outputs": []
    },
    {
      "cell_type": "code",
      "source": [
        "concatenated_df.cgpaScale = concatenated_df.cgpaScale.replace(\"None\", np.nan)\n",
        "concatenated_df.cgpaScale.isna().sum()"
      ],
      "metadata": {
        "colab": {
          "base_uri": "https://localhost:8080/"
        },
        "id": "ybRtg0MPlvCE",
        "outputId": "ebbb12a8-ccf4-42d4-ebe8-5faf84428c90"
      },
      "id": "ybRtg0MPlvCE",
      "execution_count": null,
      "outputs": [
        {
          "output_type": "execute_result",
          "data": {
            "text/plain": [
              "41262"
            ]
          },
          "metadata": {},
          "execution_count": 1096
        }
      ]
    },
    {
      "cell_type": "code",
      "source": [
        "# Drop CGPA NaN\n",
        "concatenated_df[\"CGPA\"] = concatenated_df[\"CGPA\"].replace(\"None\",np.nan)\n",
        "print(concatenated_df.CGPA.isna().sum())\n",
        "concatenated_df = concatenated_df[concatenated_df.CGPA.notnull()]"
      ],
      "metadata": {
        "colab": {
          "base_uri": "https://localhost:8080/"
        },
        "id": "067vgvZylu5n",
        "outputId": "d92322d8-c27c-4031-87b1-4a0506709c96"
      },
      "id": "067vgvZylu5n",
      "execution_count": null,
      "outputs": [
        {
          "output_type": "stream",
          "name": "stdout",
          "text": [
            "662\n"
          ]
        }
      ]
    },
    {
      "cell_type": "code",
      "source": [
        "# Only a few entries for CGPA>100, drop them\n",
        "concatenated_df = concatenated_df[concatenated_df.CGPA.astype(float)<=100.0]"
      ],
      "metadata": {
        "id": "WXqAV2-ms4K-"
      },
      "id": "WXqAV2-ms4K-",
      "execution_count": null,
      "outputs": []
    },
    {
      "cell_type": "code",
      "source": [
        "convert10to4 = {10.0 : 4, 9.9: 3.97, 9.8: 3.94, 9.7: 3.9, 9.6: 3.87, 9.5: 3.84, 9.4: 3.81, 9.3: 3.78, 9.2: 3.74, 9.1: 3.71, 9.0: 3.68, 8.9: 3.65, 8.8: 3.62, 8.7: 3.58, 8.6: 3.55, 8.5: 3.52, 8.4: 3.49, 8.3: 3.46, 8.2: 3.42, 8.1: 3.39, 8.0: 3.36, 7.9: 3.33, 7.8: 3.3, 7.7: 3.26, 7.6: 3.23, 7.5: 3.2, 7.4: 3.17, 7.3: 3.14, 7.2: 3.1, 7.1: 3.07, 7.0: 3.04, 6.9: 3, 6.8: 2.95, 6.7: 2.9, 6.6: 2.85, 6.5: 2.8, 6.4: 2.75, 6.3: 2.7, 6.2: 2.65, 6.1: 2.6, 6.0 : 2.55, 5.9: 2.5, 5.8: 2.45, 5.7: 2.4, 5.6: 2.35, 5.5: 2.3, 5.4: 2.25, 5.3: 2.2, 5.2: 2.15, 5.1: 2.1, 5.0  : 2.05, 4.9: 2, 4.8: 1.94, 4.7: 1.88, 4.6: 1.82, 4.5: 1.76, 4.4: 1.71, 4.3: 1.65, 4.2: 1.59, 4.1: 1.53}\n",
        "def cgpaHandling(cgpa, scale):\n",
        "    #No CGPA is null, convert everything to float\n",
        "    cgpa = float(cgpa)\n",
        "    scale = float(scale)\n",
        "    # if not np.isnan(scale):\n",
        "    #     if scale == 100:\n",
        "    #         cgpa /= 9.5\n",
        "    if cgpa <= 100.0 and cgpa > 10.0:\n",
        "        cgpa = (cgpa/9.5) if cgpa <= 95.0 else 10.0\n",
        "\n",
        "    cgpa = round(float(cgpa), 1) #Upto 1 decimal only for conversion via dictionary\n",
        "    if cgpa > 4.0 and cgpa <= 10.0 :\n",
        "        cgpa = convert10to4[cgpa]\n",
        "    return cgpa"
      ],
      "metadata": {
        "id": "WfB_0Q9RF3q9"
      },
      "id": "WfB_0Q9RF3q9",
      "execution_count": null,
      "outputs": []
    },
    {
      "cell_type": "code",
      "source": [
        "concatenated_df[\"CGPA\"] = concatenated_df.apply(lambda x: cgpaHandling(x.CGPA, x.cgpaScale), axis=1)"
      ],
      "metadata": {
        "id": "262sMPWCFr9N"
      },
      "id": "262sMPWCFr9N",
      "execution_count": null,
      "outputs": []
    },
    {
      "cell_type": "code",
      "source": [
        "concatenated_df = concatenated_df[concatenated_df.CGPA.astype(float) > 0.0]"
      ],
      "metadata": {
        "id": "AY2_JZjSMUeL"
      },
      "id": "AY2_JZjSMUeL",
      "execution_count": null,
      "outputs": []
    },
    {
      "cell_type": "code",
      "source": [
        "print(min(concatenated_df[\"CGPA\"]), average(concatenated_df[\"CGPA\"]))"
      ],
      "metadata": {
        "colab": {
          "base_uri": "https://localhost:8080/"
        },
        "id": "jW_ZyyBuE7ZN",
        "outputId": "10783ce0-fed8-4804-818a-f28f09c0bcbf"
      },
      "id": "jW_ZyyBuE7ZN",
      "execution_count": null,
      "outputs": [
        {
          "output_type": "stream",
          "name": "stdout",
          "text": [
            "0.4 3.4352408959228504\n"
          ]
        }
      ]
    },
    {
      "cell_type": "code",
      "source": [
        "# from numpy.lib.function_base import average\n",
        "# lol = concatenated_df.CGPA.value_counts().index.astype(float)\n",
        "# sorted(lol, reverse=True)"
      ],
      "metadata": {
        "id": "igAGnlvdabaZ"
      },
      "id": "igAGnlvdabaZ",
      "execution_count": null,
      "outputs": []
    },
    {
      "cell_type": "code",
      "source": [
        "# concatenated_df[(concatenated_df.University == \"North Carolina State University\") & (concatenated_df.Tuition > 10000) & (concatenated_df.Tuition < 100000)].Tuition"
      ],
      "metadata": {
        "id": "MZdnTUxSTGyJ"
      },
      "id": "MZdnTUxSTGyJ",
      "execution_count": null,
      "outputs": []
    },
    {
      "cell_type": "code",
      "source": [
        "concatenated_df = concatenated_df.drop([\"cgpaScale\", \"Tuition\", \"funding_amount\"], axis=1)"
      ],
      "metadata": {
        "id": "RmKLIQjxZ6I6"
      },
      "id": "RmKLIQjxZ6I6",
      "execution_count": null,
      "outputs": []
    },
    {
      "cell_type": "code",
      "source": [
        "concatenated_df.isna().sum()"
      ],
      "metadata": {
        "colab": {
          "base_uri": "https://localhost:8080/"
        },
        "id": "MbBSFLBfTGvt",
        "outputId": "3f14c6f4-337b-4c12-8255-d9f7e3b93f97"
      },
      "id": "MbBSFLBfTGvt",
      "execution_count": null,
      "outputs": [
        {
          "output_type": "execute_result",
          "data": {
            "text/plain": [
              "Major              0\n",
              "researchExp    41138\n",
              "industryExp    40871\n",
              "toeflScore     51007\n",
              "Program        12523\n",
              "toeflEssay     91448\n",
              "GRE_V              0\n",
              "GRE_Q              0\n",
              "GRE_AWA            0\n",
              "termAndYear    53123\n",
              "ugCollege      54158\n",
              "CGPA               0\n",
              "University         0\n",
              "Status             0\n",
              "Country        52002\n",
              "Date           53403\n",
              "ielts_s        97732\n",
              "ielts_l        97732\n",
              "ielts_w        97732\n",
              "ielts_r        97732\n",
              "toefl_s        97598\n",
              "toefl_l        97598\n",
              "toefl_w        97598\n",
              "toefl_r        97598\n",
              "dtype: int64"
            ]
          },
          "metadata": {},
          "execution_count": 1106
        }
      ]
    },
    {
      "cell_type": "code",
      "source": [
        "# concatenated_df.to_csv(\"BaryapaikiFinalConcatenated.csv\")"
      ],
      "metadata": {
        "id": "96T9yBiWTGnF"
      },
      "id": "96T9yBiWTGnF",
      "execution_count": null,
      "outputs": []
    },
    {
      "cell_type": "code",
      "source": [
        "spark = pyspark.sql.SparkSession.builder.appName(\"DM Trial\").getOrCreate()"
      ],
      "metadata": {
        "id": "pbnpEKmPsZJy"
      },
      "id": "pbnpEKmPsZJy",
      "execution_count": null,
      "outputs": []
    },
    {
      "cell_type": "code",
      "source": [],
      "metadata": {
        "id": "1NstDzE7soF2"
      },
      "id": "1NstDzE7soF2",
      "execution_count": null,
      "outputs": []
    },
    {
      "cell_type": "code",
      "execution_count": null,
      "metadata": {
        "id": "3c04fb64"
      },
      "outputs": [],
      "source": [
        "import pyspark\n",
        "from pyspark.sql import SparkSession \n",
        "from pyspark.sql.functions import udf\n",
        "from pyspark.sql.functions import udf\n",
        "from pyspark.sql.types import StringType\n",
        "from fuzzywuzzy import fuzz\n",
        "from pyspark.sql.functions import col\n"
      ],
      "id": "3c04fb64"
    },
    {
      "cell_type": "code",
      "execution_count": null,
      "metadata": {
        "id": "6b5423cc"
      },
      "outputs": [],
      "source": [
        "spark = pyspark.sql.SparkSession.builder.appName(\"DM Trial\").getOrCreate()\n",
        "spark.conf.set(\"spark.sql.repl.eagerEval.enabled\", True)"
      ],
      "id": "6b5423cc"
    },
    {
      "cell_type": "code",
      "execution_count": null,
      "metadata": {
        "id": "cc7b9a9a",
        "outputId": "2b494d76-c094-43c1-d90a-e3a7bd4725f7",
        "colab": {
          "base_uri": "https://localhost:8080/",
          "height": 219
        }
      },
      "outputs": [
        {
          "output_type": "execute_result",
          "data": {
            "text/plain": [
              "<pyspark.sql.session.SparkSession at 0x7f03d1de1a30>"
            ],
            "text/html": [
              "\n",
              "            <div>\n",
              "                <p><b>SparkSession - in-memory</b></p>\n",
              "                \n",
              "        <div>\n",
              "            <p><b>SparkContext</b></p>\n",
              "\n",
              "            <p><a href=\"http://d392c8a2ec4a:4040\">Spark UI</a></p>\n",
              "\n",
              "            <dl>\n",
              "              <dt>Version</dt>\n",
              "                <dd><code>v3.4.0</code></dd>\n",
              "              <dt>Master</dt>\n",
              "                <dd><code>local[*]</code></dd>\n",
              "              <dt>AppName</dt>\n",
              "                <dd><code>DM Trial</code></dd>\n",
              "            </dl>\n",
              "        </div>\n",
              "        \n",
              "            </div>\n",
              "        "
            ]
          },
          "metadata": {},
          "execution_count": 1108
        }
      ],
      "source": [
        "spark"
      ],
      "id": "cc7b9a9a"
    },
    {
      "cell_type": "code",
      "execution_count": null,
      "metadata": {
        "id": "83402112"
      },
      "outputs": [],
      "source": [
        "df = spark.read.format(\"csv\").option(\"header\", \"true\",).option(\"inferSchema\",\"true\").load('BaryapaikiFinalConcatenated.csv')"
      ],
      "id": "83402112"
    },
    {
      "cell_type": "code",
      "execution_count": null,
      "metadata": {
        "id": "bd06a82a",
        "outputId": "eec3b850-1ef3-4755-ed01-c7c4eda762ca",
        "colab": {
          "base_uri": "https://localhost:8080/"
        }
      },
      "outputs": [
        {
          "output_type": "stream",
          "name": "stdout",
          "text": [
            "root\n",
            " |-- _c0: integer (nullable = true)\n",
            " |-- Major: string (nullable = true)\n",
            " |-- researchExp: double (nullable = true)\n",
            " |-- industryExp: double (nullable = true)\n",
            " |-- toeflScore: double (nullable = true)\n",
            " |-- Program: string (nullable = true)\n",
            " |-- toeflEssay: string (nullable = true)\n",
            " |-- GRE_V: integer (nullable = true)\n",
            " |-- GRE_Q: integer (nullable = true)\n",
            " |-- GRE_AWA: double (nullable = true)\n",
            " |-- termAndYear: string (nullable = true)\n",
            " |-- ugCollege: string (nullable = true)\n",
            " |-- CGPA: double (nullable = true)\n",
            " |-- University: string (nullable = true)\n",
            " |-- Status: string (nullable = true)\n",
            " |-- Country: string (nullable = true)\n",
            " |-- Date: string (nullable = true)\n",
            " |-- ielts_s: double (nullable = true)\n",
            " |-- ielts_l: double (nullable = true)\n",
            " |-- ielts_w: double (nullable = true)\n",
            " |-- ielts_r: double (nullable = true)\n",
            " |-- toefl_s: double (nullable = true)\n",
            " |-- toefl_l: double (nullable = true)\n",
            " |-- toefl_w: double (nullable = true)\n",
            " |-- toefl_r: double (nullable = true)\n",
            "\n"
          ]
        }
      ],
      "source": [
        "df.printSchema()"
      ],
      "id": "bd06a82a"
    },
    {
      "cell_type": "code",
      "execution_count": null,
      "metadata": {
        "id": "e175e6d7",
        "outputId": "1721a236-8ca2-4bb4-e550-39b2601e00bc",
        "colab": {
          "base_uri": "https://localhost:8080/"
        }
      },
      "outputs": [
        {
          "output_type": "stream",
          "name": "stdout",
          "text": [
            "+--------------------+-----+\n",
            "|          University|count|\n",
            "+--------------------+-----+\n",
            "|        SUNY Buffalo| 2182|\n",
            "|Northeastern Univ...|   64|\n",
            "|University Of Bir...|    3|\n",
            "|  Ryerson University|   15|\n",
            "|University Of Wis...|    1|\n",
            "|Cleveland State U...|    1|\n",
            "|New York Univeris...|    2|\n",
            "| Columbia Univercity|    3|\n",
            "|University Of Col...|    3|\n",
            "|Harvard Universit...|    2|\n",
            "|USC Viterbi Schoo...|    2|\n",
            "|  Widener University|    3|\n",
            "|Teachers College ...|    2|\n",
            "|University Of Pen...|    4|\n",
            "|University of Cal...|  616|\n",
            "| New York University|  950|\n",
            "|Marquette University|   98|\n",
            "|University Of Cal...|   13|\n",
            "|New York Univerisity|    2|\n",
            "|University Of Lou...|    1|\n",
            "+--------------------+-----+\n",
            "only showing top 20 rows\n",
            "\n"
          ]
        }
      ],
      "source": [
        "value_counts = df.groupBy(\"University\").count()\n",
        "value_counts.show()"
      ],
      "id": "e175e6d7"
    },
    {
      "cell_type": "code",
      "execution_count": null,
      "metadata": {
        "id": "1a7fa149",
        "outputId": "951bbd25-34f8-43af-9e9c-fff0bdb5f01b",
        "colab": {
          "base_uri": "https://localhost:8080/"
        }
      },
      "outputs": [
        {
          "output_type": "stream",
          "name": "stdout",
          "text": [
            "102866\n"
          ]
        }
      ],
      "source": [
        "total_rows = df.count()\n",
        "print(total_rows)"
      ],
      "id": "1a7fa149"
    },
    {
      "cell_type": "code",
      "execution_count": null,
      "metadata": {
        "id": "330ec4c1",
        "outputId": "29edaf6d-dc69-4b4e-e5b3-17b1fc3e2200",
        "colab": {
          "base_uri": "https://localhost:8080/"
        }
      },
      "outputs": [
        {
          "output_type": "stream",
          "name": "stdout",
          "text": [
            "Number of distinct values in column 'University' is: 4758\n"
          ]
        }
      ],
      "source": [
        "num_distinct = df.select('University').distinct().count()\n",
        "print(\"Number of distinct values in column '{}' is: {}\".format('University', num_distinct))"
      ],
      "id": "330ec4c1"
    },
    {
      "cell_type": "code",
      "execution_count": null,
      "metadata": {
        "id": "85a17a17",
        "outputId": "e817bff2-3a8b-41d3-d0bb-4a87df4e1f7a",
        "colab": {
          "base_uri": "https://localhost:8080/",
          "height": 200
        }
      },
      "outputs": [
        {
          "output_type": "error",
          "ename": "TypeError",
          "evalue": "ignored",
          "traceback": [
            "\u001b[0;31m---------------------------------------------------------------------------\u001b[0m",
            "\u001b[0;31mTypeError\u001b[0m                                 Traceback (most recent call last)",
            "\u001b[0;32m<ipython-input-1118-aa38a354f662>\u001b[0m in \u001b[0;36m<cell line: 2>\u001b[0;34m()\u001b[0m\n\u001b[1;32m      1\u001b[0m \u001b[0mcorrect_names_df\u001b[0m \u001b[0;34m=\u001b[0m \u001b[0mspark\u001b[0m\u001b[0;34m.\u001b[0m\u001b[0mread\u001b[0m\u001b[0;34m.\u001b[0m\u001b[0mcsv\u001b[0m\u001b[0;34m(\u001b[0m\u001b[0;34m\"us_universities.csv\"\u001b[0m\u001b[0;34m,\u001b[0m \u001b[0mheader\u001b[0m\u001b[0;34m=\u001b[0m\u001b[0;32mTrue\u001b[0m\u001b[0;34m,\u001b[0m \u001b[0minferSchema\u001b[0m\u001b[0;34m=\u001b[0m\u001b[0;32mTrue\u001b[0m\u001b[0;34m)\u001b[0m\u001b[0;34m\u001b[0m\u001b[0;34m\u001b[0m\u001b[0m\n\u001b[0;32m----> 2\u001b[0;31m \u001b[0mcorrect_names\u001b[0m \u001b[0;34m=\u001b[0m \u001b[0mcorrect_names_df\u001b[0m\u001b[0;34m.\u001b[0m\u001b[0mselect\u001b[0m\u001b[0;34m(\u001b[0m\u001b[0mcol\u001b[0m\u001b[0;34m(\u001b[0m\u001b[0;34m'name'\u001b[0m\u001b[0;34m)\u001b[0m\u001b[0;34m)\u001b[0m\u001b[0;34m.\u001b[0m\u001b[0mrdd\u001b[0m\u001b[0;34m.\u001b[0m\u001b[0mflatMap\u001b[0m\u001b[0;34m(\u001b[0m\u001b[0;32mlambda\u001b[0m \u001b[0mx\u001b[0m\u001b[0;34m:\u001b[0m \u001b[0mx\u001b[0m\u001b[0;34m)\u001b[0m\u001b[0;34m.\u001b[0m\u001b[0mcollect\u001b[0m\u001b[0;34m(\u001b[0m\u001b[0;34m)\u001b[0m\u001b[0;34m\u001b[0m\u001b[0;34m\u001b[0m\u001b[0m\n\u001b[0m\u001b[1;32m      3\u001b[0m \u001b[0mprint\u001b[0m\u001b[0;34m(\u001b[0m\u001b[0mcorrect_names\u001b[0m\u001b[0;34m)\u001b[0m\u001b[0;34m\u001b[0m\u001b[0;34m\u001b[0m\u001b[0m\n",
            "\u001b[0;31mTypeError\u001b[0m: 'str' object is not callable"
          ]
        }
      ],
      "source": [
        "correct_names_df = spark.read.csv(\"us_universities.csv\", header=True, inferSchema=True)\n",
        "correct_names = correct_names_df.select(col('name')).rdd.flatMap(lambda x: x).collect()\n",
        "print(correct_names)"
      ],
      "id": "85a17a17"
    },
    {
      "cell_type": "code",
      "execution_count": null,
      "metadata": {
        "id": "901e0579"
      },
      "outputs": [],
      "source": [
        "drop_indices = []\n",
        "import numpy as np\n",
        "exclude_words = [\"university\", \"college\"]\n",
        "\n",
        "def correct_university_name(name):\n",
        "    # Iterate over the correct university names and find the one with the highest similarity score\n",
        "    name_preprocessed = \" \".join([word for word in name.lower().split() if word not in exclude_words])\n",
        "    max_score = 0\n",
        "    corrected_name = ''\n",
        "    for correct_name in correct_names:\n",
        "        correct_name_preprocessed = \" \".join([word for word in correct_name.lower().split() if word not in exclude_words])\n",
        "        score = fuzz.ratio(name_preprocessed.lower(), correct_name_preprocessed.lower())\n",
        "        if score > max_score:\n",
        "            max_score = score\n",
        "            corrected_name = correct_name\n",
        "    if max_score < 50:\n",
        "        return np.nan\n",
        "    return corrected_name"
      ],
      "id": "901e0579"
    },
    {
      "cell_type": "code",
      "execution_count": null,
      "metadata": {
        "id": "85ea8146"
      },
      "outputs": [],
      "source": [
        "correct_university_name_udf = udf(lambda name: correct_university_name(name), StringType())"
      ],
      "id": "85ea8146"
    },
    {
      "cell_type": "code",
      "execution_count": null,
      "metadata": {
        "id": "9633b415"
      },
      "outputs": [],
      "source": [
        "df[\"New University\"] = df.withColumn(\"University\", correct_university_name_udf(df[\"University\"]))"
      ],
      "id": "9633b415"
    },
    {
      "cell_type": "code",
      "execution_count": null,
      "metadata": {
        "id": "991c055d"
      },
      "outputs": [],
      "source": [
        "#kaggle.show(5)"
      ],
      "id": "991c055d"
    },
    {
      "cell_type": "code",
      "execution_count": null,
      "metadata": {
        "id": "eb75f0b7",
        "outputId": "01605573-4d6e-484a-800b-9598ca83d01a"
      },
      "outputs": [
        {
          "name": "stdout",
          "output_type": "stream",
          "text": [
            "102866\n"
          ]
        }
      ],
      "source": [
        "total_rows = df.count()\n",
        "print(total_rows)"
      ],
      "id": "eb75f0b7"
    },
    {
      "cell_type": "code",
      "execution_count": null,
      "metadata": {
        "id": "4ba7e11a",
        "outputId": "3c6f4c5f-93c7-440f-edf1-006194889e86"
      },
      "outputs": [
        {
          "name": "stderr",
          "output_type": "stream",
          "text": [
            "[Stage 26:===========================================>              (3 + 1) / 4]\r"
          ]
        },
        {
          "name": "stdout",
          "output_type": "stream",
          "text": [
            "+--------------------+-----+\n",
            "|          University|count|\n",
            "+--------------------+-----+\n",
            "|Texas A&M Interna...| 2143|\n",
            "|State University ...| 1527|\n",
            "|University of Cin...| 1268|\n",
            "|University of Sou...| 2853|\n",
            "|University of Mas...| 1102|\n",
            "|University of Tex...| 3901|\n",
            "|University of Was...|  940|\n",
            "|University of Cal...|  600|\n",
            "|State University ...| 2619|\n",
            "|Worcester Polytec...|  152|\n",
            "|University of Col...| 1133|\n",
            "|University of Flo...| 2550|\n",
            "|University of Ari...| 1102|\n",
            "|University of Min...| 1555|\n",
            "|University of Nor...|  443|\n",
            "|University of Cal...|  973|\n",
            "| Wayne State College|  280|\n",
            "|University of Ill...| 1460|\n",
            "|University of Cal...|  251|\n",
            "|University of Mar...| 1466|\n",
            "+--------------------+-----+\n",
            "only showing top 20 rows\n",
            "\n"
          ]
        },
        {
          "name": "stderr",
          "output_type": "stream",
          "text": [
            "                                                                                \r"
          ]
        }
      ],
      "source": [
        "value_counts = df.groupBy(\"University\").count()\n",
        "value_counts.show()"
      ],
      "id": "4ba7e11a"
    },
    {
      "cell_type": "code",
      "execution_count": null,
      "metadata": {
        "id": "0dd3309c",
        "outputId": "54de6690-a2e7-4495-e72b-39d60b165f95"
      },
      "outputs": [
        {
          "name": "stderr",
          "output_type": "stream",
          "text": [
            "[Stage 23:===========================================>              (3 + 1) / 4]\r"
          ]
        },
        {
          "name": "stdout",
          "output_type": "stream",
          "text": [
            "Number of distinct values in column 'University' is: 851\n"
          ]
        },
        {
          "name": "stderr",
          "output_type": "stream",
          "text": [
            "                                                                                \r"
          ]
        }
      ],
      "source": [
        "num_distinct = df.select('University').distinct().count()\n",
        "print(\"Number of distinct values in column '{}' is: {}\".format('University', num_distinct))"
      ],
      "id": "0dd3309c"
    },
    {
      "cell_type": "code",
      "execution_count": null,
      "metadata": {
        "id": "dee7e3db"
      },
      "outputs": [],
      "source": [
        "df.write.csv(\"/path/to/converted_file.csv\", header=True)"
      ],
      "id": "dee7e3db"
    },
    {
      "cell_type": "code",
      "execution_count": null,
      "metadata": {
        "id": "ab0c5020"
      },
      "outputs": [],
      "source": [
        "name = 'University of Waterloo'\n"
      ],
      "id": "ab0c5020"
    },
    {
      "cell_type": "code",
      "execution_count": null,
      "metadata": {
        "id": "08113aa7"
      },
      "outputs": [],
      "source": [
        "spark.stop()"
      ],
      "id": "08113aa7"
    },
    {
      "cell_type": "code",
      "execution_count": null,
      "metadata": {
        "id": "b635a0ef"
      },
      "outputs": [],
      "source": [],
      "id": "b635a0ef"
    },
    {
      "cell_type": "markdown",
      "source": [],
      "metadata": {
        "id": "L23FRkB6sZDu"
      },
      "id": "L23FRkB6sZDu"
    },
    {
      "cell_type": "markdown",
      "source": [
        "# Sarthak Code for US Only Universities\n"
      ],
      "metadata": {
        "id": "1H0S7CQTadAO"
      },
      "id": "1H0S7CQTadAO"
    },
    {
      "cell_type": "code",
      "source": [
        "# %%time\n",
        "\n",
        "# import requests\n",
        "# from bs4 import BeautifulSoup\n",
        "# import pandas as pd\n",
        "\n",
        "# url = \"https://www.4icu.org/us/a-z/\" # website that lists universities in the USA\n",
        "\n",
        "# response = requests.get(url)\n",
        "# soup = BeautifulSoup(response.text, \"html.parser\")\n",
        "\n",
        "# table = soup.find(\"table\", {\"class\": \"table table-hover\"}) # find table with university names\n",
        "\n",
        "# usa_universities = [] # list to store USA universities\n",
        "\n",
        "# for index, row in concatenated_df.iterrows(): # loop through each row of the DataFrame\n",
        "#     University = row[\"University\"] # get university name from the column\n",
        "#     for row in table.find_all(\"tr\"): # loop through each row of the table\n",
        "#         cols = row.find_all(\"td\")\n",
        "#         if len(cols) > 1: # check if row contains university name\n",
        "            # name = cols[1].text.strip()\n",
        "            # if University.lower() in name.lower(): # check if entered university name matches the name in the row\n",
        "            #     usa_universities.append(True) # add True to the list if the university is in the USA\n",
        "            #     break\n",
        "#     else:\n",
        "#         usa_universities.append(False) # add False to the list if the university is not in the USA\n",
        "\n",
        "# # add a new column to the DataFrame indicating if the university is in the USA\n",
        "# concatenated_df[\"is_usa\"] = usa_universities\n",
        "\n",
        "# # filter out non-USA universities and keep only the USA universities in the DataFrame\n",
        "# concatenated_df = concatenated_df[concatenated_df[\"is_usa\"] == True]\n",
        "\n",
        "# # drop the \"is_usa\" column\n",
        "# concatenated_df = concatenated_df.drop(columns=[\"is_usa\"])\n",
        "\n",
        "# # # save the updated DataFrame to the original CSV file\n",
        "# # df.to_csv(\"universityData_trail4.csv\", index=False)\n",
        "\n",
        "# concatenated_df"
      ],
      "metadata": {
        "id": "HQMcvSoUabGo"
      },
      "id": "HQMcvSoUabGo",
      "execution_count": null,
      "outputs": []
    },
    {
      "cell_type": "code",
      "source": [],
      "metadata": {
        "id": "uJ92z_q0abDr"
      },
      "id": "uJ92z_q0abDr",
      "execution_count": null,
      "outputs": []
    }
  ],
  "metadata": {
    "kernelspec": {
      "display_name": "Python 3 (ipykernel)",
      "language": "python",
      "name": "python3"
    },
    "language_info": {
      "codemirror_mode": {
        "name": "ipython",
        "version": 3
      },
      "file_extension": ".py",
      "mimetype": "text/x-python",
      "name": "python",
      "nbconvert_exporter": "python",
      "pygments_lexer": "ipython3",
      "version": "3.9.13"
    },
    "colab": {
      "provenance": []
    }
  },
  "nbformat": 4,
  "nbformat_minor": 5
}